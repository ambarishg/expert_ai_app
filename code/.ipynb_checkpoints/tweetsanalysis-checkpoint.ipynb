{
 "cells": [
  {
   "cell_type": "code",
   "execution_count": 1,
   "id": "c6e45372",
   "metadata": {},
   "outputs": [],
   "source": [
    "import pandas as pd\n",
    "import numpy as np\n",
    "import re\n",
    "import string\n",
    "\n",
    "from expertai.nlapi.cloud.client import ExpertAiClient\n",
    "import os"
   ]
  },
  {
   "cell_type": "code",
   "execution_count": 2,
   "id": "3a1e1e79",
   "metadata": {},
   "outputs": [],
   "source": [
    "filename = \"Womens Clothing E-Commerce Reviews.csv\""
   ]
  },
  {
   "cell_type": "code",
   "execution_count": 3,
   "id": "d75e5274",
   "metadata": {},
   "outputs": [],
   "source": [
    "reviews = pd.read_csv(\"../input/\" + filename)"
   ]
  },
  {
   "cell_type": "code",
   "execution_count": 4,
   "id": "4e181dd7",
   "metadata": {},
   "outputs": [
    {
     "data": {
      "text/plain": [
       "(array(['Intimates', 'Dresses', 'Pants', 'Blouses', 'Knits', 'Outerwear',\n",
       "        'Lounge', 'Sweaters', 'Skirts', 'Fine gauge', 'Sleep', 'Jackets',\n",
       "        'Swim', 'Trend', 'Jeans', 'Legwear', 'Shorts', 'Layering',\n",
       "        'Casual bottoms', nan, 'Chemises'], dtype=object),\n",
       " 21)"
      ]
     },
     "execution_count": 4,
     "metadata": {},
     "output_type": "execute_result"
    }
   ],
   "source": [
    "reviews[\"Class Name\"].unique(),len(reviews[\"Class Name\"].unique())"
   ]
  },
  {
   "cell_type": "code",
   "execution_count": 5,
   "id": "2f2339aa",
   "metadata": {},
   "outputs": [],
   "source": [
    "os.environ[\"EAI_USERNAME\"] = 'ambarish.ganguly@gmail.com'\n",
    "os.environ[\"EAI_PASSWORD\"] = 'Ambarish@1234'"
   ]
  },
  {
   "cell_type": "code",
   "execution_count": 6,
   "id": "1c54d668",
   "metadata": {},
   "outputs": [],
   "source": [
    "def clean_text(text):\n",
    "    '''Make text lowercase,remove punctuation\n",
    "    .'''\n",
    "    text = str(text)\n",
    "    text = re.sub('[%s]' % re.escape(string.punctuation), ' ', text)\n",
    "    text = re.sub('\\n', ' ', text)\n",
    "    text = re.sub('\\r', ' ', text)\n",
    "    return text"
   ]
  },
  {
   "cell_type": "code",
   "execution_count": 7,
   "id": "749d9f50",
   "metadata": {},
   "outputs": [],
   "source": [
    "client = ExpertAiClient()\n",
    "language =\"en\""
   ]
  },
  {
   "cell_type": "code",
   "execution_count": 8,
   "id": "f28c18a7",
   "metadata": {},
   "outputs": [],
   "source": [
    "def sentiment_overall(client, text, language):\n",
    "    try:\n",
    "        input_text = str(text)\n",
    "        document = client.specific_resource_analysis(\n",
    "        body={\"document\": {\"text\": input_text}}, \n",
    "        params={'language':  language, 'resource': 'sentiment'\n",
    "       })\n",
    "        return document.sentiment.overall\n",
    "    except Exception as e: \n",
    "        print(str(e) +\": \" + str(text))"
   ]
  },
  {
   "cell_type": "code",
   "execution_count": 9,
   "id": "09b326ad",
   "metadata": {},
   "outputs": [],
   "source": [
    "def emotional_traits(client, text, language,taxonomy = \"emotional-traits\"):\n",
    "    input_text = str(text)\n",
    "    emotional_categories = \"\"\n",
    "    output = client.classification(body={\"document\": {\"text\": input_text}}, \n",
    "                                   params={'taxonomy': taxonomy, 'language': language})\n",
    "\n",
    "    for category in output.categories:\n",
    "        if(emotional_categories == \"\"):\n",
    "            emotional_categories = emotional_categories + str(category.hierarchy[-1])\n",
    "        else:\n",
    "            emotional_categories = emotional_categories + \" \" + str(category.hierarchy[-1])\n",
    "    \n",
    "    return(emotional_categories)"
   ]
  },
  {
   "cell_type": "code",
   "execution_count": 10,
   "id": "37ca5935",
   "metadata": {},
   "outputs": [],
   "source": [
    "def relevants(client, text, language):\n",
    "    input_text = str(text)\n",
    "    concepts = []\n",
    "    document  = client.specific_resource_analysis(body={\"document\": {\"text\": input_text}}, \n",
    "                                   params={'language': language, 'resource': 'relevants'})\n",
    "\n",
    "    for category in document.main_syncons:        \n",
    "        concepts.append(category.lemma)\n",
    "    \n",
    "    return(concepts)"
   ]
  },
  {
   "cell_type": "code",
   "execution_count": 11,
   "id": "974b4fd4",
   "metadata": {},
   "outputs": [],
   "source": [
    "def create_sentiment_traits(category,number_of_rows,filename):\n",
    "    reviews_cat = reviews[reviews[\"Class Name\"] == category]\n",
    "    \n",
    "    reviews_cat[\"Review Text\"] = reviews_cat[\"Review Text\"].apply(lambda x: clean_text(x))\n",
    "    \n",
    "    r = reviews_cat[:number_of_rows]\n",
    "    \n",
    "    r[\"sentiment_overall\"] = r[\"Review Text\"].apply(lambda x: sentiment_overall(client, x, language))\n",
    "    \n",
    "    r[\"emotional_traits\"] = r[\"Review Text\"].apply(lambda x: emotional_traits(client, x, language))\n",
    "    \n",
    "    taxonomy = \"behavioral-traits\"\n",
    "    r[\"behavioral_traits\"] = r[\"Review Text\"].apply(lambda x: emotional_traits(client, x, language,taxonomy))\n",
    "    \n",
    "    r[\"concepts\"] = r[\"Review Text\"].apply(lambda x: relevants(client, x, language))\n",
    "    \n",
    "    r = r.drop(columns =['Unnamed: 0'])\n",
    "    \n",
    "    r.to_csv(\"../output/\" + filename,index = False)"
   ]
  },
  {
   "cell_type": "code",
   "execution_count": 12,
   "id": "3393c571",
   "metadata": {},
   "outputs": [
    {
     "name": "stderr",
     "output_type": "stream",
     "text": [
      "<ipython-input-11-59755dd9fad1>:4: SettingWithCopyWarning: \n",
      "A value is trying to be set on a copy of a slice from a DataFrame.\n",
      "Try using .loc[row_indexer,col_indexer] = value instead\n",
      "\n",
      "See the caveats in the documentation: https://pandas.pydata.org/pandas-docs/stable/user_guide/indexing.html#returning-a-view-versus-a-copy\n",
      "  reviews_cat[\"Review Text\"] = reviews_cat[\"Review Text\"].apply(lambda x: clean_text(x))\n",
      "<ipython-input-11-59755dd9fad1>:8: SettingWithCopyWarning: \n",
      "A value is trying to be set on a copy of a slice from a DataFrame.\n",
      "Try using .loc[row_indexer,col_indexer] = value instead\n",
      "\n",
      "See the caveats in the documentation: https://pandas.pydata.org/pandas-docs/stable/user_guide/indexing.html#returning-a-view-versus-a-copy\n",
      "  r[\"sentiment_overall\"] = r[\"Review Text\"].apply(lambda x: sentiment_overall(client, x, language))\n",
      "<ipython-input-11-59755dd9fad1>:10: SettingWithCopyWarning: \n",
      "A value is trying to be set on a copy of a slice from a DataFrame.\n",
      "Try using .loc[row_indexer,col_indexer] = value instead\n",
      "\n",
      "See the caveats in the documentation: https://pandas.pydata.org/pandas-docs/stable/user_guide/indexing.html#returning-a-view-versus-a-copy\n",
      "  r[\"emotional_traits\"] = r[\"Review Text\"].apply(lambda x: emotional_traits(client, x, language))\n",
      "<ipython-input-11-59755dd9fad1>:13: SettingWithCopyWarning: \n",
      "A value is trying to be set on a copy of a slice from a DataFrame.\n",
      "Try using .loc[row_indexer,col_indexer] = value instead\n",
      "\n",
      "See the caveats in the documentation: https://pandas.pydata.org/pandas-docs/stable/user_guide/indexing.html#returning-a-view-versus-a-copy\n",
      "  r[\"behavioral_traits\"] = r[\"Review Text\"].apply(lambda x: emotional_traits(client, x, language,taxonomy))\n",
      "<ipython-input-11-59755dd9fad1>:15: SettingWithCopyWarning: \n",
      "A value is trying to be set on a copy of a slice from a DataFrame.\n",
      "Try using .loc[row_indexer,col_indexer] = value instead\n",
      "\n",
      "See the caveats in the documentation: https://pandas.pydata.org/pandas-docs/stable/user_guide/indexing.html#returning-a-view-versus-a-copy\n",
      "  r[\"concepts\"] = r[\"Review Text\"].apply(lambda x: relevants(client, x, language))\n"
     ]
    }
   ],
   "source": [
    "create_sentiment_traits(\"Dresses\",500,\"dress_sentiment_traits.csv\")"
   ]
  },
  {
   "cell_type": "code",
   "execution_count": 13,
   "id": "0a29e7d4",
   "metadata": {},
   "outputs": [
    {
     "name": "stderr",
     "output_type": "stream",
     "text": [
      "<ipython-input-11-59755dd9fad1>:4: SettingWithCopyWarning: \n",
      "A value is trying to be set on a copy of a slice from a DataFrame.\n",
      "Try using .loc[row_indexer,col_indexer] = value instead\n",
      "\n",
      "See the caveats in the documentation: https://pandas.pydata.org/pandas-docs/stable/user_guide/indexing.html#returning-a-view-versus-a-copy\n",
      "  reviews_cat[\"Review Text\"] = reviews_cat[\"Review Text\"].apply(lambda x: clean_text(x))\n",
      "<ipython-input-11-59755dd9fad1>:8: SettingWithCopyWarning: \n",
      "A value is trying to be set on a copy of a slice from a DataFrame.\n",
      "Try using .loc[row_indexer,col_indexer] = value instead\n",
      "\n",
      "See the caveats in the documentation: https://pandas.pydata.org/pandas-docs/stable/user_guide/indexing.html#returning-a-view-versus-a-copy\n",
      "  r[\"sentiment_overall\"] = r[\"Review Text\"].apply(lambda x: sentiment_overall(client, x, language))\n",
      "<ipython-input-11-59755dd9fad1>:10: SettingWithCopyWarning: \n",
      "A value is trying to be set on a copy of a slice from a DataFrame.\n",
      "Try using .loc[row_indexer,col_indexer] = value instead\n",
      "\n",
      "See the caveats in the documentation: https://pandas.pydata.org/pandas-docs/stable/user_guide/indexing.html#returning-a-view-versus-a-copy\n",
      "  r[\"emotional_traits\"] = r[\"Review Text\"].apply(lambda x: emotional_traits(client, x, language))\n",
      "<ipython-input-11-59755dd9fad1>:13: SettingWithCopyWarning: \n",
      "A value is trying to be set on a copy of a slice from a DataFrame.\n",
      "Try using .loc[row_indexer,col_indexer] = value instead\n",
      "\n",
      "See the caveats in the documentation: https://pandas.pydata.org/pandas-docs/stable/user_guide/indexing.html#returning-a-view-versus-a-copy\n",
      "  r[\"behavioral_traits\"] = r[\"Review Text\"].apply(lambda x: emotional_traits(client, x, language,taxonomy))\n",
      "<ipython-input-11-59755dd9fad1>:15: SettingWithCopyWarning: \n",
      "A value is trying to be set on a copy of a slice from a DataFrame.\n",
      "Try using .loc[row_indexer,col_indexer] = value instead\n",
      "\n",
      "See the caveats in the documentation: https://pandas.pydata.org/pandas-docs/stable/user_guide/indexing.html#returning-a-view-versus-a-copy\n",
      "  r[\"concepts\"] = r[\"Review Text\"].apply(lambda x: relevants(client, x, language))\n"
     ]
    }
   ],
   "source": [
    "create_sentiment_traits(\"Intimates\",500,\"intimates_sentiment_traits.csv\")"
   ]
  },
  {
   "cell_type": "code",
   "execution_count": 17,
   "id": "5b12e244",
   "metadata": {},
   "outputs": [
    {
     "name": "stderr",
     "output_type": "stream",
     "text": [
      "<ipython-input-11-59755dd9fad1>:4: SettingWithCopyWarning: \n",
      "A value is trying to be set on a copy of a slice from a DataFrame.\n",
      "Try using .loc[row_indexer,col_indexer] = value instead\n",
      "\n",
      "See the caveats in the documentation: https://pandas.pydata.org/pandas-docs/stable/user_guide/indexing.html#returning-a-view-versus-a-copy\n",
      "  reviews_cat[\"Review Text\"] = reviews_cat[\"Review Text\"].apply(lambda x: clean_text(x))\n",
      "<ipython-input-11-59755dd9fad1>:8: SettingWithCopyWarning: \n",
      "A value is trying to be set on a copy of a slice from a DataFrame.\n",
      "Try using .loc[row_indexer,col_indexer] = value instead\n",
      "\n",
      "See the caveats in the documentation: https://pandas.pydata.org/pandas-docs/stable/user_guide/indexing.html#returning-a-view-versus-a-copy\n",
      "  r[\"sentiment_overall\"] = r[\"Review Text\"].apply(lambda x: sentiment_overall(client, x, language))\n",
      "<ipython-input-11-59755dd9fad1>:10: SettingWithCopyWarning: \n",
      "A value is trying to be set on a copy of a slice from a DataFrame.\n",
      "Try using .loc[row_indexer,col_indexer] = value instead\n",
      "\n",
      "See the caveats in the documentation: https://pandas.pydata.org/pandas-docs/stable/user_guide/indexing.html#returning-a-view-versus-a-copy\n",
      "  r[\"emotional_traits\"] = r[\"Review Text\"].apply(lambda x: emotional_traits(client, x, language))\n",
      "<ipython-input-11-59755dd9fad1>:13: SettingWithCopyWarning: \n",
      "A value is trying to be set on a copy of a slice from a DataFrame.\n",
      "Try using .loc[row_indexer,col_indexer] = value instead\n",
      "\n",
      "See the caveats in the documentation: https://pandas.pydata.org/pandas-docs/stable/user_guide/indexing.html#returning-a-view-versus-a-copy\n",
      "  r[\"behavioral_traits\"] = r[\"Review Text\"].apply(lambda x: emotional_traits(client, x, language,taxonomy))\n",
      "<ipython-input-11-59755dd9fad1>:15: SettingWithCopyWarning: \n",
      "A value is trying to be set on a copy of a slice from a DataFrame.\n",
      "Try using .loc[row_indexer,col_indexer] = value instead\n",
      "\n",
      "See the caveats in the documentation: https://pandas.pydata.org/pandas-docs/stable/user_guide/indexing.html#returning-a-view-versus-a-copy\n",
      "  r[\"concepts\"] = r[\"Review Text\"].apply(lambda x: relevants(client, x, language))\n"
     ]
    }
   ],
   "source": [
    "create_sentiment_traits(\"Pants\",500,\"pants_sentiment_traits.csv\")"
   ]
  },
  {
   "cell_type": "code",
   "execution_count": 18,
   "id": "32a9a9fa",
   "metadata": {},
   "outputs": [
    {
     "name": "stderr",
     "output_type": "stream",
     "text": [
      "<ipython-input-11-59755dd9fad1>:4: SettingWithCopyWarning: \n",
      "A value is trying to be set on a copy of a slice from a DataFrame.\n",
      "Try using .loc[row_indexer,col_indexer] = value instead\n",
      "\n",
      "See the caveats in the documentation: https://pandas.pydata.org/pandas-docs/stable/user_guide/indexing.html#returning-a-view-versus-a-copy\n",
      "  reviews_cat[\"Review Text\"] = reviews_cat[\"Review Text\"].apply(lambda x: clean_text(x))\n",
      "<ipython-input-11-59755dd9fad1>:8: SettingWithCopyWarning: \n",
      "A value is trying to be set on a copy of a slice from a DataFrame.\n",
      "Try using .loc[row_indexer,col_indexer] = value instead\n",
      "\n",
      "See the caveats in the documentation: https://pandas.pydata.org/pandas-docs/stable/user_guide/indexing.html#returning-a-view-versus-a-copy\n",
      "  r[\"sentiment_overall\"] = r[\"Review Text\"].apply(lambda x: sentiment_overall(client, x, language))\n",
      "<ipython-input-11-59755dd9fad1>:10: SettingWithCopyWarning: \n",
      "A value is trying to be set on a copy of a slice from a DataFrame.\n",
      "Try using .loc[row_indexer,col_indexer] = value instead\n",
      "\n",
      "See the caveats in the documentation: https://pandas.pydata.org/pandas-docs/stable/user_guide/indexing.html#returning-a-view-versus-a-copy\n",
      "  r[\"emotional_traits\"] = r[\"Review Text\"].apply(lambda x: emotional_traits(client, x, language))\n",
      "<ipython-input-11-59755dd9fad1>:13: SettingWithCopyWarning: \n",
      "A value is trying to be set on a copy of a slice from a DataFrame.\n",
      "Try using .loc[row_indexer,col_indexer] = value instead\n",
      "\n",
      "See the caveats in the documentation: https://pandas.pydata.org/pandas-docs/stable/user_guide/indexing.html#returning-a-view-versus-a-copy\n",
      "  r[\"behavioral_traits\"] = r[\"Review Text\"].apply(lambda x: emotional_traits(client, x, language,taxonomy))\n",
      "<ipython-input-11-59755dd9fad1>:15: SettingWithCopyWarning: \n",
      "A value is trying to be set on a copy of a slice from a DataFrame.\n",
      "Try using .loc[row_indexer,col_indexer] = value instead\n",
      "\n",
      "See the caveats in the documentation: https://pandas.pydata.org/pandas-docs/stable/user_guide/indexing.html#returning-a-view-versus-a-copy\n",
      "  r[\"concepts\"] = r[\"Review Text\"].apply(lambda x: relevants(client, x, language))\n"
     ]
    }
   ],
   "source": [
    "create_sentiment_traits(\"Jeans\",500,\"jeans_sentiment_traits.csv\")"
   ]
  },
  {
   "cell_type": "code",
   "execution_count": 19,
   "id": "0a22a177",
   "metadata": {},
   "outputs": [
    {
     "name": "stderr",
     "output_type": "stream",
     "text": [
      "<ipython-input-11-59755dd9fad1>:4: SettingWithCopyWarning: \n",
      "A value is trying to be set on a copy of a slice from a DataFrame.\n",
      "Try using .loc[row_indexer,col_indexer] = value instead\n",
      "\n",
      "See the caveats in the documentation: https://pandas.pydata.org/pandas-docs/stable/user_guide/indexing.html#returning-a-view-versus-a-copy\n",
      "  reviews_cat[\"Review Text\"] = reviews_cat[\"Review Text\"].apply(lambda x: clean_text(x))\n",
      "<ipython-input-11-59755dd9fad1>:8: SettingWithCopyWarning: \n",
      "A value is trying to be set on a copy of a slice from a DataFrame.\n",
      "Try using .loc[row_indexer,col_indexer] = value instead\n",
      "\n",
      "See the caveats in the documentation: https://pandas.pydata.org/pandas-docs/stable/user_guide/indexing.html#returning-a-view-versus-a-copy\n",
      "  r[\"sentiment_overall\"] = r[\"Review Text\"].apply(lambda x: sentiment_overall(client, x, language))\n",
      "<ipython-input-11-59755dd9fad1>:10: SettingWithCopyWarning: \n",
      "A value is trying to be set on a copy of a slice from a DataFrame.\n",
      "Try using .loc[row_indexer,col_indexer] = value instead\n",
      "\n",
      "See the caveats in the documentation: https://pandas.pydata.org/pandas-docs/stable/user_guide/indexing.html#returning-a-view-versus-a-copy\n",
      "  r[\"emotional_traits\"] = r[\"Review Text\"].apply(lambda x: emotional_traits(client, x, language))\n",
      "<ipython-input-11-59755dd9fad1>:13: SettingWithCopyWarning: \n",
      "A value is trying to be set on a copy of a slice from a DataFrame.\n",
      "Try using .loc[row_indexer,col_indexer] = value instead\n",
      "\n",
      "See the caveats in the documentation: https://pandas.pydata.org/pandas-docs/stable/user_guide/indexing.html#returning-a-view-versus-a-copy\n",
      "  r[\"behavioral_traits\"] = r[\"Review Text\"].apply(lambda x: emotional_traits(client, x, language,taxonomy))\n",
      "<ipython-input-11-59755dd9fad1>:15: SettingWithCopyWarning: \n",
      "A value is trying to be set on a copy of a slice from a DataFrame.\n",
      "Try using .loc[row_indexer,col_indexer] = value instead\n",
      "\n",
      "See the caveats in the documentation: https://pandas.pydata.org/pandas-docs/stable/user_guide/indexing.html#returning-a-view-versus-a-copy\n",
      "  r[\"concepts\"] = r[\"Review Text\"].apply(lambda x: relevants(client, x, language))\n"
     ]
    }
   ],
   "source": [
    "create_sentiment_traits(\"Swim\",500,\"swim_sentiment_traits.csv\")"
   ]
  },
  {
   "cell_type": "code",
   "execution_count": 21,
   "id": "c88a04d1",
   "metadata": {},
   "outputs": [
    {
     "name": "stderr",
     "output_type": "stream",
     "text": [
      "<ipython-input-11-59755dd9fad1>:4: SettingWithCopyWarning: \n",
      "A value is trying to be set on a copy of a slice from a DataFrame.\n",
      "Try using .loc[row_indexer,col_indexer] = value instead\n",
      "\n",
      "See the caveats in the documentation: https://pandas.pydata.org/pandas-docs/stable/user_guide/indexing.html#returning-a-view-versus-a-copy\n",
      "  reviews_cat[\"Review Text\"] = reviews_cat[\"Review Text\"].apply(lambda x: clean_text(x))\n",
      "<ipython-input-11-59755dd9fad1>:8: SettingWithCopyWarning: \n",
      "A value is trying to be set on a copy of a slice from a DataFrame.\n",
      "Try using .loc[row_indexer,col_indexer] = value instead\n",
      "\n",
      "See the caveats in the documentation: https://pandas.pydata.org/pandas-docs/stable/user_guide/indexing.html#returning-a-view-versus-a-copy\n",
      "  r[\"sentiment_overall\"] = r[\"Review Text\"].apply(lambda x: sentiment_overall(client, x, language))\n",
      "<ipython-input-11-59755dd9fad1>:10: SettingWithCopyWarning: \n",
      "A value is trying to be set on a copy of a slice from a DataFrame.\n",
      "Try using .loc[row_indexer,col_indexer] = value instead\n",
      "\n",
      "See the caveats in the documentation: https://pandas.pydata.org/pandas-docs/stable/user_guide/indexing.html#returning-a-view-versus-a-copy\n",
      "  r[\"emotional_traits\"] = r[\"Review Text\"].apply(lambda x: emotional_traits(client, x, language))\n",
      "<ipython-input-11-59755dd9fad1>:13: SettingWithCopyWarning: \n",
      "A value is trying to be set on a copy of a slice from a DataFrame.\n",
      "Try using .loc[row_indexer,col_indexer] = value instead\n",
      "\n",
      "See the caveats in the documentation: https://pandas.pydata.org/pandas-docs/stable/user_guide/indexing.html#returning-a-view-versus-a-copy\n",
      "  r[\"behavioral_traits\"] = r[\"Review Text\"].apply(lambda x: emotional_traits(client, x, language,taxonomy))\n",
      "<ipython-input-11-59755dd9fad1>:15: SettingWithCopyWarning: \n",
      "A value is trying to be set on a copy of a slice from a DataFrame.\n",
      "Try using .loc[row_indexer,col_indexer] = value instead\n",
      "\n",
      "See the caveats in the documentation: https://pandas.pydata.org/pandas-docs/stable/user_guide/indexing.html#returning-a-view-versus-a-copy\n",
      "  r[\"concepts\"] = r[\"Review Text\"].apply(lambda x: relevants(client, x, language))\n"
     ]
    }
   ],
   "source": [
    "create_sentiment_traits(\"Blouses\",500,\"blouses_sentiment_traits.csv\")"
   ]
  },
  {
   "cell_type": "code",
   "execution_count": 22,
   "id": "aad896c6",
   "metadata": {},
   "outputs": [
    {
     "name": "stderr",
     "output_type": "stream",
     "text": [
      "<ipython-input-11-59755dd9fad1>:4: SettingWithCopyWarning: \n",
      "A value is trying to be set on a copy of a slice from a DataFrame.\n",
      "Try using .loc[row_indexer,col_indexer] = value instead\n",
      "\n",
      "See the caveats in the documentation: https://pandas.pydata.org/pandas-docs/stable/user_guide/indexing.html#returning-a-view-versus-a-copy\n",
      "  reviews_cat[\"Review Text\"] = reviews_cat[\"Review Text\"].apply(lambda x: clean_text(x))\n",
      "<ipython-input-11-59755dd9fad1>:8: SettingWithCopyWarning: \n",
      "A value is trying to be set on a copy of a slice from a DataFrame.\n",
      "Try using .loc[row_indexer,col_indexer] = value instead\n",
      "\n",
      "See the caveats in the documentation: https://pandas.pydata.org/pandas-docs/stable/user_guide/indexing.html#returning-a-view-versus-a-copy\n",
      "  r[\"sentiment_overall\"] = r[\"Review Text\"].apply(lambda x: sentiment_overall(client, x, language))\n",
      "<ipython-input-11-59755dd9fad1>:10: SettingWithCopyWarning: \n",
      "A value is trying to be set on a copy of a slice from a DataFrame.\n",
      "Try using .loc[row_indexer,col_indexer] = value instead\n",
      "\n",
      "See the caveats in the documentation: https://pandas.pydata.org/pandas-docs/stable/user_guide/indexing.html#returning-a-view-versus-a-copy\n",
      "  r[\"emotional_traits\"] = r[\"Review Text\"].apply(lambda x: emotional_traits(client, x, language))\n",
      "<ipython-input-11-59755dd9fad1>:13: SettingWithCopyWarning: \n",
      "A value is trying to be set on a copy of a slice from a DataFrame.\n",
      "Try using .loc[row_indexer,col_indexer] = value instead\n",
      "\n",
      "See the caveats in the documentation: https://pandas.pydata.org/pandas-docs/stable/user_guide/indexing.html#returning-a-view-versus-a-copy\n",
      "  r[\"behavioral_traits\"] = r[\"Review Text\"].apply(lambda x: emotional_traits(client, x, language,taxonomy))\n",
      "<ipython-input-11-59755dd9fad1>:15: SettingWithCopyWarning: \n",
      "A value is trying to be set on a copy of a slice from a DataFrame.\n",
      "Try using .loc[row_indexer,col_indexer] = value instead\n",
      "\n",
      "See the caveats in the documentation: https://pandas.pydata.org/pandas-docs/stable/user_guide/indexing.html#returning-a-view-versus-a-copy\n",
      "  r[\"concepts\"] = r[\"Review Text\"].apply(lambda x: relevants(client, x, language))\n"
     ]
    }
   ],
   "source": [
    "create_sentiment_traits(\"Knits\",500,\"knits_sentiment_traits.csv\")"
   ]
  },
  {
   "cell_type": "code",
   "execution_count": 25,
   "id": "9491514c",
   "metadata": {},
   "outputs": [
    {
     "name": "stderr",
     "output_type": "stream",
     "text": [
      "<ipython-input-11-59755dd9fad1>:4: SettingWithCopyWarning: \n",
      "A value is trying to be set on a copy of a slice from a DataFrame.\n",
      "Try using .loc[row_indexer,col_indexer] = value instead\n",
      "\n",
      "See the caveats in the documentation: https://pandas.pydata.org/pandas-docs/stable/user_guide/indexing.html#returning-a-view-versus-a-copy\n",
      "  reviews_cat[\"Review Text\"] = reviews_cat[\"Review Text\"].apply(lambda x: clean_text(x))\n",
      "Response status code: 403\n"
     ]
    },
    {
     "name": "stdout",
     "output_type": "stream",
     "text": [
      "Response status code: 403: I aded this in my basket at hte last mintue to see what it would look like in person   store pick up   i went with teh darkler color only because i am so pale     hte color is really gorgeous  and turns out it mathced everythiing i was trying on with it prefectly  it is a little baggy on me and hte xs is hte msallet size  bummer  no petite   i decided to jkeep it though  because as i said  it matvehd everything  my ejans  pants  and the 3 skirts i waas trying on  of which i  kept all   oops \n"
     ]
    },
    {
     "name": "stderr",
     "output_type": "stream",
     "text": [
      "Response status code: 403\n"
     ]
    },
    {
     "name": "stdout",
     "output_type": "stream",
     "text": [
      "Response status code: 403: I ordered this in carbon for store pick up  and had a ton of stuff  as always  to try on and used this top to pair  skirts and pants   everything went with it  the color is really nice charcoal with shimmer  and went well with pencil skirts  flare pants  etc  my only compaint is it is a bit big  sleeves are long and it doesn t go in petite  also a bit loose for me  but no xxs    so i kept it and wil ldecide later since the light color is already sold out in hte smallest size   \n"
     ]
    },
    {
     "name": "stderr",
     "output_type": "stream",
     "text": [
      "Response status code: 403\n"
     ]
    },
    {
     "name": "stdout",
     "output_type": "stream",
     "text": [
      "Response status code: 403: Great casual top with flare  looks cute with grey pilcro stet jeans  flattering with peplum in back  nice cut for shoulders and neckline \n"
     ]
    },
    {
     "name": "stderr",
     "output_type": "stream",
     "text": [
      "Response status code: 403\n"
     ]
    },
    {
     "name": "stdout",
     "output_type": "stream",
     "text": [
      "Response status code: 403: Pretty and unique  great with jeans or i have worn it to work with slacks and heels  the colors  print  and embroidery are lovely  reasonably priced \n"
     ]
    },
    {
     "name": "stderr",
     "output_type": "stream",
     "text": [
      "Response status code: 403\n"
     ]
    },
    {
     "name": "stdout",
     "output_type": "stream",
     "text": [
      "Response status code: 403: This is a beautiful top  it s unique and not so ordinary  i bought my usual medium and i found that it fits tight across my chest  although i had a baby this year and i am nursing  so that could be why  if i bought again i would size up \n"
     ]
    },
    {
     "name": "stderr",
     "output_type": "stream",
     "text": [
      "Response status code: 403\n"
     ]
    },
    {
     "name": "stdout",
     "output_type": "stream",
     "text": [
      "Response status code: 403: Tried this on today at my local retailer and had to have it  it is so comfortable and flattering  it s too bad the picture online has the model tucking it into the skirt because you can t see the ruching across the front  a little dressier alternative to a plain tee and reasonably priced for retailer  5 8   and i generally wear a 6  the small fit well  will probably be back for the black \n"
     ]
    },
    {
     "name": "stderr",
     "output_type": "stream",
     "text": [
      "Response status code: 403\n"
     ]
    },
    {
     "name": "stdout",
     "output_type": "stream",
     "text": [
      "Response status code: 403: I bought this item from online    the fit on the model looked a little loose but when i got mine it seemed a bit tight  so i took it back to the store   ordered a larger size  for the sale price this is a great top \n"
     ]
    },
    {
     "name": "stderr",
     "output_type": "stream",
     "text": [
      "Response status code: 403\n"
     ]
    },
    {
     "name": "stdout",
     "output_type": "stream",
     "text": [
      "Response status code: 403: I love this top  i wear it all the time   the problem is that you can tell i wear it all the time as the fabric has started to fade   i d still recommend it as it is so comfortable \n"
     ]
    },
    {
     "name": "stderr",
     "output_type": "stream",
     "text": [
      "Response status code: 403\n"
     ]
    },
    {
     "name": "stdout",
     "output_type": "stream",
     "text": [
      "Response status code: 403: Really cute top  the embroidery on the collar   bib of this top is beautiful and unique  received lots of compliments   questions about where i got it  i m rather busty up top and the medium fit well  a small probably would ve fit better but it s still super adorable \n"
     ]
    },
    {
     "name": "stderr",
     "output_type": "stream",
     "text": [
      "Response status code: 403\n"
     ]
    },
    {
     "name": "stdout",
     "output_type": "stream",
     "text": [
      "Response status code: 403: This is a cute top that can transition easily from summer to fall  it fits well  nice print and it s comfortable  i tried this on in the store  but did not purchase it because the color washed me out  this is not the best color for a blonde  would look much better on a brunette  if this was in a different color i most likely would have purchased it \n"
     ]
    },
    {
     "name": "stderr",
     "output_type": "stream",
     "text": [
      "Response status code: 403\n"
     ]
    },
    {
     "name": "stdout",
     "output_type": "stream",
     "text": [
      "Response status code: 403: I absolutely love this bib tee  it s probably my favorite retailer purchase of all time  i m 5 7   140 pounds and the small was a perfect fit for me  i typically wear either a s or m tops \n"
     ]
    },
    {
     "name": "stderr",
     "output_type": "stream",
     "text": [
      "Response status code: 403\n"
     ]
    },
    {
     "name": "stdout",
     "output_type": "stream",
     "text": [
      "Response status code: 403: Very soft and comfortable  the shirt has an unusual  asymmetrical seam that appears along the front  right hand side of the garment   the model is positioned so that you can t see this detail from the picture  i attached a picture that includes the front seam   i actually like the seam   it creates more visual interest  and adds a little bit of ruching that helps hide my belly  the cowl neck is very well done   there are two layers that form the cowl  and i ve found that it means wardrobe malfun\n"
     ]
    },
    {
     "name": "stderr",
     "output_type": "stream",
     "text": [
      "Response status code: 403\n"
     ]
    },
    {
     "name": "stdout",
     "output_type": "stream",
     "text": [
      "Response status code: 403: Nice top  armholes are a bit oversized but as an older woman  i m picky about that  the print is pretty and unusual  it just didn t look great on me  there s a slight peplum in the back that hangs nicely  it s a lightweight tee fabric that s opaque  i tried it on with a black bra which was barely visible  great for warmer climates but there are so many gorgeous tops out now  that i decided to return since summer is winding down  i do recommend \n"
     ]
    },
    {
     "name": "stderr",
     "output_type": "stream",
     "text": [
      "Response status code: 403\n"
     ]
    },
    {
     "name": "stdout",
     "output_type": "stream",
     "text": [
      "Response status code: 403: This is an adorable top that i find to be extremely comfortable  i don t usually buy prints but this one is so feminine and looks great with dark wash jeans  i am a 36d and the medium was a perfect fit \n"
     ]
    },
    {
     "name": "stderr",
     "output_type": "stream",
     "text": [
      "Response status code: 403\n"
     ]
    },
    {
     "name": "stdout",
     "output_type": "stream",
     "text": [
      "Response status code: 403: This tank fit well and i loved the ruffle in the back and how it layed  but the front was not a good look and i will be retuning it \n"
     ]
    },
    {
     "name": "stderr",
     "output_type": "stream",
     "text": [
      "Response status code: 403\n"
     ]
    },
    {
     "name": "stdout",
     "output_type": "stream",
     "text": [
      "Response status code: 403: I recently got this on sale after looking at it forever on my wish list  i m so happy with it  its very comfortable and just long enough for my torso  5 3   the pattern on the front is very flattering \n"
     ]
    },
    {
     "name": "stderr",
     "output_type": "stream",
     "text": [
      "Response status code: 403\n"
     ]
    },
    {
     "name": "stdout",
     "output_type": "stream",
     "text": [
      "Response status code: 403: Very comfortable shirt  light weight top with lovely floral colors  great for spring summer with white jeans  love everything one september makes \n"
     ]
    },
    {
     "name": "stderr",
     "output_type": "stream",
     "text": [
      "Response status code: 403\n"
     ]
    },
    {
     "name": "stdout",
     "output_type": "stream",
     "text": [
      "Response status code: 403: Loved this top and was really happy to find it on sale \n"
     ]
    },
    {
     "name": "stderr",
     "output_type": "stream",
     "text": [
      "Response status code: 403\n"
     ]
    },
    {
     "name": "stdout",
     "output_type": "stream",
     "text": [
      "Response status code: 403: Beautiful top  but delicate  i wore it to school and the straps on my backpack caused some pilling  other than that it is beautiful and vibrant  just make sure you aren t doing wearing anything that will rub it continuously since the fabric is delicate\n"
     ]
    },
    {
     "name": "stderr",
     "output_type": "stream",
     "text": [
      "Response status code: 403\n"
     ]
    },
    {
     "name": "stdout",
     "output_type": "stream",
     "text": [
      "Response status code: 403: Just received this in the mail  tried it on and am smitten  i m usually a l  but sometimes i m a xl  if no stretch   in retailer tops  i bought this one in l and i m sure glad i did  very flowy  stretchy and comfortable  i also bought the meda lace top from one september and they are very similar expect this is more of a t shirt and the other is more of a blouse  i almost think i could ve gotten a m in this because there is a lot of extra fabric at the chest which is usually never the issue for me\n"
     ]
    },
    {
     "name": "stderr",
     "output_type": "stream",
     "text": [
      "Response status code: 403\n"
     ]
    },
    {
     "name": "stdout",
     "output_type": "stream",
     "text": [
      "Response status code: 403: Love this top  i kept eyeing it online and wavering on size  since my post baby body is a little wonky  i went with the xsp  and miraculously  it works perfectly  so  i would say it does run just a little large      i love the length  and usually do not go with petite sizes at retailer because i like the longer lengths of the regular  but this is perfect on me  and there is give up top  so it looks lovely  and it is very soft and comfortable  this will be a go to top this season \n"
     ]
    },
    {
     "name": "stderr",
     "output_type": "stream",
     "text": [
      "Response status code: 403\n"
     ]
    },
    {
     "name": "stdout",
     "output_type": "stream",
     "text": [
      "Response status code: 403: I really loved this top online and wanted to love it in person  it is soft and the patter is okay in person  the neckline is higher than i am used to  also  there are two buttons in the back that must be unbuttoned in order to wear the top  it is difficult to button them behind your neck with the top on  unfortunately i had to return this item   \n"
     ]
    },
    {
     "name": "stderr",
     "output_type": "stream",
     "text": [
      "Response status code: 403\n"
     ]
    },
    {
     "name": "stdout",
     "output_type": "stream",
     "text": [
      "Response status code: 403: I love this top  it is loose and comfortable  it is not sheer so you don t need a cami  it runs a little large so size down if you want a more tailored fit  1 criticism  it catches on sharp jewelry or belts and can pull if you are not careful \n"
     ]
    },
    {
     "name": "stderr",
     "output_type": "stream",
     "text": [
      "Response status code: 403\n"
     ]
    },
    {
     "name": "stdout",
     "output_type": "stream",
     "text": [
      "Response status code: 403: Loved this top  great design  comfortable and unique  soft material\n"
     ]
    },
    {
     "name": "stderr",
     "output_type": "stream",
     "text": [
      "Response status code: 403\n"
     ]
    },
    {
     "name": "stdout",
     "output_type": "stream",
     "text": [
      "Response status code: 403: I received this shirt in my typical xs and it fits perfectly  i m not crazy in love with it but i also don t dislike  the shirt is on the thin side  do i need to wear a cami underneath it  no  my concern is holes  it does remind me of a material that could develop some holes after some wear and washes  with that being said i ll wash this shirt in cold water and hang dry and hopefully that will prevent holes from developing  the length is fine and i do like the slits in front it adds a little dim\n"
     ]
    },
    {
     "name": "stderr",
     "output_type": "stream",
     "text": [
      "Response status code: 403\n"
     ]
    },
    {
     "name": "stdout",
     "output_type": "stream",
     "text": [
      "Response status code: 403: I was really hoping to like this  but it did not look the way it does on the model  at least not on me  the sharkbite hem is much more pronounced and looser  the one in the photo looks like it was pinned back  i am 5 8  and usually wear a medium or large  i got a medium and there was a lot more material on the bottom half than the photo shows  it made me look bigger and was not flattering  material has a nice weave but it s thin and delicate  i bought the  holly  deep olive and the blue  colors\n"
     ]
    },
    {
     "name": "stderr",
     "output_type": "stream",
     "text": [
      "Response status code: 403\n"
     ]
    },
    {
     "name": "stdout",
     "output_type": "stream",
     "text": [
      "Response status code: 403: nan\n"
     ]
    },
    {
     "name": "stderr",
     "output_type": "stream",
     "text": [
      "Response status code: 403\n"
     ]
    },
    {
     "name": "stdout",
     "output_type": "stream",
     "text": [
      "Response status code: 403: Purchased this top online  and when i received it was very pleased   it has and elegant cut and yet is a casual fabric   love that the sleeves run longer      ads to the overall look   also loved the v neckline         enhances the feel of the overall style   with various necklaces this top has limitless options   the color states moss    which i usually think of as greenish brown      i found it to be more of a taupe   would have liked it to have a green tones  however it is still a fantastic f\n"
     ]
    },
    {
     "name": "stderr",
     "output_type": "stream",
     "text": [
      "Response status code: 403\n"
     ]
    },
    {
     "name": "stdout",
     "output_type": "stream",
     "text": [
      "Response status code: 403: I was very excited to order this top in red xs  so cute  but it was huge  shapeless and support thin  it had to go back  i should ve looked at other reviews \n"
     ]
    },
    {
     "name": "stderr",
     "output_type": "stream",
     "text": [
      "Response status code: 403\n"
     ]
    },
    {
     "name": "stdout",
     "output_type": "stream",
     "text": [
      "Response status code: 403: I am in need of easy comfortable tops for everyday wear  i bought this top mostly because of the cute buttons  when i received it  it looked exactly as it does in the picture online  however  the buttons kept slipping out of their homes because the holes were slightly too big  the shirt fit but was just a tad snug near the upper arms  which would stretch and loosen up throughout the day  it s definitely a comfortable shirt  but it felt more like a pajama top  it s going back \n"
     ]
    },
    {
     "name": "stderr",
     "output_type": "stream",
     "text": [
      "Response status code: 403\n"
     ]
    },
    {
     "name": "stdout",
     "output_type": "stream",
     "text": [
      "Response status code: 403: At first i wasn t sure about it  the neckline is much lower and wavy than i thought  but after wearing it  it really is comfortable  it stretches a lot  so i wear a cami underneath so when i lean forward i m not showing the world my torso \n"
     ]
    },
    {
     "name": "stderr",
     "output_type": "stream",
     "text": [
      "Response status code: 403\n"
     ]
    },
    {
     "name": "stdout",
     "output_type": "stream",
     "text": [
      "Response status code: 403: I find that this brand can be a little bit all over the place with sizes  had i tried this on in person i may have bought it in a small instead of a m  despite being a bit big it still looks great and hides my flaws well  i bought a m in another shirt from them  the seamed scoop neck  and that shirt was a full 2 inches smaller in the bust than this  just something to keep in mind  still a great shirt  love the neutral color \n"
     ]
    },
    {
     "name": "stderr",
     "output_type": "stream",
     "text": [
      "Response status code: 403\n"
     ]
    },
    {
     "name": "stdout",
     "output_type": "stream",
     "text": [
      "Response status code: 403: Runs big and looked unflattering  i am petite  might work on someone taller \n"
     ]
    },
    {
     "name": "stderr",
     "output_type": "stream",
     "text": [
      "Response status code: 403\n"
     ]
    },
    {
     "name": "stdout",
     "output_type": "stream",
     "text": [
      "Response status code: 403: This is so thin and poor quality  especially for the price  it felt like a thin pajama top  the buttons are terrible little shell buttons  this could not have been returned faster \n"
     ]
    },
    {
     "name": "stderr",
     "output_type": "stream",
     "text": [
      "Response status code: 403\n"
     ]
    },
    {
     "name": "stdout",
     "output_type": "stream",
     "text": [
      "Response status code: 403: This one totally worked for me  love the color  length  and style \n"
     ]
    },
    {
     "name": "stderr",
     "output_type": "stream",
     "text": [
      "Response status code: 403\n"
     ]
    },
    {
     "name": "stdout",
     "output_type": "stream",
     "text": [
      "Response status code: 403: The perfect striped t shirt  and the cute little buttons down the front are a wonderful accent with each one being different  i love it \n"
     ]
    },
    {
     "name": "stderr",
     "output_type": "stream",
     "text": [
      "Response status code: 403\n"
     ]
    },
    {
     "name": "stdout",
     "output_type": "stream",
     "text": [
      "Response status code: 403: This top is super comfy and casual  the slit design in the front gives it more of a stylish look than your average white long sleeve tee  would definitely recommend \n"
     ]
    },
    {
     "name": "stderr",
     "output_type": "stream",
     "text": [
      "Response status code: 403\n"
     ]
    },
    {
     "name": "stdout",
     "output_type": "stream",
     "text": [
      "Response status code: 403: In my retailer this was hung over in the pj section  and it really has more of a jammie top feel    soft  thin and stretchy  it s super cozy and comfortable and it drapes really nice  mine seems to have stretched out a little  especially the neckline  and the little buttons have a hard time staying closed   i m happy with it though for what it is   a great  casual day t \n"
     ]
    },
    {
     "name": "stderr",
     "output_type": "stream",
     "text": [
      "Response status code: 403\n"
     ]
    },
    {
     "name": "stdout",
     "output_type": "stream",
     "text": [
      "Response status code: 403: nan\n"
     ]
    },
    {
     "name": "stderr",
     "output_type": "stream",
     "text": [
      "Response status code: 403\n"
     ]
    },
    {
     "name": "stdout",
     "output_type": "stream",
     "text": [
      "Response status code: 403: nan\n"
     ]
    },
    {
     "name": "stderr",
     "output_type": "stream",
     "text": [
      "Response status code: 403\n"
     ]
    },
    {
     "name": "stdout",
     "output_type": "stream",
     "text": [
      "Response status code: 403: Love this cream sleeveless top    it goes with everything and you can dress it up or down  this will be a go to top all summer long and probably wear thru the fall as well with a layered sweater  if needed  i typically wear small or medium size and got the medium hoping for a little longer length  i am 5 7  34c  and overall wt  of approx  128 lbs   it fits very nicely   thank you retailer \n"
     ]
    },
    {
     "name": "stderr",
     "output_type": "stream",
     "text": [
      "Response status code: 403\n"
     ]
    },
    {
     "name": "stdout",
     "output_type": "stream",
     "text": [
      "Response status code: 403: Happy with this top  slightly thinner material than i was expecting but that ll be fine with our hot summers  got the navy striped one  very pretty and extremely soft  washes well  i do wear an tank underneath though bc the armholes are slightly large and you can see part of my bra \n"
     ]
    },
    {
     "name": "stderr",
     "output_type": "stream",
     "text": [
      "Response status code: 403\n"
     ]
    },
    {
     "name": "stdout",
     "output_type": "stream",
     "text": [
      "Response status code: 403: I bought this shirt in the neutral and white and love it  so many people compliment it  i usually pair it with white pants and cute wedges to dress it up  obviously with a statement necklace too   but the greatest thing about this shirt is the fact that you can also dress it down  the material is fabulous but i have not washed it yet so i am not sure if it is going to shrink  which i hope it doesn t because it is one of my favorite pieces       unlike the other reviewer i did not think that the\n"
     ]
    },
    {
     "name": "stderr",
     "output_type": "stream",
     "text": [
      "Response status code: 403\n"
     ]
    },
    {
     "name": "stdout",
     "output_type": "stream",
     "text": [
      "Response status code: 403: Great shirt to wear with white pants and wedges  i m a teacher and this is perfect for warmer months for school or for casual evening out  it runs big but falls in such a way that it doesn t make the wearer look big  it falls elegantly and in a flattering way     great  versatile shirt \n"
     ]
    },
    {
     "name": "stderr",
     "output_type": "stream",
     "text": [
      "Response status code: 403\n"
     ]
    },
    {
     "name": "stdout",
     "output_type": "stream",
     "text": [
      "Response status code: 403: Love the fabric of this shirt even though it was thinner than i expected  it is soft to the skin and flattering  however i returned it because it is made for women with long torso and shorter shoulders \n"
     ]
    },
    {
     "name": "stderr",
     "output_type": "stream",
     "text": [
      "Response status code: 403\n"
     ]
    },
    {
     "name": "stdout",
     "output_type": "stream",
     "text": [
      "Response status code: 403: Fun detail with the beading and lace  arms are a little longer while the body of the sweatshirt is a little shorter than expected  but that s the style of the piece  the fit was tts with those proportions mind   the ladies at the store said that if i ordered the size up  it might be a little longer in the body  but that the arms and shoulders would have been the biggest change  the material isn t too thick  so it s a nice lighter layer for fall spring  really love it \n"
     ]
    },
    {
     "name": "stderr",
     "output_type": "stream",
     "text": [
      "Response status code: 403\n"
     ]
    },
    {
     "name": "stdout",
     "output_type": "stream",
     "text": [
      "Response status code: 403: This is exactly what i was expecting  cute  comfortable and casual  there are some gold sequins in the scroll work that i didn t see online  they are super pretty in person \n"
     ]
    },
    {
     "name": "stderr",
     "output_type": "stream",
     "text": [
      "Response status code: 403\n"
     ]
    },
    {
     "name": "stdout",
     "output_type": "stream",
     "text": [
      "Response status code: 403: I really wanted to love this t and was excited to receive it in the mail  i thought i was being realistic in assuming that is would be somewhat sheer given that there doesn t seem to be a woman s white t on the planet that isn t these days  however it was really sheer  the fit was also short and boxy  this coming from a 5 3 woman who is short waisted  on the plus size the material is extremely soft and the design is cute  maybe if you are younger and don t mind the sheerness it s worth the gambl\n"
     ]
    },
    {
     "name": "stderr",
     "output_type": "stream",
     "text": [
      "Response status code: 403\n"
     ]
    },
    {
     "name": "stdout",
     "output_type": "stream",
     "text": [
      "Response status code: 403: nan\n"
     ]
    },
    {
     "name": "stderr",
     "output_type": "stream",
     "text": [
      "Response status code: 403\n"
     ]
    },
    {
     "name": "stdout",
     "output_type": "stream",
     "text": [
      "Response status code: 403: I really love the front of this shirt  however  the back of the shirt is more of a jersey material so it doesn t seem to match the front of the shirt  i still wear it and it looks cute  but it threw me off a bit at first \n"
     ]
    },
    {
     "name": "stderr",
     "output_type": "stream",
     "text": [
      "Response status code: 403\n"
     ]
    },
    {
     "name": "stdout",
     "output_type": "stream",
     "text": [
      "Response status code: 403: I liked the color of this top but i didn t really like the ruffled stitching around the middle  it looks like someone just tacked on the bottom half  i bought this for my daughter and she likes it  i think it is comfortable and a good top to knock around in \n"
     ]
    },
    {
     "name": "stderr",
     "output_type": "stream",
     "text": [
      "Response status code: 403\n"
     ]
    },
    {
     "name": "stdout",
     "output_type": "stream",
     "text": [
      "Response status code: 403: Comfy sweatshirt with fun polka dot details  soft and not baggy  a little on the shorter side so i think i will layer a lace cami underneath and it will look even prettier  i m 5 7   140 pounds with an athletic  hourglass shape  32dd  i bought the  2  which equates to a medium since i wanted it a little looser being a sweatshirt  i m normally an retailer small but i don t think that would have worked in this case as it would have been too fitted   great comfy weekend piece \n"
     ]
    },
    {
     "name": "stderr",
     "output_type": "stream",
     "text": [
      "Response status code: 403\n"
     ]
    },
    {
     "name": "stdout",
     "output_type": "stream",
     "text": [
      "Response status code: 403: I could wear this every day  it is stylish and comfortable\n"
     ]
    },
    {
     "name": "stderr",
     "output_type": "stream",
     "text": [
      "Response status code: 403\n"
     ]
    },
    {
     "name": "stdout",
     "output_type": "stream",
     "text": [
      "Response status code: 403: Pretty top  love the color and the large ruffle  makes it great for layering or with a pretty necklace \n"
     ]
    },
    {
     "name": "stderr",
     "output_type": "stream",
     "text": [
      "Response status code: 403\n"
     ]
    },
    {
     "name": "stdout",
     "output_type": "stream",
     "text": [
      "Response status code: 403: Love this top  it is a full  swing top  but the slightly shorter length balances out the fullness perfectly  i have been wearing it with a contrasting fitted cami and get tons of compliments  love both colors  and having fun wearing them  and after one washing the fullness is softer and looks like the pic  runs true to size and in the arms slightly tight  so i went with my usual med and fits perfect  if you have issues with sleeve size would recommend going up a size  otherwise very true to size\n"
     ]
    },
    {
     "name": "stderr",
     "output_type": "stream",
     "text": [
      "Response status code: 403\n"
     ]
    },
    {
     "name": "stdout",
     "output_type": "stream",
     "text": [
      "Response status code: 403: The styling of this top is really cute  it fits perfectly on the shoulders and gets bigger at the hem for the baby doll look  my biggest complaint is the quality  it s really cheap and feels like the quality i would expect to see at a cheap retailer  it catches lint like crazy and because the hem is just a pearl edge  it curls really badly  i buy quite a bit from here and this is the worst quality item i have seen in a long time  not worth the    if paying full price \n"
     ]
    },
    {
     "name": "stderr",
     "output_type": "stream",
     "text": [
      "Response status code: 403\n"
     ]
    },
    {
     "name": "stdout",
     "output_type": "stream",
     "text": [
      "Response status code: 403: This shirt is one of my favorite retailer purchases ever  it is well made and is perfect for work or the weekend  the first time i wore it  i received so many compliments \n"
     ]
    },
    {
     "name": "stderr",
     "output_type": "stream",
     "text": [
      "Response status code: 403\n"
     ]
    },
    {
     "name": "stdout",
     "output_type": "stream",
     "text": [
      "Response status code: 403: I want to live in this sweatshirt  it s so comfy  but also well cut and lays nicely  not boxy at all  i m typically a 10 12 or l in tops and the 3 is roomy without looking sloppy \n"
     ]
    },
    {
     "name": "stderr",
     "output_type": "stream",
     "text": [
      "Response status code: 403\n"
     ]
    },
    {
     "name": "stdout",
     "output_type": "stream",
     "text": [
      "Response status code: 403: I liked this top even though it was a definite  swing  style  i ended up altering it to remove some of the fullness   looks great with jeans as well as black pants for a dressier look  very soft and comfortable fabric  wish it was just a little bit longer \n"
     ]
    },
    {
     "name": "stderr",
     "output_type": "stream",
     "text": [
      "Response status code: 403\n"
     ]
    },
    {
     "name": "stdout",
     "output_type": "stream",
     "text": [
      "Response status code: 403: Like the other reviewer said this top is extremely wide and boxy  it must be pinned in the picture online  it s very frustrating when they do that  thank goodness i didn t pay for shipping  for reference  i m 5 2 and 135 pounds and bought the xxs  it s going back for sure  i m trying to lose baby weight  not trying to look pregnant \n"
     ]
    },
    {
     "name": "stderr",
     "output_type": "stream",
     "text": [
      "Response status code: 403\n"
     ]
    },
    {
     "name": "stdout",
     "output_type": "stream",
     "text": [
      "Response status code: 403: I wanted to love this sweatshirt  but alas  it is going back  upon opening and unfolding  the first thing i noticed  the dots and not solid  they are sort of distressed looking  with parts of them missing  secondly  it doesn t have a lot of structure  it s soft and kind of floppy but in a weird way  it s just not flattering on me  it looks more like a pajama top than something i would wear out of the house  for reference  i ordered the 3  and i m usually a 10 12 in tops \n"
     ]
    },
    {
     "name": "stderr",
     "output_type": "stream",
     "text": [
      "Response status code: 403\n"
     ]
    },
    {
     "name": "stdout",
     "output_type": "stream",
     "text": [
      "Response status code: 403: I love this tee  the material is thick but not too thick  it s highly flattering  i love that the sleeves are a longer short sleeve to cover up the bingo wings  the shimmer on the front adds something special \n"
     ]
    },
    {
     "name": "stderr",
     "output_type": "stream",
     "text": [
      "Response status code: 403\n"
     ]
    },
    {
     "name": "stdout",
     "output_type": "stream",
     "text": [
      "Response status code: 403: This top is good quality and cute  it runs large  i m usually a medium and needed a small  the reason i will be returning it is because it flares out at the bottom on the black which is very unflattering on  it makes me look wide in the waist or like i m wearing a maternity top  unfortunate because i really liked everything else about it \n"
     ]
    },
    {
     "name": "stderr",
     "output_type": "stream",
     "text": [
      "Response status code: 403\n"
     ]
    },
    {
     "name": "stdout",
     "output_type": "stream",
     "text": [
      "Response status code: 403: Very comfy and light  can be casual with jeans and boots or dress it up with a nice necklace and pencil skirt \n"
     ]
    },
    {
     "name": "stderr",
     "output_type": "stream",
     "text": [
      "Response status code: 403\n"
     ]
    },
    {
     "name": "stdout",
     "output_type": "stream",
     "text": [
      "Response status code: 403: I got the navy stripe version of this shirt and it has a very cute nautical vibe to it  i am either an xs or s in antho  and went with the xs for this shirt as i think the s would be too boxy  normally i would have overlooked this shirt as it s rather unimpressive on the hanger  but it was on sale so i tried it on  very cute when tried on  it fits well across the shoulders but isn t too clingy in the body  which i like  the fabric is very comfortable and the shoulder detail gives it a little mor\n"
     ]
    },
    {
     "name": "stderr",
     "output_type": "stream",
     "text": [
      "Response status code: 403\n"
     ]
    },
    {
     "name": "stdout",
     "output_type": "stream",
     "text": [
      "Response status code: 403: The top runs small  it is a very sexy and slimming top  i tried in l  it was too small so i have ordered it in xl  i hope it fits because it is very fitted and i am worried that the bottom will roll to the top with a fabric like this  but it is a very sexy  good looking  and slimming top  i love it  \n"
     ]
    },
    {
     "name": "stderr",
     "output_type": "stream",
     "text": [
      "Response status code: 403\n"
     ]
    },
    {
     "name": "stdout",
     "output_type": "stream",
     "text": [
      "Response status code: 403: I was looking for a basic tee  but this one was just ok   the quality is okay  but it us not as soft as i would have liked  unfortunately   i will be returning this item \n"
     ]
    },
    {
     "name": "stderr",
     "output_type": "stream",
     "text": [
      "Response status code: 403\n"
     ]
    },
    {
     "name": "stdout",
     "output_type": "stream",
     "text": [
      "Response status code: 403: I would ve looked right over this online but i saw it in store and had to try on  the navy and the white were both cute but i tried the navy  i m usually a m but went with the s b c it looked better fitted  this shirt has a very vintage feel to it and is slinky and comfy  i can t wait to wear  would look great with white jeans \n"
     ]
    },
    {
     "name": "stderr",
     "output_type": "stream",
     "text": [
      "Response status code: 403\n"
     ]
    },
    {
     "name": "stdout",
     "output_type": "stream",
     "text": [
      "Response status code: 403: I really love this lace up shirt  but i only liked it in black on me  i like it open like the model is wearing it  but i had to have it a little more closed because the lace part does go down a ways and i felt like i was revealing a little too much  i would likely wear it open  but then have to pair it with a cami underneath to feel comfortable  i absolutely love the whole outfit as pictured  and also reviewed the polka dot pants  i wish the laces were a little longer than they are if you have i\n"
     ]
    },
    {
     "name": "stderr",
     "output_type": "stream",
     "text": [
      "Response status code: 403\n"
     ]
    },
    {
     "name": "stdout",
     "output_type": "stream",
     "text": [
      "Response status code: 403: Great feature   perfect lacing   do not need to worry that it is too low since there is material behind the bottom of the lacing  like 3 4 length sleeve  gives top the right proportion \n"
     ]
    },
    {
     "name": "stderr",
     "output_type": "stream",
     "text": [
      "Response status code: 403\n"
     ]
    },
    {
     "name": "stdout",
     "output_type": "stream",
     "text": [
      "Response status code: 403: I love the lace up design and bought the red xsp  fabric is a bit thin and mediocre quality  but over all happy with purchase  wish this top came in navy and white as well  even a navy white stripe would be a fun option too  thanks you for offering this top in a petite size    \n"
     ]
    },
    {
     "name": "stderr",
     "output_type": "stream",
     "text": [
      "Response status code: 403\n"
     ]
    },
    {
     "name": "stdout",
     "output_type": "stream",
     "text": [
      "Response status code: 403: I just tried this top in red in xs and i think it s cute  it s fairly fitted in my opinion  the sleeves are pretty snug but there s stretch to them  i was fine with the fabric and the size xs  i m  105 lbs  34aa  even though sometimes i fit better in xspetite  the only downside is that the washing instructions say to remove the tie before machine washing  and i guess that put me off a little  the idea of re lacing it every time   so i haven t yet bought it  the red is vibrant  tomato red and the\n"
     ]
    },
    {
     "name": "stderr",
     "output_type": "stream",
     "text": [
      "Response status code: 403\n"
     ]
    },
    {
     "name": "stdout",
     "output_type": "stream",
     "text": [
      "Response status code: 403: The cut of this shirt is lovely and well thought out  the opening for the arm are not too big like some other shirts  i liked the material and the melon  salmon color which i ordered was more vibrant in person  this does run large so i wished i had ordered one size down \n"
     ]
    },
    {
     "name": "stderr",
     "output_type": "stream",
     "text": [
      "Response status code: 403\n"
     ]
    },
    {
     "name": "stdout",
     "output_type": "stream",
     "text": [
      "Response status code: 403: I really like this top  it s super cute   perfect for a football game or fairly casual event  the material is ribbed and is thick enough that you can t see through  i purchased this top in red and initially in petite but ended up returning it for the regular size  i love this top \n"
     ]
    },
    {
     "name": "stderr",
     "output_type": "stream",
     "text": [
      "Response status code: 403\n"
     ]
    },
    {
     "name": "stdout",
     "output_type": "stream",
     "text": [
      "Response status code: 403: Nice tee  true red 3 4 sleeves  lacing is a nice touch  good quality and great sale price \n"
     ]
    },
    {
     "name": "stderr",
     "output_type": "stream",
     "text": [
      "Response status code: 403\n"
     ]
    },
    {
     "name": "stdout",
     "output_type": "stream",
     "text": [
      "Response status code: 403: Very nice casual  inexpensive shirt and the laced neckline is great    not too revealing and easily worn tied   without looking prudish  and of course  open as well\n"
     ]
    },
    {
     "name": "stderr",
     "output_type": "stream",
     "text": [
      "Response status code: 403\n"
     ]
    },
    {
     "name": "stdout",
     "output_type": "stream",
     "text": [
      "Response status code: 403: I really like how this looks on the model  but in real life this top is much tighter  i was hoping for a good layering top and have been playing around with the trend of lace up tops  i bought it without trying on figuring a small would work  but it was much too tight and the lace top reminded me of vans shoes  i returned it  a girl much tinier than myself has it and it is very cute on her  so  best works on a model body type figure than someone with even slight hips \n"
     ]
    },
    {
     "name": "stderr",
     "output_type": "stream",
     "text": [
      "Response status code: 403\n"
     ]
    },
    {
     "name": "stdout",
     "output_type": "stream",
     "text": [
      "Response status code: 403: I got this shirt in red and black  both colors vibrant and material of shirt is nice cotton blend  will get lots of use from both shirts \n"
     ]
    },
    {
     "name": "stderr",
     "output_type": "stream",
     "text": [
      "Response status code: 403\n"
     ]
    },
    {
     "name": "stdout",
     "output_type": "stream",
     "text": [
      "Response status code: 403: This is the most flattering shirt  love the fit and color \n"
     ]
    },
    {
     "name": "stderr",
     "output_type": "stream",
     "text": [
      "Response status code: 403\n"
     ]
    },
    {
     "name": "stdout",
     "output_type": "stream",
     "text": [
      "Response status code: 403: I love this shirt so much that i ve now bought it in 2 colors    the olive green and the red  probably would have bought it in black too if i didn t already have enough black shirts  it s both a plain and simple tee  but with the fun lace up detail at the neckline that keeps it from being boring   it runs true to size but is very fitted  however  due to the thickness of the material  i didn t feel like any unflattering bumps or lumps were being highlighted  despite how close the shirt fit to my\n"
     ]
    },
    {
     "name": "stderr",
     "output_type": "stream",
     "text": [
      "Response status code: 403\n"
     ]
    },
    {
     "name": "stdout",
     "output_type": "stream",
     "text": [
      "Response status code: 403: I like the lace up trend  but most designs are too revealing  this shirt is super sexy  but not immodest  i bought it in black and am now buying another color  to me  the fabric feels soft and thick  very nice \n"
     ]
    },
    {
     "name": "stderr",
     "output_type": "stream",
     "text": [
      "Response status code: 403\n"
     ]
    },
    {
     "name": "stdout",
     "output_type": "stream",
     "text": [
      "Response status code: 403: Great shirt  the neckline is super flattering  the fabric has some weight to it  right now i am in a  fat stage    and it still looked good  it will look even better without the midriff bulge  i bought the shirt in black  i m thinking of ordering it in red   it s that good \n"
     ]
    },
    {
     "name": "stderr",
     "output_type": "stream",
     "text": [
      "Response status code: 403\n"
     ]
    },
    {
     "name": "stdout",
     "output_type": "stream",
     "text": [
      "Response status code: 403: This is a great shirt that goes with everything  it s super sexy and i have to say    the girls look great in it  i bought the black first and went back for the green  the quality of the shirt is great   not cheap and no smell  at least not in my experience   like was mentioned by another reviewer  i can t say enough about how cute this shirt is \n"
     ]
    },
    {
     "name": "stderr",
     "output_type": "stream",
     "text": [
      "Response status code: 403\n"
     ]
    },
    {
     "name": "stdout",
     "output_type": "stream",
     "text": [
      "Response status code: 403: I got to try this on today and i really like it  the fabric is a normal t shirt kind of fabric  i was hoping it would have been kind of special  and the v neck in the front does go down a ways so that some cleavage is showing  i would feel comfortable wearing it as is outside of work  but would have to pair it with a cami if i would going to wear it to work  normally  i am not a huge fan of v neck in the back and it drives me crazy thanks cami s these days are often made with a  versatile  v and\n"
     ]
    },
    {
     "name": "stderr",
     "output_type": "stream",
     "text": [
      "Response status code: 403\n"
     ]
    },
    {
     "name": "stdout",
     "output_type": "stream",
     "text": [
      "Response status code: 403: I bought this in the white  size m  140lbs   5 8   34b  because i wanted a baggy fit  which i got  so this is tts  the white is more of an off white rather than a bright white  which i like because i happen to be looking for an off white tee  and the shape is good  even in a larger size  this tee nips in at the waist however  the quality of this tee is lacking  as it is the typical  cheap  marled  slightly see through material that seems to be everywhere these days and the band on the back of th\n"
     ]
    },
    {
     "name": "stderr",
     "output_type": "stream",
     "text": [
      "Response status code: 403\n"
     ]
    },
    {
     "name": "stdout",
     "output_type": "stream",
     "text": [
      "Response status code: 403: Soft cotton in very stylish yet simple style  regrettably  i listened to reviews that said it ran tts and ended up w a baggy long one that won t work even if i shrink it  that will teach me   always order multiple sizes \n"
     ]
    },
    {
     "name": "stderr",
     "output_type": "stream",
     "text": [
      "Response status code: 403\n"
     ]
    },
    {
     "name": "stdout",
     "output_type": "stream",
     "text": [
      "Response status code: 403: I love   love this top    it looks just like the picture on model  the front is a soft t shirt and the back is so cute and flattering   super unique and comfortable style    i am 5 4  105 and xs fits perfect \n"
     ]
    },
    {
     "name": "stderr",
     "output_type": "stream",
     "text": [
      "Response status code: 403\n"
     ]
    },
    {
     "name": "stdout",
     "output_type": "stream",
     "text": [
      "Response status code: 403: This is a very cute and unique top   i absolutely love the back  which makes up for my indifference of the front  i m a little heavier in the middle  so it hides it a bit  but the light blue from the back that shows on the sides makes me feel a little wider  it s not perfect  but i like it enough to keep it  i got lots of compliments on it when i wore it  it s very comfortable too  i just wish the front had a little more to it or was a tad longer  overall very happy \n"
     ]
    },
    {
     "name": "stderr",
     "output_type": "stream",
     "text": [
      "Response status code: 403\n"
     ]
    },
    {
     "name": "stdout",
     "output_type": "stream",
     "text": [
      "Response status code: 403: I was really excited about this top since i have others from retailer that are similar in styling  unfortunately  it just didn t work out  i am petite with a short torso and ordered my usual size and it was way too short in the front  the top was also boxy and didn t sit right  it just wasn t flattering  cute top on the hanger  but just not on me \n"
     ]
    },
    {
     "name": "stderr",
     "output_type": "stream",
     "text": [
      "Response status code: 403\n"
     ]
    },
    {
     "name": "stdout",
     "output_type": "stream",
     "text": [
      "Response status code: 403: The back of this t shirt looks cute but the front looks really weird  the material in the back is quite stiff but the grey material is soft  so the front gray area ends up hanging weirdly and looking uneven and messy  i appreciate asymmetrical clothing but to me it looked like a patched up rag from the front  it fits true to size \n"
     ]
    },
    {
     "name": "stderr",
     "output_type": "stream",
     "text": [
      "Response status code: 403\n"
     ]
    },
    {
     "name": "stdout",
     "output_type": "stream",
     "text": [
      "Response status code: 403: Fits very strange  odd cut  does not look well on \n"
     ]
    },
    {
     "name": "stderr",
     "output_type": "stream",
     "text": [
      "Response status code: 403\n"
     ]
    },
    {
     "name": "stdout",
     "output_type": "stream",
     "text": [
      "Response status code: 403: Great little transitional piece  i bought the blk blk floral one   it s not your usual top  sort of quirky   one of a kind looking  i think it s crazy comfortable   i just love it  even its a bit chilly outdoors  toss on a scarf round one s neck   head on out  not the kind of top you d wear with a jacket \n"
     ]
    },
    {
     "name": "stderr",
     "output_type": "stream",
     "text": [
      "Response status code: 403\n"
     ]
    },
    {
     "name": "stdout",
     "output_type": "stream",
     "text": [
      "Response status code: 403: Unique design  love the collar and broad cuffs  the xs regular fits me better than the s petite  which is a bit short \n"
     ]
    },
    {
     "name": "stderr",
     "output_type": "stream",
     "text": [
      "Response status code: 403\n"
     ]
    },
    {
     "name": "stdout",
     "output_type": "stream",
     "text": [
      "Response status code: 403: This is a fabulous style top  highly recommend this top  comfortable material  retailer is consistently tried and true to a classy style \n"
     ]
    },
    {
     "name": "stderr",
     "output_type": "stream",
     "text": [
      "Response status code: 403\n"
     ]
    },
    {
     "name": "stdout",
     "output_type": "stream",
     "text": [
      "Response status code: 403: Love the coral color   so pretty in person  it is slightly lower cut on the chest than i expected    this is a great top for the weekends \n"
     ]
    },
    {
     "name": "stderr",
     "output_type": "stream",
     "text": [
      "Response status code: 403\n"
     ]
    },
    {
     "name": "stdout",
     "output_type": "stream",
     "text": [
      "Response status code: 403: nan\n"
     ]
    },
    {
     "name": "stderr",
     "output_type": "stream",
     "text": [
      "Response status code: 403\n"
     ]
    },
    {
     "name": "stdout",
     "output_type": "stream",
     "text": [
      "Response status code: 403: Loved the style  ordered my normal m  fit tts though i thought i would potentially taper the sides to make less boxy  with a larger bust and shoulders  boxiness is unflattering   the slight boxiness looked perfect with stretchy  fitted business slacks  midday  i held my ipad up to my chest and the velcro from the cover pulled an entire lychnis delicate threads  not just snagged  i had to gently separate the threads from velcro grip  needless to say  it pulled the threads out by at least 1 2 an i\n"
     ]
    },
    {
     "name": "stderr",
     "output_type": "stream",
     "text": [
      "Response status code: 403\n"
     ]
    },
    {
     "name": "stdout",
     "output_type": "stream",
     "text": [
      "Response status code: 403: Nice basic top   i will get plenty of use out of this  love the neckline \n"
     ]
    },
    {
     "name": "stderr",
     "output_type": "stream",
     "text": [
      "Response status code: 403\n"
     ]
    },
    {
     "name": "stdout",
     "output_type": "stream",
     "text": [
      "Response status code: 403: I got this in blue and also in white  both size medium  it s a very comfy casual top and i love the horseshoe neckline and front facing seaming which makes it just a bit different  however    i can t figure out why the blue color fits quite a bit smaller than the white  but it does  so consider this when you order  depending upon how you want it to fit  i m keeping both but will wear the blue in a different way  definitely not with leggings \n"
     ]
    },
    {
     "name": "stderr",
     "output_type": "stream",
     "text": [
      "Response status code: 403\n"
     ]
    },
    {
     "name": "stdout",
     "output_type": "stream",
     "text": [
      "Response status code: 403: I ordered the white solid   the white w blue stripes versions in size xl  both fit me true to size  the fit matches the model s photos  i got these on sale and they re worth that price  they re great basics to have  the white blue striped one is my favorite  it such a pretty combo  i love the unique neckline too  fun details for a basic tee \n"
     ]
    },
    {
     "name": "stderr",
     "output_type": "stream",
     "text": [
      "Response status code: 403\n"
     ]
    },
    {
     "name": "stdout",
     "output_type": "stream",
     "text": [
      "Response status code: 403: So comfy and stylish  love the color  i purchased the indigo blue  nice fit  relaxed fit    not fitted  might have to get another color  it s fun to have a tee with a different design detail  neckline   i m 5 7 145 150 lbs and ordered the medium  a smaill probably would have worked too  since my shoulders are a bit narrow  but mediumd is fine  \n"
     ]
    },
    {
     "name": "stderr",
     "output_type": "stream",
     "text": [
      "Response status code: 403\n"
     ]
    },
    {
     "name": "stdout",
     "output_type": "stream",
     "text": [
      "Response status code: 403: The coral is stunning  the shirt has a slight flare at the bottom that you can t see in the picture  it isn t a straight cut  the sewn edges are rough style making the shirt right for casual wear with jeans  or dressing down something fancier \n"
     ]
    },
    {
     "name": "stderr",
     "output_type": "stream",
     "text": [
      "Response status code: 403\n"
     ]
    },
    {
     "name": "stdout",
     "output_type": "stream",
     "text": [
      "Response status code: 403: I bought it in the cream color and loved it so much that i bought it in black too  super cute with jeans  can dress it up too  the only slight negative  if i had to find one  is that i feel like i have to pull it forward  at the neckline every once in a while   it doesn t choke me but just feels like it s heavier in the back so pulls a bit  worth it though    \n"
     ]
    },
    {
     "name": "stderr",
     "output_type": "stream",
     "text": [
      "Response status code: 403\n"
     ]
    },
    {
     "name": "stdout",
     "output_type": "stream",
     "text": [
      "Response status code: 403: This is a perfect saturday t shirt for the colder days  great fit  not form fitting with no elastic or rayon  soft cotton with great details  im 5 8 140 ish and the medium fit great  i bought a washed denimy blue in the store but may be coming back for more colors now  the white was to sheer for my taste though\n"
     ]
    },
    {
     "name": "stderr",
     "output_type": "stream",
     "text": [
      "Response status code: 403\n"
     ]
    },
    {
     "name": "stdout",
     "output_type": "stream",
     "text": [
      "Response status code: 403: I can never resist a peter pan collar  so i bought this top in the ivory  it s so cute  i wore it for the first time today and received many compliments  it s very comfortable  fits well  and looks expensive  highly recommend it \n"
     ]
    },
    {
     "name": "stderr",
     "output_type": "stream",
     "text": [
      "Response status code: 403\n"
     ]
    },
    {
     "name": "stdout",
     "output_type": "stream",
     "text": [
      "Response status code: 403: This is absolutely adorable and so flattering  i have the patterned shirt  and i just purchased the white one and the orange one because i like it so much  i am 5 ft  9  and 155 lbs  and the medium fits nicely  hope this helps \n"
     ]
    },
    {
     "name": "stderr",
     "output_type": "stream",
     "text": [
      "Response status code: 403\n"
     ]
    },
    {
     "name": "stdout",
     "output_type": "stream",
     "text": [
      "Response status code: 403: I bought this a little ago in the denim color  it has become a favorite so much that i bought another in white \n"
     ]
    },
    {
     "name": "stderr",
     "output_type": "stream",
     "text": [
      "Response status code: 403\n"
     ]
    },
    {
     "name": "stdout",
     "output_type": "stream",
     "text": [
      "Response status code: 403: This is a cool relaxed style with the benefit of an open neckline to add a bit of femininity  i tried on the faded blue and striped colors in the store  the faded blue goes well with the style  but the stripe is cute too  the sleeves are quite long and too tight to roll up  so if you are petite like me you will definitely want to order the petite size  and probably even those you who are in between petites and regular sizes  the sleeves may also be too narrow for some people \n"
     ]
    },
    {
     "name": "stderr",
     "output_type": "stream",
     "text": [
      "Response status code: 403\n"
     ]
    },
    {
     "name": "stdout",
     "output_type": "stream",
     "text": [
      "Response status code: 403: Absolutely in love with this shirt  the neckline is extremely flattering  and the shirt naturally comes away from the body \n"
     ]
    },
    {
     "name": "stderr",
     "output_type": "stream",
     "text": [
      "Response status code: 403\n"
     ]
    },
    {
     "name": "stdout",
     "output_type": "stream",
     "text": [
      "Response status code: 403: I needed a tee refresher  i had a good feeling about this one so ordered all three colors when they were on a promo  and i m not disappointed  the neckline is different and works great to emphasize your favorite necklace  the tee holds shape after washing and drying  my favorite is the blue which i like to wear with dark wash jeans as styled on the model  the white has a cream tinge to it and i m able to wear it with a nude bra without looking indecent  there is a cute little button detail at th\n"
     ]
    },
    {
     "name": "stderr",
     "output_type": "stream",
     "text": [
      "Response status code: 403\n"
     ]
    },
    {
     "name": "stdout",
     "output_type": "stream",
     "text": [
      "Response status code: 403: nan\n"
     ]
    },
    {
     "name": "stderr",
     "output_type": "stream",
     "text": [
      "Response status code: 403\n"
     ]
    },
    {
     "name": "stdout",
     "output_type": "stream",
     "text": [
      "Response status code: 403: I purchased in store to avoid shipping costs  my local stores don t carry xxs  so they are mailing it to me  i usually wear an xs  but it was roomier than i cared for and made it look a bit sloppy on me  this tee is more distressed looking in person than online  as well  i wish it were more refined because the neckline is very feminine   interesting  i would have liked the ability to dress it up more  also  the solid blue and coral are lighter in color than they appear on my monitor  the blue st\n"
     ]
    },
    {
     "name": "stderr",
     "output_type": "stream",
     "text": [
      "Response status code: 403\n"
     ]
    },
    {
     "name": "stdout",
     "output_type": "stream",
     "text": [
      "Response status code: 403: Very soft and comfy tee  like the interesting neckline  wish the petite neckline was slightly higher  but sleeves are right length and have great cuffs \n"
     ]
    },
    {
     "name": "stderr",
     "output_type": "stream",
     "text": [
      "Response status code: 403\n"
     ]
    },
    {
     "name": "stdout",
     "output_type": "stream",
     "text": [
      "Response status code: 403: I love the way this t shirt fits  the horseshoe opening in front is deep enough to add interest  but not too revealing  will look great with layered  dainty necklaces  the sleeves are nice and long   and i have long arms  the length of the shirt itself could be an inch or two longer  but overall the design is nice  not too tight  not too loose  i m 5  5  and 125 lbs   34c and the small fits me well  fabric is medium weight   could be a little thicker  the brick color is nice and works great with\n"
     ]
    },
    {
     "name": "stderr",
     "output_type": "stream",
     "text": [
      "Response status code: 403\n"
     ]
    },
    {
     "name": "stdout",
     "output_type": "stream",
     "text": [
      "Response status code: 403: The blue is a very flattering color  the fit is not  it does not lay in the back like in the photo on the model  instead  there is a lot of fabric that falls in horizontal folds because it does not fall straight because the sides at the bottom are narrower than the mid section  i think i m going to return it  the neckline is very nice and faltering  the sleeve at the wrist is kind of constricting  though  and long  it doesn t run big at the chest section  just the mid section  then tapers in at\n"
     ]
    },
    {
     "name": "stderr",
     "output_type": "stream",
     "text": [
      "Response status code: 403\n"
     ]
    },
    {
     "name": "stdout",
     "output_type": "stream",
     "text": [
      "Response status code: 403: This top has a comfy cozy feel while still being flattering  i especially like the generous neckline  adds a uniqueness to it  great shirt for dressing down  but still feeling feminine  i bought two  my husband always compliments me when i wear it \n"
     ]
    },
    {
     "name": "stderr",
     "output_type": "stream",
     "text": [
      "Response status code: 403\n"
     ]
    },
    {
     "name": "stdout",
     "output_type": "stream",
     "text": [
      "Response status code: 403: I love this shirt  it would be a fairly basic tee but the neckline makes it fun  it s very soft and comfortable  i bought the white with blue pattern and will probably purchase additional colors \n"
     ]
    },
    {
     "name": "stderr",
     "output_type": "stream",
     "text": [
      "Response status code: 403\n"
     ]
    },
    {
     "name": "stdout",
     "output_type": "stream",
     "text": [
      "Response status code: 403: I love this shirt  the neckline is flattering and the overall feel is very comfy \n"
     ]
    },
    {
     "name": "stderr",
     "output_type": "stream",
     "text": [
      "Response status code: 403\n"
     ]
    },
    {
     "name": "stdout",
     "output_type": "stream",
     "text": [
      "Response status code: 403: Bought this today   cant speak to wear   but overall design is so incredibly cute and flattering  i am usually a small or medium  but went with a medium  so different and wearable  white is sheer so opted for a denimy blue color that i dont see listed available online \n"
     ]
    },
    {
     "name": "stderr",
     "output_type": "stream",
     "text": [
      "Response status code: 403\n"
     ]
    },
    {
     "name": "stdout",
     "output_type": "stream",
     "text": [
      "Response status code: 403: I am long waisted and 5  120 lbs  34c  that being said  i purchased a size s regular and it fit perfectly  a petite would have been far too short  so i would recommend a regular size if you re a petite  also i have a big chest and this was very flattering  because of my chest size i usually do best with a v neck  but this classic peter pan collar looks great  i purchased the black  i agree with one of the reviewers who said that the nude color looked like a mess of a weave  the black and white o\n"
     ]
    },
    {
     "name": "stderr",
     "output_type": "stream",
     "text": [
      "Response status code: 403\n"
     ]
    },
    {
     "name": "stdout",
     "output_type": "stream",
     "text": [
      "Response status code: 403: Ladies this top shrinks    i am very disappointed  i was in love with this top and the first time i washed it it shrunk a significant amount  i did not use a dryer  i laid this piece out to dry as i do with the majority of my knit tops and it shrunk  it is a lot shorter and much tighter  especially in my arms  if you love this top i might suggest buying a size up and washing it to fit \n"
     ]
    },
    {
     "name": "stderr",
     "output_type": "stream",
     "text": [
      "Response status code: 403\n"
     ]
    },
    {
     "name": "stdout",
     "output_type": "stream",
     "text": [
      "Response status code: 403: I bought this in black  it s a great long length  i have long arms so the sleeve length is great  it s really soft  only issue is seems to sag a little in the middle instead of being flowy  overall a good tunic \n"
     ]
    },
    {
     "name": "stderr",
     "output_type": "stream",
     "text": [
      "Response status code: 403\n"
     ]
    },
    {
     "name": "stdout",
     "output_type": "stream",
     "text": [
      "Response status code: 403: I love this top  the sizing was great  and i have already worn it so many times  and received so many compliments  it is great to dress up or down  such a great purchase \n"
     ]
    },
    {
     "name": "stderr",
     "output_type": "stream",
     "text": [
      "Response status code: 403\n"
     ]
    },
    {
     "name": "stdout",
     "output_type": "stream",
     "text": [
      "Response status code: 403: Purchased in the blue  the color is a little darker than it shows  more of a slate blue  loved the fit  i am tall so it covered perfectly \n"
     ]
    },
    {
     "name": "stderr",
     "output_type": "stream",
     "text": [
      "Response status code: 403\n"
     ]
    },
    {
     "name": "stdout",
     "output_type": "stream",
     "text": [
      "Response status code: 403: Again  bought this while wearing my retailer colored glasses  i loved the flowiness and color of the dark pink  and was convinced in the dressing room that this top made me look like a chic goddess  mid vacation on the amalfi coast  i tried it on at home  and it straight up looked like i was wearing a maternity top  since i m not with child  this one s going back \n"
     ]
    },
    {
     "name": "stderr",
     "output_type": "stream",
     "text": [
      "Response status code: 403\n"
     ]
    },
    {
     "name": "stdout",
     "output_type": "stream",
     "text": [
      "Response status code: 403: Great for layering and staying warm in the winter  definitely stay on the larger size  the fabric has very little give but is comfortable \n"
     ]
    },
    {
     "name": "stderr",
     "output_type": "stream",
     "text": [
      "Response status code: 403\n"
     ]
    },
    {
     "name": "stdout",
     "output_type": "stream",
     "text": [
      "Response status code: 403: This shirt is not a good look for a gal with hips  the fit at the top is tight  i ordered a small  but there is so much material at the bottom and if you are a little taller  i am 5 7   it hits at a place that is not flattering  i was hoping for something that hung straight down and would be good with leggings  this is not it   also the material is a little stiffer then i was expecting \n"
     ]
    },
    {
     "name": "stderr",
     "output_type": "stream",
     "text": [
      "Response status code: 403\n"
     ]
    },
    {
     "name": "stdout",
     "output_type": "stream",
     "text": [
      "Response status code: 403: Way to v necked  other than that would be a nice go to top  needs a cami \n"
     ]
    },
    {
     "name": "stderr",
     "output_type": "stream",
     "text": [
      "Response status code: 403\n"
     ]
    },
    {
     "name": "stdout",
     "output_type": "stream",
     "text": [
      "Response status code: 403: I tried this tunic on in my local retailer store  they do not carry petites  so i tried on a regular small  i m 5 2   130lb   the proportions were a bit off  the v neck fell way too low and there was extra material puckering across the bodice  i definitely think a petite would work better for my height  alas  no petites in store or online in the color s  i would purchase  i didn t find the shirt too thin  as some have commented  it s essentially a midweight t shirt material  but rayon  so beware o\n"
     ]
    },
    {
     "name": "stderr",
     "output_type": "stream",
     "text": [
      "Response status code: 403\n"
     ]
    },
    {
     "name": "stdout",
     "output_type": "stream",
     "text": [
      "Response status code: 403: I bought this in black and it did require me to wear a shirt underneath as it was a little sheer see through  i usually wear an xs and i wore the same in this top  the black is very pretty and goes well with some skinny jeans \n"
     ]
    },
    {
     "name": "stderr",
     "output_type": "stream",
     "text": [
      "Response status code: 403\n"
     ]
    },
    {
     "name": "stdout",
     "output_type": "stream",
     "text": [
      "Response status code: 403: After seeing this on anthto s facebook page i was so excited to order  i ended up going to a store and trying on  i couldn t believe it was the same shirts when i first saw it  i thought this ran quite big  and the shape was odd  lots of material in the middle  i am a mom of 3 young kids and didn t want people to think  4 was on the way \n"
     ]
    },
    {
     "name": "stderr",
     "output_type": "stream",
     "text": [
      "Response status code: 403\n"
     ]
    },
    {
     "name": "stdout",
     "output_type": "stream",
     "text": [
      "Response status code: 403: I ordered the pink in size xl  the color was pretty  the problem is the material was too thin and tight  it ran at least a size smaller than shown in the photos online \n"
     ]
    },
    {
     "name": "stderr",
     "output_type": "stream",
     "text": [
      "Response status code: 403\n"
     ]
    },
    {
     "name": "stdout",
     "output_type": "stream",
     "text": [
      "Response status code: 403: This tunic is very pretty in black  it is lighter weight than the picture appears and drapes nicely  i m 5 2 so i ordered the petite  but would have been ok with the extra length of the regular for when worn with leggings  with jeans the petite length will work well  i recommend using the size chart provided  i general wear an xs  but ordered the s  based on the size chart  it s a perfect fit \n"
     ]
    },
    {
     "name": "stderr",
     "output_type": "stream",
     "text": [
      "Response status code: 403\n"
     ]
    },
    {
     "name": "stdout",
     "output_type": "stream",
     "text": [
      "Response status code: 403: Cute cute  simple tank with a little something to add interest \n"
     ]
    },
    {
     "name": "stderr",
     "output_type": "stream",
     "text": [
      "Response status code: 403\n"
     ]
    },
    {
     "name": "stdout",
     "output_type": "stream",
     "text": [
      "Response status code: 403: Beautiful top  loved the color but shoulders were totally messed up and not sure if it was from  hanging at store or the way it was sewn \n"
     ]
    },
    {
     "name": "stderr",
     "output_type": "stream",
     "text": [
      "Response status code: 403\n"
     ]
    },
    {
     "name": "stdout",
     "output_type": "stream",
     "text": [
      "Response status code: 403: I ordered this in two colors  in my regular size  i washed and laid flat to dry    it shrunk like crazy  i held the one i washed up to the other unworn unwashed one and it was at least two inches shorter  they may both be going back  i am so sad \n"
     ]
    },
    {
     "name": "stderr",
     "output_type": "stream",
     "text": [
      "Response status code: 403\n"
     ]
    },
    {
     "name": "stdout",
     "output_type": "stream",
     "text": [
      "Response status code: 403: I purchased this top in blue and liked it so i ordered the red color  i hated the way the second one fit  i m concerned the blue will not wear well after seeing the way the second one looked \n"
     ]
    },
    {
     "name": "stderr",
     "output_type": "stream",
     "text": [
      "Response status code: 403\n"
     ]
    },
    {
     "name": "stdout",
     "output_type": "stream",
     "text": [
      "Response status code: 403: Love this shirt with leggings  if you are in between sizes  size down\n"
     ]
    },
    {
     "name": "stderr",
     "output_type": "stream",
     "text": [
      "Response status code: 403\n"
     ]
    },
    {
     "name": "stdout",
     "output_type": "stream",
     "text": [
      "Response status code: 403: I can understand the concerns of another reviewer about shrinkage  i have a few retailer tops made of similar fabric and they have shrunk a bit  this too fits very well  but once i wash it  it will likely get a bit smaller  i ordered a small  but plan to size up to a medium  for ref  32ddd bust  and the small fit perfectly with a camo underneath   the shoulders seem to be cut small  so if you are busty like me  size up \n"
     ]
    },
    {
     "name": "stderr",
     "output_type": "stream",
     "text": [
      "Response status code: 403\n"
     ]
    },
    {
     "name": "stdout",
     "output_type": "stream",
     "text": [
      "Response status code: 403: The lokka tunic is a perfect go to top for casual days or nights  pair it with skinny jeans or leggings and you are set  the long sleeves are fitted and long so they can be bunched at the wrist  i ordered it in both the black and the the pale grey blue shade  it is a winner \n"
     ]
    },
    {
     "name": "stderr",
     "output_type": "stream",
     "text": [
      "Response status code: 403\n"
     ]
    },
    {
     "name": "stdout",
     "output_type": "stream",
     "text": [
      "Response status code: 403: I got two of these when they went on sale because i hate paying  68 for a basic top like this   but for the sale price they are great  comfortable  lightweight  and flattering  the black is a little sheer  but nothing a tank underneath can t solve  a good buy \n"
     ]
    },
    {
     "name": "stderr",
     "output_type": "stream",
     "text": [
      "Response status code: 403\n"
     ]
    },
    {
     "name": "stdout",
     "output_type": "stream",
     "text": [
      "Response status code: 403: I bought this in my usual medium and it fits great  fitted at the shoulder  loose below   it looks great with skinny jeans and can be worn casually or dressed up with accessories \n"
     ]
    },
    {
     "name": "stderr",
     "output_type": "stream",
     "text": [
      "Response status code: 403\n"
     ]
    },
    {
     "name": "stdout",
     "output_type": "stream",
     "text": [
      "Response status code: 403: Beautiful sweater but the material is a bit thinner than i was expecting  but it hangs nicely and the sleeves are nice and long \n"
     ]
    },
    {
     "name": "stderr",
     "output_type": "stream",
     "text": [
      "Response status code: 403\n"
     ]
    },
    {
     "name": "stdout",
     "output_type": "stream",
     "text": [
      "Response status code: 403: Great style \n"
     ]
    },
    {
     "name": "stderr",
     "output_type": "stream",
     "text": [
      "Response status code: 403\n"
     ]
    },
    {
     "name": "stdout",
     "output_type": "stream",
     "text": [
      "Response status code: 403: This top is great   lightweight and flattering   i can wear it to work with skinny white pants or to the grocery store with jeans    i purchased another color because i love the first i got so much \n"
     ]
    },
    {
     "name": "stderr",
     "output_type": "stream",
     "text": [
      "Response status code: 403\n"
     ]
    },
    {
     "name": "stdout",
     "output_type": "stream",
     "text": [
      "Response status code: 403: Love this shirt  i bought the light blue color and its amazing  fits well i love that its long in the back  very comfortable and loose  thinking of buying it in both pinks \n"
     ]
    },
    {
     "name": "stderr",
     "output_type": "stream",
     "text": [
      "Response status code: 403\n"
     ]
    },
    {
     "name": "stdout",
     "output_type": "stream",
     "text": [
      "Response status code: 403: I bought this tunic in black and am seriously considering buying it in more colors  it is so comfortable and very flattering  i am 5 11   so many tunics are more like shirts on me  but this one is the perfect length to wear with leggings or pants  the v neck is a nice  feminine touch and i love the change in material around the edges \n"
     ]
    },
    {
     "name": "stderr",
     "output_type": "stream",
     "text": [
      "Response status code: 403\n"
     ]
    },
    {
     "name": "stdout",
     "output_type": "stream",
     "text": [
      "Response status code: 403: I just adore this top  it is so comfy and stylish  i wear it with a little purple cardigan and feel like an iris in bloom  like other reviewers have mentioned though  the straps are way too long  i had to cut them down and re sew to make it wearable  before that it just slouched in front and looked sloppy and awful  i tried layering under it  which looked absurd \n"
     ]
    },
    {
     "name": "stderr",
     "output_type": "stream",
     "text": [
      "Response status code: 403\n"
     ]
    },
    {
     "name": "stdout",
     "output_type": "stream",
     "text": [
      "Response status code: 403: nan\n"
     ]
    },
    {
     "name": "stderr",
     "output_type": "stream",
     "text": [
      "Response status code: 403\n"
     ]
    },
    {
     "name": "stdout",
     "output_type": "stream",
     "text": [
      "Response status code: 403: This is a perfect fit  i was worried that it would be too short and or boxy  i usually  wear an xs  i have a slightly longer waist though and often xs tops run short or they are overwhelming  this was perfect  it is roomy and long enough without swallowing my frame  it looks nice enough to dress up and wear out and about  great value at the sale price as well   it is well made and doesn t just look like a run of the mill pullover \n"
     ]
    },
    {
     "name": "stderr",
     "output_type": "stream",
     "text": [
      "Response status code: 403\n"
     ]
    },
    {
     "name": "stdout",
     "output_type": "stream",
     "text": [
      "Response status code: 403: I was looking for a shirt of this style  i thought it was very cute  but it is not  red  as advertised  it is really a brick orange y color  which is definitely not what i wanted  very disappointed  sent it right back \n"
     ]
    },
    {
     "name": "stderr",
     "output_type": "stream",
     "text": [
      "Response status code: 403\n"
     ]
    },
    {
     "name": "stdout",
     "output_type": "stream",
     "text": [
      "Response status code: 403: This is one of those  i need one in every color  kind of shirts  need   not simply want  it is very well constructed  the fabric is the perfect weight and is sooooooo comfortable  the raspberry is a little more dusty rose than pictured online  but it works  i ve only had the shirt a couple of day  in addition to wanting to wear it every day  the fabric has not pilled  i m short waisted  and i have not had any issue with the high low hem or cropped length \n"
     ]
    },
    {
     "name": "stderr",
     "output_type": "stream",
     "text": [
      "Response status code: 403\n"
     ]
    },
    {
     "name": "stdout",
     "output_type": "stream",
     "text": [
      "Response status code: 403: This top will be perfect for autumn and even winter down in the southeast  i purchased the  red  and hoped that it was more of a rust color lucked in  the material is very soft and more on the thinner side for layering which is alway a plus  i have spare tires in my belly area and this does not grab aholed of them in fact the stripes do the work and disguise  and the lace up nautical feel brings the attention to my money maker  you won t be disappointed\n"
     ]
    },
    {
     "name": "stderr",
     "output_type": "stream",
     "text": [
      "Response status code: 403\n"
     ]
    },
    {
     "name": "stdout",
     "output_type": "stream",
     "text": [
      "Response status code: 403: I ordered this on a whim during retailer days sale and i m glad i did  it s now one of those shirts that calls my name every morning  i ve worn it with denim skinnies and a knee length black knit pencil skirt  so soft and flattering  i got it in the red  but am tempted by the blue \n"
     ]
    },
    {
     "name": "stderr",
     "output_type": "stream",
     "text": [
      "Response status code: 403\n"
     ]
    },
    {
     "name": "stdout",
     "output_type": "stream",
     "text": [
      "Response status code: 403: Really loved this   so soft and snuggly  was unsure about ordering shirt size    s  or jacket size for layering  m   ordered a small  fits perfect  definitely wouldn t have wanted the medium  5 4  135 lbs for reference  love this one    great find \n"
     ]
    },
    {
     "name": "stderr",
     "output_type": "stream",
     "text": [
      "Response status code: 403\n"
     ]
    },
    {
     "name": "stdout",
     "output_type": "stream",
     "text": [
      "Response status code: 403: I bought this tee in all 3 colors  and wish there were more   fabulous quality  material and style   can dress up or down  wear with jeans  pants or skirts   wear alone or layer   don t miss out on this addition to your wardrobe \n"
     ]
    },
    {
     "name": "stderr",
     "output_type": "stream",
     "text": [
      "Response status code: 403\n"
     ]
    },
    {
     "name": "stdout",
     "output_type": "stream",
     "text": [
      "Response status code: 403: Omg   wish it came in more colors  \n"
     ]
    },
    {
     "name": "stderr",
     "output_type": "stream",
     "text": [
      "Response status code: 403\n"
     ]
    },
    {
     "name": "stdout",
     "output_type": "stream",
     "text": [
      "Response status code: 403: Cute and comfortable  i loved the colors and how soft the shirt is \n"
     ]
    },
    {
     "name": "stderr",
     "output_type": "stream",
     "text": [
      "Response status code: 403\n"
     ]
    },
    {
     "name": "stdout",
     "output_type": "stream",
     "text": [
      "Response status code: 403: I really like the sundry brand  however  this is thin and to me out of character for an retailer tee  it look adorable in picture  however the coloring is way off  the navy is almost black it s so dark and the kaki stripe is a green  it s nothing like i had hoped it would be  fabric in very thin and more like a pajama top  so disappointed  it will go back  i do not make it a habit to bash a product  however with tax  shipping and 83 00 price tag  103 11 is absolutely terrible \n"
     ]
    },
    {
     "name": "stderr",
     "output_type": "stream",
     "text": [
      "Response status code: 403\n"
     ]
    },
    {
     "name": "stdout",
     "output_type": "stream",
     "text": [
      "Response status code: 403: Super soft and comfortable  runs a little large  very cozy \n"
     ]
    },
    {
     "name": "stderr",
     "output_type": "stream",
     "text": [
      "Response status code: 403\n"
     ]
    },
    {
     "name": "stdout",
     "output_type": "stream",
     "text": [
      "Response status code: 403: This tunic is very nice  flattering  good design  worn in winter and spring  and fits well  i have a curvy figure  and this fits well  i wish it came in more colors it does show flaws slightly but fits well and is stretchy \n"
     ]
    },
    {
     "name": "stderr",
     "output_type": "stream",
     "text": [
      "Response status code: 403\n"
     ]
    },
    {
     "name": "stdout",
     "output_type": "stream",
     "text": [
      "Response status code: 403: The top i received was large  really long in length  pockets in the front along the seam  and lots of volume in the back without any princess seams to give it shape  the id   s matched  but that s about it  returned \n"
     ]
    },
    {
     "name": "stderr",
     "output_type": "stream",
     "text": [
      "Response status code: 403\n"
     ]
    },
    {
     "name": "stdout",
     "output_type": "stream",
     "text": [
      "Response status code: 403: Love the feminine styling of a classic tunic tee  i ll wear it with black leggings this fall  super cute to wear casually or dress up a bit with some jewelry and or a scarf \n"
     ]
    },
    {
     "name": "stderr",
     "output_type": "stream",
     "text": [
      "Response status code: 403\n"
     ]
    },
    {
     "name": "stdout",
     "output_type": "stream",
     "text": [
      "Response status code: 403: This top is full of amazing details  the photos really don t do it justice  it is very flowy and does run large but is so pretty and soft and in beautiful shades of blue  i bought a small and it is fairly long in back on my 5 5  frame but because of the detailing   it just works \n"
     ]
    },
    {
     "name": "stderr",
     "output_type": "stream",
     "text": [
      "Response status code: 403\n"
     ]
    },
    {
     "name": "stdout",
     "output_type": "stream",
     "text": [
      "Response status code: 403: Love this top  purchased it in the coral color now i m definitely wanting it in the blue since it is such a great blouse for transitioning into fall  the weight of the top it good since i live in south texas so definitely needing lightweight long sleeves for our weather  i m sure when the time comes adding a long cardigan or blazer over it as needed for the cooler weather it will look great  fit true to size \n"
     ]
    },
    {
     "name": "stderr",
     "output_type": "stream",
     "text": [
      "Response status code: 403\n"
     ]
    },
    {
     "name": "stdout",
     "output_type": "stream",
     "text": [
      "Response status code: 403: Really cute and very comfortable  material is thin and sheer  i wear tanks under things anyway  but especially in pink  you would need to  but love the style \n"
     ]
    },
    {
     "name": "stderr",
     "output_type": "stream",
     "text": [
      "Response status code: 403\n"
     ]
    },
    {
     "name": "stdout",
     "output_type": "stream",
     "text": [
      "Response status code: 403: I ordered this in a small petite and medium petite   and i am a huge fan of a k  i put tried on the sp  while it fit  it was very long  even for a petite  what i hated about it was that the piping on the top made me look very wide  even a long necklace wouldn t help deter the look  on a positive side  the blue was a very nice  cool color  i am usually a small to medium in a k  6 8 in tops  and the small fit well in the arms bodice  just too much fabric for me  returning \n"
     ]
    },
    {
     "name": "stderr",
     "output_type": "stream",
     "text": [
      "Response status code: 403\n"
     ]
    },
    {
     "name": "stdout",
     "output_type": "stream",
     "text": [
      "Response status code: 403: I have the blue color of this top and i love the color variation throughout  it looks very unique and it is going to be a great piece for late summer early fall  the pleated look on the upper chest is very flattering and adds texture to the top  i am pleased with my purchase \n"
     ]
    },
    {
     "name": "stderr",
     "output_type": "stream",
     "text": [
      "Response status code: 403\n"
     ]
    },
    {
     "name": "stdout",
     "output_type": "stream",
     "text": [
      "Response status code: 403: My perspective is as a sewer so i m more picky perhaps  this top is poorly made  the fabric pattern is crooked or not consistent in each piece  sewers do this to save     squeezing the pieces on the fabric  it looks sloppy  the cut is very full  the bottom edge measures 104  around  for my figure  curvey  at 5 6  and 150lbs  this top is not flattering it looks maternity  perhaps best on a slim figure and with leggings \n"
     ]
    },
    {
     "name": "stderr",
     "output_type": "stream",
     "text": [
      "Response status code: 403\n"
     ]
    },
    {
     "name": "stdout",
     "output_type": "stream",
     "text": [
      "Response status code: 403: I ve been looking for some new  casual tops and ordered this one for the sky blue color  i m a size 6 and the small fits great  i don t find the blowzy style overwhelming  i am small boned but i m 5 8   not a petite  i like it with leggings and skinny jeans    a nice proportion  however  i can see how this cut may be too much on someone with a smaller frame  i really like it  however i see two drawbacks  the material is a bit thin for fall and it wrinkles very easily  not good for travel   this\n"
     ]
    },
    {
     "name": "stderr",
     "output_type": "stream",
     "text": [
      "Response status code: 403\n"
     ]
    },
    {
     "name": "stdout",
     "output_type": "stream",
     "text": [
      "Response status code: 403: I got the pink version to layer with spring clothes  i always wear a medium  but sized down to a small based on the other review  the seams are very flattering  the material is very soft  on sale  the price is reasonable \n"
     ]
    },
    {
     "name": "stderr",
     "output_type": "stream",
     "text": [
      "Response status code: 403\n"
     ]
    },
    {
     "name": "stdout",
     "output_type": "stream",
     "text": [
      "Response status code: 403: I love this tee but there is a lot of swing  fabric so it can tend to make you look wide  also  i have a short torso to begin with but this tee is on the short side  i m still undecided on whether i m going to keep it b c it s rayon  poly and it s hand wash only  and i m worried that one wash will make it shrink in length and it s already short  rayon knits have a tendency to shrink in length when washed so beware \n"
     ]
    },
    {
     "name": "stderr",
     "output_type": "stream",
     "text": [
      "Response status code: 403\n"
     ]
    },
    {
     "name": "stdout",
     "output_type": "stream",
     "text": [
      "Response status code: 403: This top reminded me of a maternity top  cute  but better suited for someone smaller chested \n"
     ]
    },
    {
     "name": "stderr",
     "output_type": "stream",
     "text": [
      "Response status code: 403\n"
     ]
    },
    {
     "name": "stdout",
     "output_type": "stream",
     "text": [
      "Response status code: 403: I love this shirt so much i am ordering the coral too  the weight of the material makes it hang nicely  there is a lot of material but it lends itself to the flowy style  i got many compliments of this top \n"
     ]
    },
    {
     "name": "stderr",
     "output_type": "stream",
     "text": [
      "Response status code: 403\n"
     ]
    },
    {
     "name": "stdout",
     "output_type": "stream",
     "text": [
      "Response status code: 403: Okay this shirt is soooo comf  it is super fun and flowy  but it runs large  get one size smaller than you would usually get  so worth the sale price   \n"
     ]
    },
    {
     "name": "stderr",
     "output_type": "stream",
     "text": [
      "Response status code: 403\n"
     ]
    },
    {
     "name": "stdout",
     "output_type": "stream",
     "text": [
      "Response status code: 403: Cute and comfy shirt  tts  got my usual m  i m a 10  and it has a generous fit but i think it s supposed to  it s actually a silver grey color \n"
     ]
    },
    {
     "name": "stderr",
     "output_type": "stream",
     "text": [
      "Response status code: 403\n"
     ]
    },
    {
     "name": "stdout",
     "output_type": "stream",
     "text": [
      "Response status code: 403: I would highly recommend this top  i usually wear a small petite  but returned the top for an xs petite which fit perfectly  there is a lot of fabric  but if you size down it wasn t an issue for me  i weigh 120lbs and am 5 feet tall  also  i m busty  34 d  which worried me with this type of top  not a problem  i will wear a blazer or leather short jacket with this  i am very picky and i was happy with the quality  the fabric is not heavy  it s a fantastic purchase \n"
     ]
    },
    {
     "name": "stderr",
     "output_type": "stream",
     "text": [
      "Response status code: 403\n"
     ]
    },
    {
     "name": "stdout",
     "output_type": "stream",
     "text": [
      "Response status code: 403: Pretty pink top is great for layering iand alone in the summer and spring\n"
     ]
    },
    {
     "name": "stderr",
     "output_type": "stream",
     "text": [
      "Response status code: 403\n"
     ]
    },
    {
     "name": "stdout",
     "output_type": "stream",
     "text": [
      "Response status code: 403: I order this shirt because it looked like a shirt you could dress up or down  when i got it the shirt was really wrinkled  therefore  i knew it would have to ironed a lot  it was quite boxy and was shorter in the front then in the back  i didn t realize that this shirt was two different fabrics  overall i think this shirt would be more flattering on a woman that was petite \n"
     ]
    },
    {
     "name": "stderr",
     "output_type": "stream",
     "text": [
      "Response status code: 403\n"
     ]
    },
    {
     "name": "stdout",
     "output_type": "stream",
     "text": [
      "Response status code: 403: Top is very wide and flowy  i am petite with large chest so it hung from widest point and was not flattering  would be very cute with the right body shape \n"
     ]
    },
    {
     "name": "stderr",
     "output_type": "stream",
     "text": [
      "Response status code: 403\n"
     ]
    },
    {
     "name": "stdout",
     "output_type": "stream",
     "text": [
      "Response status code: 403: Oh yes  another sequin top to add to my collection  it is sparkly without being glittery  if you know what i mean  can definitely dress down as it is tee shirt  like  lots of options for this one  tts   much better in person than the online pics \n"
     ]
    },
    {
     "name": "stderr",
     "output_type": "stream",
     "text": [
      "Response status code: 403\n"
     ]
    },
    {
     "name": "stdout",
     "output_type": "stream",
     "text": [
      "Response status code: 403: Was so excited for this top  loved the embroidered detail and the teal green color  i got it in a medium and it was swimming on me  it also had a maternity type feel since there is a lot more material  making it look blousy  than showing on the model  they must have pinned it back in the stock photo    sadly  it s going back \n"
     ]
    },
    {
     "name": "stderr",
     "output_type": "stream",
     "text": [
      "Response status code: 403\n"
     ]
    },
    {
     "name": "stdout",
     "output_type": "stream",
     "text": [
      "Response status code: 403: I was surprised how soft and comfy the fabric is on this top  when i tried it on  i didn t want to take it off  it s a little bigger than i would like   i got a small  and am usually between xs and s  may have sized down if the top were available but the fit and cut are flattering \n"
     ]
    },
    {
     "name": "stderr",
     "output_type": "stream",
     "text": [
      "Response status code: 403\n"
     ]
    },
    {
     "name": "stdout",
     "output_type": "stream",
     "text": [
      "Response status code: 403: I love this little number  the quality is terrific  the weight is perfect  and the cut is superb  i love the way it fits and looks in the arms  i ordered my usual xxsp and it is perfect  i like that it is cool and flowy  without looking like maternity attire  i have the bright turquoise and i am going to order another  i was about to order what looks like a yellow one  but i noticed the color is labeled  chartreuse   can anyone tell me if this is more yellow or green in  real life  \n"
     ]
    },
    {
     "name": "stderr",
     "output_type": "stream",
     "text": [
      "Response status code: 403\n"
     ]
    },
    {
     "name": "stdout",
     "output_type": "stream",
     "text": [
      "Response status code: 403: I totally love this tank  the yoke detailing is so pretty  i read the other reviews   i feel it fits pretty tts  it s what i expected  i have already worn it several times since it arrived in the mail  i love it so much  i m ordering it in the turquoise color as well  every time i have worn it  i have received compliments  i ve worn it alone with shorts and or jeans  as well as with a cardigan and dress pants for work  it s soft  comfortable and to echo what another review stated  the material s\n"
     ]
    },
    {
     "name": "stderr",
     "output_type": "stream",
     "text": [
      "Response status code: 403\n"
     ]
    },
    {
     "name": "stdout",
     "output_type": "stream",
     "text": [
      "Response status code: 403: Gorgeous cobalt blue color     usually s m  bought the small  because of larger armholes    so glad i snatched this one up on sale   the detail on the top is amazing \n"
     ]
    },
    {
     "name": "stderr",
     "output_type": "stream",
     "text": [
      "Response status code: 403\n"
     ]
    },
    {
     "name": "stdout",
     "output_type": "stream",
     "text": [
      "Response status code: 403: Love this tank  it has an easy fit that hides my post baby belly with out looking to wide \n"
     ]
    },
    {
     "name": "stderr",
     "output_type": "stream",
     "text": [
      "Response status code: 403\n"
     ]
    },
    {
     "name": "stdout",
     "output_type": "stream",
     "text": [
      "Response status code: 403: I was really wanting a nice white summer blouse to pair with patterned skirts  unfortunately  this fell short as it was huge  not only was it big  it flared at the bottom  it would be perfect if i was sporting a baby bump  but not what i am going for right now  if the tank was a bit slimmer i would have kept it as a tunic i m sad that i ll have to return it \n"
     ]
    },
    {
     "name": "stderr",
     "output_type": "stream",
     "text": [
      "Response status code: 403\n"
     ]
    },
    {
     "name": "stdout",
     "output_type": "stream",
     "text": [
      "Response status code: 403: I love this top   the detail on front top of the top is so cute  the length is just right  i hesitated because of the unusual armhole shape but they are really not an issue  also  thanks for finding the top as it wasn t available at distribution center  went of your way  \n"
     ]
    },
    {
     "name": "stderr",
     "output_type": "stream",
     "text": [
      "Response status code: 403\n"
     ]
    },
    {
     "name": "stdout",
     "output_type": "stream",
     "text": [
      "Response status code: 403: I just purchased this tank in white and blue  i find it to be soft and will be perfect for hot days but also can wear into the fall with a cardigan  it s super comfy but i do find at retailer that it s best to try things on in the store  it s hard to find perfect sizes online since things are cut so differently based on the designer   i got a large and though it s a bit flowy in the tummy area  it fits nicely across my chest  not tight  \n"
     ]
    },
    {
     "name": "stderr",
     "output_type": "stream",
     "text": [
      "Response status code: 403\n"
     ]
    },
    {
     "name": "stdout",
     "output_type": "stream",
     "text": [
      "Response status code: 403: Great lightweight summer top that s bra friendly   i bought the teal color yesterday and wore it today with white skinnies     i m sometimes a small and sometimes a medium and was fine with the small on this one\n"
     ]
    },
    {
     "name": "stderr",
     "output_type": "stream",
     "text": [
      "Response status code: 403\n"
     ]
    },
    {
     "name": "stdout",
     "output_type": "stream",
     "text": [
      "Response status code: 403: I love love this top  i was on the fence about it since it runs large and is loose fitting  very loose  i tried m  l  and xl  i usually wear xl but bought an l in this  i tried m  it was loose around the mid section but fitted at the top  i wore them with fitted skinny pants and the top looks amazing  perfect for summer  the armholes also look flattering   not too big  i like turquoise  i didn t find yellow in the store  so bought green and white  it does need some ironing \n"
     ]
    },
    {
     "name": "stderr",
     "output_type": "stream",
     "text": [
      "Response status code: 403\n"
     ]
    },
    {
     "name": "stdout",
     "output_type": "stream",
     "text": [
      "Response status code: 403: I purchased this in the mauve color  beautiful color with tan skin for the summer  but also perfect for fall  the material is very thin but not sheer at all  has quite a bit of drape swing to it so i sized up to make sure it was long enough  it fits me like it fits the model shown here  i am about 5 4  115lbs and 32b and am keeping the small \n"
     ]
    },
    {
     "name": "stderr",
     "output_type": "stream",
     "text": [
      "Response status code: 403\n"
     ]
    },
    {
     "name": "stdout",
     "output_type": "stream",
     "text": [
      "Response status code: 403: I m 5 0  and weigh 105 lbs  i purchased the xxs and it was super wide  and big all over  it looked like a pregnancy top and did not lay as nicely as shown on the model  also  not shown on the model is the front is short and the back is very long  this would work better on a taller person  i just find it odd that a xxs is still too big  the quality of the fabric and the print is good and the lace up in the back is cute \n"
     ]
    },
    {
     "name": "stderr",
     "output_type": "stream",
     "text": [
      "Response status code: 403\n"
     ]
    },
    {
     "name": "stdout",
     "output_type": "stream",
     "text": [
      "Response status code: 403: I always look for things to hide  parts  without making my  parts  look even more pronounced  this top is much cuter in person than online  it has floral edging around the neck and lace up area i didn t notice  the length is perfect  the sleeve length is perfect and it makes me feel thin  even though it has stripes    perfect spring summer top \n"
     ]
    },
    {
     "name": "stderr",
     "output_type": "stream",
     "text": [
      "Response status code: 403\n"
     ]
    },
    {
     "name": "stdout",
     "output_type": "stream",
     "text": [
      "Response status code: 403: I usually wear a size xs or s in retailer tops  ordered this top in an s and it was so wide on the sides and huge it fit like a tent   not even remotely flattering   i thought about ordering it in an xs  however  i could tell the xs was still going to have way too much fabric   back it goes \n"
     ]
    },
    {
     "name": "stderr",
     "output_type": "stream",
     "text": [
      "Response status code: 403\n"
     ]
    },
    {
     "name": "stdout",
     "output_type": "stream",
     "text": [
      "Response status code: 403: I love this shirt  it hides my tummy perfectly without being too baggy  super cute  \n"
     ]
    },
    {
     "name": "stderr",
     "output_type": "stream",
     "text": [
      "Response status code: 403\n"
     ]
    },
    {
     "name": "stdout",
     "output_type": "stream",
     "text": [
      "Response status code: 403: Love this top  bought it in both color ways  just adorable and washes well  great option for larger ladies    retailer needs to provide more xls to be available in the stores  i shop at the pasadena store and see so many women my size shopping right next to me  and there is nothing for us  it is so sad that we want to spend our money with you  but you don t want it \n"
     ]
    },
    {
     "name": "stderr",
     "output_type": "stream",
     "text": [
      "Response status code: 403\n"
     ]
    },
    {
     "name": "stdout",
     "output_type": "stream",
     "text": [
      "Response status code: 403: Like the extra details on the neck and back   and it s versatile to wear everywhere\n"
     ]
    },
    {
     "name": "stderr",
     "output_type": "stream",
     "text": [
      "Response status code: 403\n"
     ]
    },
    {
     "name": "stdout",
     "output_type": "stream",
     "text": [
      "Response status code: 403: I love swing tops  the more swingy  the better  this top is so fun  its a little hard to tell online  but its made of two fabrics  most of the fabric is a thin t shirt material  and then theres a panel on one side thats more of a silky fabric  its so so cool  the colors are just as they appear online  and the print is fun and edgy  i have larger arms  so i love the length of the sleeves  the other reviewer said it was cropped  but i did not have that experience  in fact i was able to wear mine w\n"
     ]
    },
    {
     "name": "stderr",
     "output_type": "stream",
     "text": [
      "Response status code: 403\n"
     ]
    },
    {
     "name": "stdout",
     "output_type": "stream",
     "text": [
      "Response status code: 403: Cute white t shirt different style but didn t work on my body type so i returned it    good price point    basic fabric\n"
     ]
    },
    {
     "name": "stderr",
     "output_type": "stream",
     "text": [
      "Response status code: 403\n"
     ]
    },
    {
     "name": "stdout",
     "output_type": "stream",
     "text": [
      "Response status code: 403: I absolutely love this shirt  even though it has a large flowy design it looks wonderful  the print is so unique and will transition to autumn beautifully  i loved it so much i got both colors \n"
     ]
    },
    {
     "name": "stderr",
     "output_type": "stream",
     "text": [
      "Response status code: 403\n"
     ]
    },
    {
     "name": "stdout",
     "output_type": "stream",
     "text": [
      "Response status code: 403: This shirt is so very pretty in person  the detail on the neckline and the lace up on the back are so cute and give the shirt just a bit of whimsy  making it more unique than your usual flowy t shirt  it lays perfectly and the material is very soft and comfy  you can wear it casual or dress it up  i may get another one because this is the kind of shirt i will wear constantly \n"
     ]
    },
    {
     "name": "stderr",
     "output_type": "stream",
     "text": [
      "Response status code: 403\n"
     ]
    },
    {
     "name": "stdout",
     "output_type": "stream",
     "text": [
      "Response status code: 403: I loved this top so much i bought it in both colors  size down because it run very large  but it is nice and flowy  i m 5 11  and slim and the top hung nicely on me \n"
     ]
    },
    {
     "name": "stderr",
     "output_type": "stream",
     "text": [
      "Response status code: 403\n"
     ]
    },
    {
     "name": "stdout",
     "output_type": "stream",
     "text": [
      "Response status code: 403: This is such an adorable tee  the stripes and lace up details are super cute and on trend  i usually take a xxs and that is what i took in this tee  i tried the xs and at 5 1 and 104 pounds it looked a bit loose and long on me  love this tee and highly recommend this one \n"
     ]
    },
    {
     "name": "stderr",
     "output_type": "stream",
     "text": [
      "Response status code: 403\n"
     ]
    },
    {
     "name": "stdout",
     "output_type": "stream",
     "text": [
      "Response status code: 403: This shirt runs large  so order down a size  it is comfortable  cute and great for transitioning from summer into fall  adding jewelry really dresses this top up  can t wait to layer it with kimono  vest  pashminas or wraps  great with sandals or boots  glad i bought both colors  it looks much better on  than in the photo on hanger  great purchase and can t wait to wear \n"
     ]
    },
    {
     "name": "stderr",
     "output_type": "stream",
     "text": [
      "Response status code: 403\n"
     ]
    },
    {
     "name": "stdout",
     "output_type": "stream",
     "text": [
      "Response status code: 403: Love this white shirt  it fits great and gives you a little breathing room around the waist  this goes with shorts  skirts  and jeans  i will be wearing it all summer\n"
     ]
    },
    {
     "name": "stderr",
     "output_type": "stream",
     "text": [
      "Response status code: 403\n"
     ]
    },
    {
     "name": "stdout",
     "output_type": "stream",
     "text": [
      "Response status code: 403: Super cute poncho to add to my wardrobe   love the grey color and the material is super soft   glad i snagged this up for less than  30 \n"
     ]
    },
    {
     "name": "stderr",
     "output_type": "stream",
     "text": [
      "Response status code: 403\n"
     ]
    },
    {
     "name": "stdout",
     "output_type": "stream",
     "text": [
      "Response status code: 403: This sweater is a perfect transition piece   the material is really soft  while it has the shape of a poncho it is cut nicely and doesn t make you look like a big blob \n"
     ]
    },
    {
     "name": "stderr",
     "output_type": "stream",
     "text": [
      "Response status code: 403\n"
     ]
    },
    {
     "name": "stdout",
     "output_type": "stream",
     "text": [
      "Response status code: 403: This a lovely piece  you have to see it close up to appreciate the subtle details  i typically wear xxsp or xsp  so i did not expect this to fit  but decided to try it because i liked the style  as a petite  many poncho styles overwhelm me and look like tents  not this one  the xxs fit nicely   just the right length and width  i am 5 1  and 108 lbs  i think one of the reasons this has not been popular is because it only shows up when searching on ponchos  and not when you search for sweaters  it\n"
     ]
    },
    {
     "name": "stderr",
     "output_type": "stream",
     "text": [
      "Response status code: 403\n"
     ]
    },
    {
     "name": "stdout",
     "output_type": "stream",
     "text": [
      "Response status code: 403: This is probably a blouse for curvy women  with that i mean large breasted  i am a 40d and the xl fits well and the cleavage is in the limit of ok for the office  the bottom is a little too large but not too long  however  the fabric feels extremely comfortable and it stretches but it doesn t lose the shape  i am tempted to buy 2 more  if you are thin  you probably need to size down \n"
     ]
    },
    {
     "name": "stderr",
     "output_type": "stream",
     "text": [
      "Response status code: 403\n"
     ]
    },
    {
     "name": "stdout",
     "output_type": "stream",
     "text": [
      "Response status code: 403: This tee is super soft and thin  perfect for hot humid days  i went with the neutral version and it is adorable with chino shorts or jean shorts  i found it ran big   i purchased in xs and still pretty baggy \n"
     ]
    },
    {
     "name": "stderr",
     "output_type": "stream",
     "text": [
      "Response status code: 403\n"
     ]
    },
    {
     "name": "stdout",
     "output_type": "stream",
     "text": [
      "Response status code: 403: nan\n"
     ]
    },
    {
     "name": "stderr",
     "output_type": "stream",
     "text": [
      "Response status code: 403\n"
     ]
    },
    {
     "name": "stdout",
     "output_type": "stream",
     "text": [
      "Response status code: 403: Another shirt i really wanted to love  i adore green but so few tops are made in this color   please make more    however  this shirt didn t work for me  i think it s a matter of where your curves live  the shirt was true to size  but my boobs meant i was showing more cleavage than the model  and the top part felt more like a bib than embroidery  sad coz it is lovely and feels lovely on  probably a great shirt for different body types  would love to see more green clothing    \n"
     ]
    },
    {
     "name": "stderr",
     "output_type": "stream",
     "text": [
      "Response status code: 403\n"
     ]
    },
    {
     "name": "stdout",
     "output_type": "stream",
     "text": [
      "Response status code: 403: I ordered the grey yellow  here comes the sun  shirt  it s cute  but it runs quite large and isn t special enough for the price  meh \n"
     ]
    },
    {
     "name": "stderr",
     "output_type": "stream",
     "text": [
      "Response status code: 403\n"
     ]
    },
    {
     "name": "stdout",
     "output_type": "stream",
     "text": [
      "Response status code: 403: I ordered the light pink version in size xl  the details of the top and the shade of pink are pretty  but  the shirt fits me much shorter than on the model  i m not quite 5 ft  6 inches so it should have worked  the material is thin so i was able to stretch it out to give more length  it does look stretched out now though  i washed it and it shrank a bit so i stretched it again  this is a top that i kept to wear under vests  the pretty colors and the softness of the material make it worth keepin\n"
     ]
    },
    {
     "name": "stderr",
     "output_type": "stream",
     "text": [
      "Response status code: 403\n"
     ]
    },
    {
     "name": "stdout",
     "output_type": "stream",
     "text": [
      "Response status code: 403: Love this soft sweatshirt  the peplum makes it a little different and the quality is great  go to piece for spring  loose fitting but true to size in shoulders \n"
     ]
    },
    {
     "name": "stderr",
     "output_type": "stream",
     "text": [
      "Response status code: 403\n"
     ]
    },
    {
     "name": "stdout",
     "output_type": "stream",
     "text": [
      "Response status code: 403: I really like this jacket  very comfortable  nice material  i like the weight of this jacket  i wore it alone but it will be cute with a t shirt under it too \n"
     ]
    },
    {
     "name": "stderr",
     "output_type": "stream",
     "text": [
      "Response status code: 403\n"
     ]
    },
    {
     "name": "stdout",
     "output_type": "stream",
     "text": [
      "Response status code: 403: nan\n"
     ]
    },
    {
     "name": "stderr",
     "output_type": "stream",
     "text": [
      "Response status code: 403\n"
     ]
    },
    {
     "name": "stdout",
     "output_type": "stream",
     "text": [
      "Response status code: 403: I purchased this shirt in grey  i loved the color and the details  especially the lace on the shoulders  i just found the fit to be off for me  the style certainly calls for a relaxed fit but the small was loose in an unflattering way  had the xs been available i might have considered exchanging for an xs but the s was already a bit short on me   strange because although i am not petite  i am fairly short wasted   i also wasn t in love with the neckline  i will continue my search for a weekend w\n"
     ]
    },
    {
     "name": "stderr",
     "output_type": "stream",
     "text": [
      "Response status code: 403\n"
     ]
    },
    {
     "name": "stdout",
     "output_type": "stream",
     "text": [
      "Response status code: 403: Very nice top  fits true to size  a little short buy looks nice with jeans or work pants\n"
     ]
    },
    {
     "name": "stderr",
     "output_type": "stream",
     "text": [
      "Response status code: 403\n"
     ]
    },
    {
     "name": "stdout",
     "output_type": "stream",
     "text": [
      "Response status code: 403: It s short and wide  not a good combo for anyone who isn t stick thin \n"
     ]
    },
    {
     "name": "stderr",
     "output_type": "stream",
     "text": [
      "Response status code: 403\n"
     ]
    },
    {
     "name": "stdout",
     "output_type": "stream",
     "text": [
      "Response status code: 403: Love this t shirt  the weight is great for the impending heat and humidity of summer  it looks positively fabulous for casual occasions with pilcro chinos in moss and fuchsia suede pumps \n"
     ]
    },
    {
     "name": "stderr",
     "output_type": "stream",
     "text": [
      "Response status code: 403\n"
     ]
    },
    {
     "name": "stdout",
     "output_type": "stream",
     "text": [
      "Response status code: 403: I purchased the yellow and i am quite happy  it matches a lot of things that i already own  nice summer tee \n"
     ]
    },
    {
     "name": "stderr",
     "output_type": "stream",
     "text": [
      "Response status code: 403\n"
     ]
    },
    {
     "name": "stdout",
     "output_type": "stream",
     "text": [
      "Response status code: 403: I bought the  here comes the sun  version of this shirt  i had to have it  i m a cervical cancer survivor who is still dealing with some health issues  i recently attended a cancer survivor event where a women talked about her life with cancer  she said that you no longer counts the years of her life  instead she counts her sunny days  i was inspired to do the same  so  i love this shirt  i got it on sale  but it still could ve been cheaper \n"
     ]
    },
    {
     "name": "stderr",
     "output_type": "stream",
     "text": [
      "Response status code: 403\n"
     ]
    },
    {
     "name": "stdout",
     "output_type": "stream",
     "text": [
      "Response status code: 403: Love this tee  lightweight  airy and comfy  i think it fits true to size  so soft and summery  can t wait to wear it this summer \n"
     ]
    },
    {
     "name": "stderr",
     "output_type": "stream",
     "text": [
      "Response status code: 403\n"
     ]
    },
    {
     "name": "stdout",
     "output_type": "stream",
     "text": [
      "Response status code: 403: This is much more a blouse than a  tee   the detailing is beautiful and the fabric on the back is a more stuff  starched cotton  not stretchy jersey  because of that i felt like this top ran small  i had to size up \n"
     ]
    },
    {
     "name": "stderr",
     "output_type": "stream",
     "text": [
      "Response status code: 403\n"
     ]
    },
    {
     "name": "stdout",
     "output_type": "stream",
     "text": [
      "Response status code: 403: This runs way big   i would recommend sizing down at least one size   possibly 2     i got the design with divers   it s fun and light for summer   soft material and very comfy \n"
     ]
    },
    {
     "name": "stderr",
     "output_type": "stream",
     "text": [
      "Response status code: 403\n"
     ]
    },
    {
     "name": "stdout",
     "output_type": "stream",
     "text": [
      "Response status code: 403: Love the diving beauty version  it is charming without being too  cutsie  which i stay away from  the epitome of summer and that grab and go easy little statement  i find it runs true to size   you could safely size down if need be  love it  thinking of getting the here comes the sun too  tuck it in  tie it in the back or side or great just draping   love the little touch on the sleeve too   nice surprise \n"
     ]
    },
    {
     "name": "stderr",
     "output_type": "stream",
     "text": [
      "Response status code: 403\n"
     ]
    },
    {
     "name": "stdout",
     "output_type": "stream",
     "text": [
      "Response status code: 403: This is great  on the model it looks largish  but on me it doesn t  if you re curvier like me  5 10   155  32e  it may be more fitted  long arms with great wrists  design is just as shown  not a sturdy piece  but not cheap looking in any way  i plan to hand wash and not drop coffee down the front so i can wear it for a long time  just what i want to wear on certain days  and more colors would be great  thanks  retailer \n"
     ]
    },
    {
     "name": "stderr",
     "output_type": "stream",
     "text": [
      "Response status code: 403\n"
     ]
    },
    {
     "name": "stdout",
     "output_type": "stream",
     "text": [
      "Response status code: 403: This is a really flattering tee for my curves  pretty lace details  i purchased the gray and ordered the wine  the pink looked more peach to me in the store  only reason for 4 stars is that the back material wrinkles easily  true to size  large  for me \n"
     ]
    },
    {
     "name": "stderr",
     "output_type": "stream",
     "text": [
      "Response status code: 403\n"
     ]
    },
    {
     "name": "stdout",
     "output_type": "stream",
     "text": [
      "Response status code: 403: I bought the design which has now sold out  of the sailboats and waves along the top  the t shirt is super soft and thin  but  it s not sheer or see through  very light and cool for hot humid summer days  has some nice stretch as well  a really gentle cotton knit     this top does run large  maybe that s so it will be cool and not stick to you  thus  i didn t size down because i don t like clothes too form fitting on super hot days \n"
     ]
    },
    {
     "name": "stderr",
     "output_type": "stream",
     "text": [
      "Response status code: 403\n"
     ]
    },
    {
     "name": "stdout",
     "output_type": "stream",
     "text": [
      "Response status code: 403: Bought this in green at my local store and fell in love with it  i also tried one in pink and it was a bit sheer which is why i opted for the green color instead  very nice and feminine \n"
     ]
    },
    {
     "name": "stderr",
     "output_type": "stream",
     "text": [
      "Response status code: 403\n"
     ]
    },
    {
     "name": "stdout",
     "output_type": "stream",
     "text": [
      "Response status code: 403: I purchased this item as a gift for my wife and she loves it  the quality for the price is great  soft and comfortable  needs to be washed with care but is worth it\n"
     ]
    },
    {
     "name": "stderr",
     "output_type": "stream",
     "text": [
      "Response status code: 403\n"
     ]
    },
    {
     "name": "stdout",
     "output_type": "stream",
     "text": [
      "Response status code: 403: Saw this on the sale rack and decided to try on  i looked like the dancing hypos in the movie fantasia  i am petite and not heavy but this is for very slim and tall people  too much fabric in the peplum part \n"
     ]
    },
    {
     "name": "stderr",
     "output_type": "stream",
     "text": [
      "Response status code: 403\n"
     ]
    },
    {
     "name": "stdout",
     "output_type": "stream",
     "text": [
      "Response status code: 403: This product is comfortable and stylish  i love the design and the color print  i can dresss it up and dress it down  it goes with everything and also fits great \n"
     ]
    },
    {
     "name": "stderr",
     "output_type": "stream",
     "text": [
      "Response status code: 403\n"
     ]
    },
    {
     "name": "stdout",
     "output_type": "stream",
     "text": [
      "Response status code: 403: I wanted this tank to work so badly  it was a great deal and so beautiful  unfortunately the top fitted portion ends right below my chest then the shirt flares out so i looked like a cupcake  my belly also showed slightly because the shirt is short  if you have a short torso  this would work great  if not  unfortunately  its not great   tear\n"
     ]
    },
    {
     "name": "stderr",
     "output_type": "stream",
     "text": [
      "Response status code: 403\n"
     ]
    },
    {
     "name": "stdout",
     "output_type": "stream",
     "text": [
      "Response status code: 403: I am 5 8 with curvy  muscular body and 36ddd boobs  the ruffle ends up hitting me right below my breasts and creates the look of being about 6 months pregnant  the beading is beautiful and i wish that it fit \n"
     ]
    },
    {
     "name": "stderr",
     "output_type": "stream",
     "text": [
      "Response status code: 403\n"
     ]
    },
    {
     "name": "stdout",
     "output_type": "stream",
     "text": [
      "Response status code: 403: I love this  seriously would buy again  i wish it was warmer out so i could wear it\n"
     ]
    },
    {
     "name": "stderr",
     "output_type": "stream",
     "text": [
      "Response status code: 403\n"
     ]
    },
    {
     "name": "stdout",
     "output_type": "stream",
     "text": [
      "Response status code: 403: I love this top  it is very short and hits at a potentially unflattering area if one has wider hips  the fabric and swing to the  skirt  is adorable \n"
     ]
    },
    {
     "name": "stderr",
     "output_type": "stream",
     "text": [
      "Response status code: 403\n"
     ]
    },
    {
     "name": "stdout",
     "output_type": "stream",
     "text": [
      "Response status code: 403: I wanted to like this top so so so so badly  so badly in fact  that after the first size didn t fit  i ordered two other sizes to make sure  xl  l  m  none of them worked i really wanted to like this top  the online photo makes the clothing look so flattering and the shirt is just not    at least on me  the shirt online on the model looks slimming and a lot longer than the actual piece of the clothing  the beaded work is very beautiful  but short causing the very poofy peplum to start at the mos\n"
     ]
    },
    {
     "name": "stderr",
     "output_type": "stream",
     "text": [
      "Response status code: 403\n"
     ]
    },
    {
     "name": "stdout",
     "output_type": "stream",
     "text": [
      "Response status code: 403: Absolutely beautiful     usually don t leave reviews here  but this top  material  beading  style  is so gorgeous i would be remiss if i didn t  i have a short torso  so the peplum hit me above the belly button  it s very voluminous  but with the right pants and heels  it is a perfect outfit  as a full time student  i m apt to find retailer expensive   but this purchase was so very much worth it  in terms of sizing  i initially got the s to accommodate my bust  30f  but preferred the xs \n"
     ]
    },
    {
     "name": "stderr",
     "output_type": "stream",
     "text": [
      "Response status code: 403\n"
     ]
    },
    {
     "name": "stdout",
     "output_type": "stream",
     "text": [
      "Response status code: 403: I really liked this top when i tried it on but as i wore it the bottom of the sleeves stretched out terrible where they looked worn out from wearing over and over  and since this happened with the first wearing and i paid  88 00 i sent it back  if it hadn t been for that it s a comfy and cute casual top\n"
     ]
    },
    {
     "name": "stderr",
     "output_type": "stream",
     "text": [
      "Response status code: 403\n"
     ]
    },
    {
     "name": "stdout",
     "output_type": "stream",
     "text": [
      "Response status code: 403: Ordered this top online  color is a little more gray than green but it is gorgeous  comfortable and flattering  so much so  i am ordering the navy too  great quality   fabulous with jeans  \n"
     ]
    },
    {
     "name": "stderr",
     "output_type": "stream",
     "text": [
      "Response status code: 403\n"
     ]
    },
    {
     "name": "stdout",
     "output_type": "stream",
     "text": [
      "Response status code: 403: I strongly disagree with the previous reviewer  the shirt in our store was featured in all colors   i chose the burnt orange color to try on and it is was incredibly soft   i felt like i was wearing a t shirt with an easy on and easy off feel  the flow of the shirt allows you to wear out or tuck in   i paired with teal velvet crops and tucked the shirt in for more structure to the outfit  love   \n"
     ]
    },
    {
     "name": "stderr",
     "output_type": "stream",
     "text": [
      "Response status code: 403\n"
     ]
    },
    {
     "name": "stdout",
     "output_type": "stream",
     "text": [
      "Response status code: 403: Was scared at first to order this product  when i tried it on i was amazed on how good it looks  fits just like the model picture  and the material is awesome \n"
     ]
    },
    {
     "name": "stderr",
     "output_type": "stream",
     "text": [
      "Response status code: 403\n"
     ]
    },
    {
     "name": "stdout",
     "output_type": "stream",
     "text": [
      "Response status code: 403: This would be great on someone with a slim build  it s very true to size  it hits above the hips and runs pretty straight through the body for a boxy look  i loved the color and pointelle detail but on my thicker build it just sort of hung in a too casual way  note that it is the kind of cotton that is likely to stretch with wear  and spring back with cleaning  \n"
     ]
    },
    {
     "name": "stderr",
     "output_type": "stream",
     "text": [
      "Response status code: 403\n"
     ]
    },
    {
     "name": "stdout",
     "output_type": "stream",
     "text": [
      "Response status code: 403: Love the blue color  is a bit short  but fine with a tank underneath  i purchased the small  that s what i usually wear \n"
     ]
    },
    {
     "name": "stderr",
     "output_type": "stream",
     "text": [
      "Response status code: 403\n"
     ]
    },
    {
     "name": "stdout",
     "output_type": "stream",
     "text": [
      "Response status code: 403: I love this top  i got a medium in black on sale  i am 5 8   and 135lbs  the medium fits great  the medium is slightly loose on me through the tummy  which is nice   in my experience  it is not too constraining  contrary to other reviews  however  i think it depends on your body shape  i am a coke bottle  this will be a wardrobe staple for day to day and going out  note  it is too low cut for work wear  very happy with my purchase \n"
     ]
    },
    {
     "name": "stderr",
     "output_type": "stream",
     "text": [
      "Response status code: 403\n"
     ]
    },
    {
     "name": "stdout",
     "output_type": "stream",
     "text": [
      "Response status code: 403: Gorgeous color and great price  but too low cut and because of the design  a cami s wouldn t work  disappointed\n"
     ]
    },
    {
     "name": "stderr",
     "output_type": "stream",
     "text": [
      "Response status code: 403\n"
     ]
    },
    {
     "name": "stdout",
     "output_type": "stream",
     "text": [
      "Response status code: 403: I bought this online  this looked like a sweater that was accidentally shrunk in the dryer  when i received it     i will be returning this \n"
     ]
    },
    {
     "name": "stderr",
     "output_type": "stream",
     "text": [
      "Response status code: 403\n"
     ]
    },
    {
     "name": "stdout",
     "output_type": "stream",
     "text": [
      "Response status code: 403: After reading the reviews about this top being really clingy  i decided to order up a size and purchased a medium  when i took it out of the box today and held it up it looked huge and i thought i had made a mistake  however when i tried it on it actually fit really well  i could see if i had ordered my usual small how it would have clinged to my body in a unflattering way  very happy with the top and thankful for the reviews \n"
     ]
    },
    {
     "name": "stderr",
     "output_type": "stream",
     "text": [
      "Response status code: 403\n"
     ]
    },
    {
     "name": "stdout",
     "output_type": "stream",
     "text": [
      "Response status code: 403: I love sundry clothing  this lightweight fleece is the perfect weight  it keeps you warm enough when it s cold  but not hot when it is milder  it s super soft with nice embroidery  size 1 is a great fit for my 5 1  frame  wear it to hang at home or to go out \n"
     ]
    },
    {
     "name": "stderr",
     "output_type": "stream",
     "text": [
      "Response status code: 403\n"
     ]
    },
    {
     "name": "stdout",
     "output_type": "stream",
     "text": [
      "Response status code: 403: Love sundry  great quality  if you want a looser more comfy fit size up \n"
     ]
    },
    {
     "name": "stderr",
     "output_type": "stream",
     "text": [
      "Response status code: 403\n"
     ]
    },
    {
     "name": "stdout",
     "output_type": "stream",
     "text": [
      "Response status code: 403: nan\n"
     ]
    },
    {
     "name": "stderr",
     "output_type": "stream",
     "text": [
      "Response status code: 403\n"
     ]
    },
    {
     "name": "stdout",
     "output_type": "stream",
     "text": [
      "Response status code: 403: Very pretty top  comfortable and soft but looks nice enough for work \n"
     ]
    },
    {
     "name": "stderr",
     "output_type": "stream",
     "text": [
      "Response status code: 403\n"
     ]
    },
    {
     "name": "stdout",
     "output_type": "stream",
     "text": [
      "Response status code: 403: Normally i am a size 10 or 12 but i sized down to a small  still very swingy and beautiful  i bought the pink and the taupe as well  the colors are beautiful and have great texture to hide stains \n"
     ]
    },
    {
     "name": "stderr",
     "output_type": "stream",
     "text": [
      "Response status code: 403\n"
     ]
    },
    {
     "name": "stdout",
     "output_type": "stream",
     "text": [
      "Response status code: 403: This runs really big  i usually wear s or m so i got a small but i need the xs in this top and it is sold out  i don t have a store close by  about an hour away  and i hate paying shipping for returns  i will either have to plan a trip to the store or try to exchange for size over the phone  i debated keeping the small but it is really too big      i love the style though \n"
     ]
    },
    {
     "name": "stderr",
     "output_type": "stream",
     "text": [
      "Response status code: 403\n"
     ]
    },
    {
     "name": "stdout",
     "output_type": "stream",
     "text": [
      "Response status code: 403: I purchased this top in the taupe color  and it is much prettier in person than it photographs online  it runs about a half size too large  and sits slightly off the shoulders  fun casual top for the fall \n"
     ]
    },
    {
     "name": "stderr",
     "output_type": "stream",
     "text": [
      "Response status code: 403\n"
     ]
    },
    {
     "name": "stdout",
     "output_type": "stream",
     "text": [
      "Response status code: 403: I got this top in an xs and the fit is great  the top is a little darker than pictured  it looks great with white  kaki and denim \n"
     ]
    },
    {
     "name": "stderr",
     "output_type": "stream",
     "text": [
      "Response status code: 403\n"
     ]
    },
    {
     "name": "stdout",
     "output_type": "stream",
     "text": [
      "Response status code: 403: Fabric is soft  body runs a bit big but falls nicely  length is great for leggings or skinny jeans  overall  wonderful tee shirt \n"
     ]
    },
    {
     "name": "stderr",
     "output_type": "stream",
     "text": [
      "Response status code: 403\n"
     ]
    },
    {
     "name": "stdout",
     "output_type": "stream",
     "text": [
      "Response status code: 403: Ordered the pink in a small  but it ran big   the xs was perfect for my 5 6  medium frame  it is comfortable and the fabric has an interesting texture  looks great with chinos or jeans  might need to get the other color \n"
     ]
    },
    {
     "name": "stderr",
     "output_type": "stream",
     "text": [
      "Response status code: 403\n"
     ]
    },
    {
     "name": "stdout",
     "output_type": "stream",
     "text": [
      "Response status code: 403: Very cute top but runs very very big   im5 ft 5 in tall  120 lbs  i ordered the xs but it was so big it looked like a maternity top   sadly returned the top  otherwise the top was made of good quality fabric \n"
     ]
    },
    {
     "name": "stderr",
     "output_type": "stream",
     "text": [
      "Response status code: 403\n"
     ]
    },
    {
     "name": "stdout",
     "output_type": "stream",
     "text": [
      "Response status code: 403: This top is everything i wanted it to be  the fabric is beautiful  and the fit is flowy and comfortable  i would love to own a u neckline version \n"
     ]
    },
    {
     "name": "stderr",
     "output_type": "stream",
     "text": [
      "Response status code: 403\n"
     ]
    },
    {
     "name": "stdout",
     "output_type": "stream",
     "text": [
      "Response status code: 403: Great t  great lightweight  almost linen like fabric  a bit on the sheer side  but love the fit and the neckline \n"
     ]
    },
    {
     "name": "stderr",
     "output_type": "stream",
     "text": [
      "Response status code: 403\n"
     ]
    },
    {
     "name": "stdout",
     "output_type": "stream",
     "text": [
      "Response status code: 403: Flattering fit and neckline  too thin to wear without a cami or tank underneath  for me   but i was expecting that  great go to tee \n"
     ]
    },
    {
     "name": "stderr",
     "output_type": "stream",
     "text": [
      "Response status code: 403\n"
     ]
    },
    {
     "name": "stdout",
     "output_type": "stream",
     "text": [
      "Response status code: 403: I love this top  i am always looking for tops that are comfortable and work as basics  the material is super soft and not too clingy  it feels like pajamas  but looks very polished  i am a little wide in the stomach and bust  but this didn t look boxy  i got these in all 3 colors \n"
     ]
    },
    {
     "name": "stderr",
     "output_type": "stream",
     "text": [
      "Response status code: 403\n"
     ]
    },
    {
     "name": "stdout",
     "output_type": "stream",
     "text": [
      "Response status code: 403: This top is just as beautiful in person as online  however  it has two issues for me  1  it is too short  this might work if you have a short torso  but it would forever show my stomach  2  the fabric has way too much static cling  no matter what i tried  it just clung to my stomach and flared out at the sides  not attractive  in short  if you have a short torso and don t mind battling the static  this truly is a beautiful top \n"
     ]
    },
    {
     "name": "stderr",
     "output_type": "stream",
     "text": [
      "Response status code: 403\n"
     ]
    },
    {
     "name": "stdout",
     "output_type": "stream",
     "text": [
      "Response status code: 403: I really wanted to love this shirt  the fit was great  and the fabric just felt beautiful  luxurious  soft and flowing  but the collar was frayed    in addition  the little keyhole area fabric also had to be carefully handled to make it look smooth and not like bad workmanship  i put it aside to return it  then this morning went to have another look at it  wanting to talk myself back into it  but i can t overlook the fact i d be ordering a new shirt that would look time worn  it may be only this\n"
     ]
    },
    {
     "name": "stderr",
     "output_type": "stream",
     "text": [
      "Response status code: 403\n"
     ]
    },
    {
     "name": "stdout",
     "output_type": "stream",
     "text": [
      "Response status code: 403: The material is cheap and looks torn  not as nice as the picture \n"
     ]
    },
    {
     "name": "stderr",
     "output_type": "stream",
     "text": [
      "Response status code: 403\n"
     ]
    },
    {
     "name": "stdout",
     "output_type": "stream",
     "text": [
      "Response status code: 403: This is a really nice top  especially for the price  i am 5 6   34dd  140 lbs and normally wear a medium in dolan tops  in this top i purchased size small since the gathered front provides ample room for my bust  some reviewers have found this top to be on the  boxy  side  i can see that if you don t size down as i did  i found the medium to have too much fabric and look very baggy whereas the small was perfect  i do wish this top was a tad bit longer and less sheer  though  white tops should be\n"
     ]
    },
    {
     "name": "stderr",
     "output_type": "stream",
     "text": [
      "Response status code: 403\n"
     ]
    },
    {
     "name": "stdout",
     "output_type": "stream",
     "text": [
      "Response status code: 403: I bought this shirt in the rust color along with the blue black sweater skirt after seeing it on display in the store  not sure i would have ever put those 2 together but i love the outfit  i m not much of a shirt tucker  either  but this shirt works either way  tucked in a skirt or more casual with jeans  my only criticism is the static cling in the front  as mentioned by another reviewer  i had thought of getting it in white  but if it s shear  then maybe not  haven t been wearing a tank under\n"
     ]
    },
    {
     "name": "stderr",
     "output_type": "stream",
     "text": [
      "Response status code: 403\n"
     ]
    },
    {
     "name": "stdout",
     "output_type": "stream",
     "text": [
      "Response status code: 403: The bright poppy red is gorgeous and the cut flattering and interesting  i m usually between a m and l in tops but went with a s in this one because it looked too sloppy in my usual size  i m a 32 34 d with arms that aren t tiny  and it s a bit tight across the shoulders when i reach forward but not enough to be a problem  in the smaller size it skims my hips nicely but isn t as long as pictured on the model  i would suggest pear shaped girls size down if in between  it is sheer but not so much\n"
     ]
    },
    {
     "name": "stderr",
     "output_type": "stream",
     "text": [
      "Response status code: 403\n"
     ]
    },
    {
     "name": "stdout",
     "output_type": "stream",
     "text": [
      "Response status code: 403: I tried this top because i loved the not so simple  simpleness of it  however  it was a miss for me  loved the fit and style  which i d say is pretty true to size  i just didn t love the color on me  i went for the orange one and the color was a bit too bright for my liking  cute top though  for reference i m a usually small  i m 5 4  and a small fit perfectly \n"
     ]
    },
    {
     "name": "stderr",
     "output_type": "stream",
     "text": [
      "Response status code: 403\n"
     ]
    },
    {
     "name": "stdout",
     "output_type": "stream",
     "text": [
      "Response status code: 403: nan\n"
     ]
    },
    {
     "name": "stderr",
     "output_type": "stream",
     "text": [
      "Response status code: 403\n"
     ]
    },
    {
     "name": "stdout",
     "output_type": "stream",
     "text": [
      "Response status code: 403: Ordered the  white  tee  but when it arrived today  i was surprised by how cream it looked the cut is nice and as other reviewers mentioned  it is on the sheer side  still on the fence of whether or not i ll keep it \n"
     ]
    },
    {
     "name": "stderr",
     "output_type": "stream",
     "text": [
      "Response status code: 403\n"
     ]
    },
    {
     "name": "stdout",
     "output_type": "stream",
     "text": [
      "Response status code: 403: I am short  on the heavy side  5 1  156 lbs  i always wear large petite  this beautiful blouse swallows me  lots of fabric on the front side of the shirt  causing a boxy look  i could totally do a mp if not sp  i am going to try and exchange   beautiful blouse  great quality  breathable fabric  colors are deep and rich  so comfy   highly recommend \n"
     ]
    },
    {
     "name": "stderr",
     "output_type": "stream",
     "text": [
      "Response status code: 403\n"
     ]
    },
    {
     "name": "stdout",
     "output_type": "stream",
     "text": [
      "Response status code: 403: Good structure and quality  a bit large and wish i had ordered something a bit brighter   i ordered the white tee  \n"
     ]
    },
    {
     "name": "stderr",
     "output_type": "stream",
     "text": [
      "Response status code: 403\n"
     ]
    },
    {
     "name": "stdout",
     "output_type": "stream",
     "text": [
      "Response status code: 403: Adore the rust color in this top  very pretty rust color  would go with a lot of stuff  my only small pet peeve with the shirt is the opening under the hook and eye  i have been wearing a seamless tank underneath  but everything else about the blouse fits so perfect  drapes nicely that i think the opening is a minor thing that a tank top can fix  beautiful on  felt that it fit tts  i m usually a 34b  got an xs in this top \n"
     ]
    },
    {
     "name": "stderr",
     "output_type": "stream",
     "text": [
      "Response status code: 403\n"
     ]
    },
    {
     "name": "stdout",
     "output_type": "stream",
     "text": [
      "Response status code: 403: I have this top in orange and white  it is a great top to throw on with jeans  don t put it in the dryer  will shrink \n"
     ]
    },
    {
     "name": "stderr",
     "output_type": "stream",
     "text": [
      "Response status code: 403\n"
     ]
    },
    {
     "name": "stdout",
     "output_type": "stream",
     "text": [
      "Response status code: 403: The material is more like a great tee for the sleeves and the back  so it is so comfortable  i agree with the previous review  i am not thrilled about the hook and eye  but it still looks cute with a tank under it  i bought it in black and i am ordering it as well in white  it looks great with skinny jeans or pants \n"
     ]
    },
    {
     "name": "stderr",
     "output_type": "stream",
     "text": [
      "Response status code: 403\n"
     ]
    },
    {
     "name": "stdout",
     "output_type": "stream",
     "text": [
      "Response status code: 403: nan\n"
     ]
    },
    {
     "name": "stderr",
     "output_type": "stream",
     "text": [
      "Response status code: 403\n"
     ]
    },
    {
     "name": "stdout",
     "output_type": "stream",
     "text": [
      "Response status code: 403: nan\n"
     ]
    },
    {
     "name": "stderr",
     "output_type": "stream",
     "text": [
      "Response status code: 403\n"
     ]
    },
    {
     "name": "stdout",
     "output_type": "stream",
     "text": [
      "Response status code: 403: I love this top    i just had a baby and it is difficult to balance classy with comfortable with out looking sloppy  this top is perfect  it may run a tiny bit big but for the most part it is true to size  great for busty girls  36dd  \n"
     ]
    },
    {
     "name": "stderr",
     "output_type": "stream",
     "text": [
      "Response status code: 403\n"
     ]
    },
    {
     "name": "stdout",
     "output_type": "stream",
     "text": [
      "Response status code: 403: The color is as pictured  like a deep coral  very comfy and great drape \n"
     ]
    },
    {
     "name": "stderr",
     "output_type": "stream",
     "text": [
      "Response status code: 403\n"
     ]
    },
    {
     "name": "stdout",
     "output_type": "stream",
     "text": [
      "Response status code: 403: I didn t pay much attn to this online  i m not much on front hook   tie closures  well  saw today at the local store   decided to try on both the s   m  i am usually a s in tops  but the m was only a bit more roomy   longer than the s  so i went with the size m  i thought the styling of it paired well w  the pilcro cord skinnys i had on  looked much better than the pics online  i have other pilcro skinny cords   jeans in vs colors so i think this top will work out well for me  love the 3 4 sleev\n"
     ]
    },
    {
     "name": "stderr",
     "output_type": "stream",
     "text": [
      "Response status code: 403\n"
     ]
    },
    {
     "name": "stdout",
     "output_type": "stream",
     "text": [
      "Response status code: 403: I m glad this was on sale because i would not have purchased it at full price due to the strange fit in the sleeve  the shirt has a slight raglan sleeve  but the sleeves do not fit loosely  they kind of twist under the armpit area  i do not have large arms  so i am ok with straightening out the knit sleeves  but they do not fit right  i also was surprised at the unfinished edge along the neckline  it is messy and tacky looking  but i think that is how it was meant to be  my recommendation to buy\n"
     ]
    },
    {
     "name": "stderr",
     "output_type": "stream",
     "text": [
      "Response status code: 403\n"
     ]
    },
    {
     "name": "stdout",
     "output_type": "stream",
     "text": [
      "Response status code: 403: A cute top  slightly tight in the upper area  debated returning but decided to keep as the top is unique and i know that i will wear it frequently  aleardy thinking of way to wear all year around  runs small\n"
     ]
    },
    {
     "name": "stderr",
     "output_type": "stream",
     "text": [
      "Response status code: 403\n"
     ]
    },
    {
     "name": "stdout",
     "output_type": "stream",
     "text": [
      "Response status code: 403: Retailer sizes are all over the place  i fell in love with this top  and tried it a couple of times to see if it would work  unfortunately i have to send it back  the design and colors are very good  the side slits are very high  right up to the waist  but the top still looks good  unfortunately it is very small  it still fits because of the long side slits  and is not that tight at the top due to sleeveless  but the fit just wasn t as flattering  it does seem to run 1 2 sizes small  so i a\n"
     ]
    },
    {
     "name": "stderr",
     "output_type": "stream",
     "text": [
      "Response status code: 403\n"
     ]
    },
    {
     "name": "stdout",
     "output_type": "stream",
     "text": [
      "Response status code: 403: When i first tried this top on  i didn t like it because the chest just spilled open  i saw it on someone else and it was so flattering i gave it another try  i bought it in both the red and the black  and plan to put a stitch or safety pin through the top to keep it closed  it is very slimming and hides tummy muffin top issues  i plan to wear it with the stretchy knee length maeve pencil skirts all summer  along with shorts and pants  give this one a try \n"
     ]
    },
    {
     "name": "stderr",
     "output_type": "stream",
     "text": [
      "Response status code: 403\n"
     ]
    },
    {
     "name": "stdout",
     "output_type": "stream",
     "text": [
      "Response status code: 403: nan\n"
     ]
    },
    {
     "name": "stderr",
     "output_type": "stream",
     "text": [
      "Response status code: 403\n"
     ]
    },
    {
     "name": "stdout",
     "output_type": "stream",
     "text": [
      "Response status code: 403: I thought from the picture this would be a light floaty top  when it arrived  the fabric was a heavy knit and the neckline sagged very low  on me  granted i m a pear  the bottom layer hugged my tummy and rear in a very unflattering way  the only thing i liked was the color  back it went \n"
     ]
    },
    {
     "name": "stderr",
     "output_type": "stream",
     "text": [
      "Response status code: 403\n"
     ]
    },
    {
     "name": "stdout",
     "output_type": "stream",
     "text": [
      "Response status code: 403: Tried this on at my local retailer  the red color is pretty but not a  true  red  the fabric has a nice weight to it not the usual thin stuff that retailer seems to offer these days  two big problems though  the top is very low cut and i could see it  opening  up to the world  and the armholes are cut so big and low that you could see the sides of my bra  this is a deal breaker for me  it can t be fixed \n"
     ]
    },
    {
     "name": "stderr",
     "output_type": "stream",
     "text": [
      "Response status code: 403\n"
     ]
    },
    {
     "name": "stdout",
     "output_type": "stream",
     "text": [
      "Response status code: 403: I ordered one of the xl in the red version  the fit is true to size  it matches the model s photos  the color is much prettier in person  it looks washed out on my computer  but  in person  it s a nice light red  the quality of the material is okay  not as good as with the floral version of this style  florascura tank   the layers are flattering for my pear shape  it definitely needs a tank underneath though  not worth full price in my opinion but worth getting on sale \n"
     ]
    },
    {
     "name": "stderr",
     "output_type": "stream",
     "text": [
      "Response status code: 403\n"
     ]
    },
    {
     "name": "stdout",
     "output_type": "stream",
     "text": [
      "Response status code: 403: This top isn t so much on the hanger but very cute once you try it  the neckline is really cut low so a pin or stitch is necessary  the length on the regular is perfect for my shorter body  if you have a long torso it might not work for you  love how the layers conceal but do not overwhelm your body   i purchased my regular size medium in black  for reference  5 6   145 lbs  34dd \n"
     ]
    },
    {
     "name": "stderr",
     "output_type": "stream",
     "text": [
      "Response status code: 403\n"
     ]
    },
    {
     "name": "stdout",
     "output_type": "stream",
     "text": [
      "Response status code: 403: I wish that it had fit me better as the feel of the fabric and the color were great  regrettably  i am sending it back as the v opening is too low for my tastes and the fabric on the left of the first layer drapes weird on me  i am usually a s or m and in this top the s was plenty of length and room  would be swimming in a m  the fabric was soft and felt great against your skin and not thin as some fabrics can be  the color was just as shown and beautiful  hope it works for some of you out there\n"
     ]
    },
    {
     "name": "stderr",
     "output_type": "stream",
     "text": [
      "Response status code: 403\n"
     ]
    },
    {
     "name": "stdout",
     "output_type": "stream",
     "text": [
      "Response status code: 403: This is one of the best date night tops i ve seen in a while  i m 5 6  120 lbs and the xs is perfect  the fit is spot on and the fabric feels nice  i will need a teeny tiny safety pin to keep the front closed  but i do that often so i don t see it as a design flaw \n"
     ]
    },
    {
     "name": "stderr",
     "output_type": "stream",
     "text": [
      "Response status code: 403\n"
     ]
    },
    {
     "name": "stdout",
     "output_type": "stream",
     "text": [
      "Response status code: 403: The color  design and fabric of this top  got it in the red  were just as i expected  but as the owner of several deletta brand tops  i was very surprised to find that my usual size small runs very large in this tank  not only did the front dip too low but so did the arm holes  and the top just hangs on me  it was so big for a small that it almost made me think it had been mislabeled and was really a size large    bummed to return it because i really love the color and the style  will try an x s\n"
     ]
    },
    {
     "name": "stderr",
     "output_type": "stream",
     "text": [
      "Response status code: 403\n"
     ]
    },
    {
     "name": "stdout",
     "output_type": "stream",
     "text": [
      "Response status code: 403: I bought this yesterday and love it  it drapes beautifully  it s a little fancy but versatile enough that you could wear it for semi casual occasions  the first tier hits at the natural waist  while the second tier hits at about hip height  this is very flattering for the waist  while still being drape y and a bit loose  i thought this fit a little bigger than to size  i am currently postpartum boobed so i am 5 4   135 lbs and 34dd and the s fit great   i am currently a s in other retailer tops  \n"
     ]
    },
    {
     "name": "stderr",
     "output_type": "stream",
     "text": [
      "Response status code: 403\n"
     ]
    },
    {
     "name": "stdout",
     "output_type": "stream",
     "text": [
      "Response status code: 403: First  i love this top overall  it is simple and classic and has a flattering  forgiving cut  i agree there is a major design flaw as other reviewers have mentioned  the v neck is so deep and falls so low you need to wear a camisole underneath  instead i chose to take a stitch at the neckline to keep it together where i wanted it  and that worked beautifully  i think the top should have included either a small button or snap to hold the neckline up properly or should have been stitched together\n"
     ]
    },
    {
     "name": "stderr",
     "output_type": "stream",
     "text": [
      "Response status code: 403\n"
     ]
    },
    {
     "name": "stdout",
     "output_type": "stream",
     "text": [
      "Response status code: 403: Wow im really glad i didn t listen to the negative reviews  in ordered this top in the black and red and i have to say this is one of my favorite tops  the neck line i agree does need to be secured  i wish they would have added a snap  it s fine though as i don t mind sewing it closed  this top is worth it  i m 5 2 108 lbs and small chested  so for slim girls i think this is perfect \n"
     ]
    },
    {
     "name": "stderr",
     "output_type": "stream",
     "text": [
      "Response status code: 403\n"
     ]
    },
    {
     "name": "stdout",
     "output_type": "stream",
     "text": [
      "Response status code: 403: Just picked this up in black in the store  on the hanger it looks like just another v neck tank  but it is quite flattering on  however  the v neck is quite exaggerated and loose  i will be pinning it so it doesn t sag open    \n"
     ]
    },
    {
     "name": "stderr",
     "output_type": "stream",
     "text": [
      "Response status code: 403\n"
     ]
    },
    {
     "name": "stdout",
     "output_type": "stream",
     "text": [
      "Response status code: 403: This is a nice lightweight summer top to wear with a pair of shorts  it is low cut though   lower than i expected so i wear a tank underneath it  the layers are flattering \n"
     ]
    },
    {
     "name": "stderr",
     "output_type": "stream",
     "text": [
      "Response status code: 403\n"
     ]
    },
    {
     "name": "stdout",
     "output_type": "stream",
     "text": [
      "Response status code: 403: This shirt was so weird it does not fit like the photo at all  there seems to be missing a stitch or something at the top as it is wide open until the bottom where it meets the other layer  i could wear a tank camisole underneath  but it still just did not fit right  i do not have a large chest  but this was ridiculous  beyond that  the red color was just okay  even though i purchased this on sale  it was not worth the price and i returned \n"
     ]
    },
    {
     "name": "stderr",
     "output_type": "stream",
     "text": [
      "Response status code: 403\n"
     ]
    },
    {
     "name": "stdout",
     "output_type": "stream",
     "text": [
      "Response status code: 403: Right out of the bag  this top didn t really match the one pictured here  it is the right top  though   the fabric was heavy and felt  damp     the way something feels coming out of the wash  very odd   and the fit is nothing like what s shown on the model  the  v  is not fitted or nicely wrapped  or even tacked in place     it was just two loose  droopy pieces so most of my bra was showing no matter how many times i put the pieces back where they belonged  i m neither  flat chested  nor  busty \n"
     ]
    },
    {
     "name": "stderr",
     "output_type": "stream",
     "text": [
      "Response status code: 403\n"
     ]
    },
    {
     "name": "stdout",
     "output_type": "stream",
     "text": [
      "Response status code: 403: I was surprised and impressed by how well made this top is  it looks and feels expensive and of good quality  it is a very flattering fit for someone like me who is small on top and wider at the hips area  i look forward to wearing this top all through the fall winter holiday seasons \n"
     ]
    },
    {
     "name": "stderr",
     "output_type": "stream",
     "text": [
      "Response status code: 403\n"
     ]
    },
    {
     "name": "stdout",
     "output_type": "stream",
     "text": [
      "Response status code: 403: Glad i got this on sale  it is more yellow than the photo   short  it is also heavy with a sueded interior  would have given more stars if it was less boxy   longer \n"
     ]
    },
    {
     "name": "stderr",
     "output_type": "stream",
     "text": [
      "Response status code: 403\n"
     ]
    },
    {
     "name": "stdout",
     "output_type": "stream",
     "text": [
      "Response status code: 403: Love the unique details and neutral color scheme  top is boxy but i liked the way it looked on my 5 2  115 lb  frame  it s comfortable and well made  thicker material   seems to be holding up fine after one washing   looks great with skinny jeans   highly recommend \n"
     ]
    },
    {
     "name": "stderr",
     "output_type": "stream",
     "text": [
      "Response status code: 403\n"
     ]
    },
    {
     "name": "stdout",
     "output_type": "stream",
     "text": [
      "Response status code: 403: I really loved this top the minute i put it on  read the other reviews but it really worked for me  i am 5 3   36dd  athletic build and the m fit perfectly with a nice roomy fit  top will be perfect for my upcoming trip to tahoe  plan to wear with light denim  dark denim  and black cropped denim bottoms  even looks great with a culottes or denim skirt  the weight is really nice and it washed nicely  i washed on delicate  and laid flat to dry  a little pressing and good as new  it has a nice boze\n"
     ]
    },
    {
     "name": "stderr",
     "output_type": "stream",
     "text": [
      "Response status code: 403\n"
     ]
    },
    {
     "name": "stdout",
     "output_type": "stream",
     "text": [
      "Response status code: 403: I m a 32ddd and this top fit perfect  i wore it with boyfriend jeans and flats  the material is nice and perfect for fall\n"
     ]
    },
    {
     "name": "stderr",
     "output_type": "stream",
     "text": [
      "Response status code: 403\n"
     ]
    },
    {
     "name": "stdout",
     "output_type": "stream",
     "text": [
      "Response status code: 403: Ordered a l and xl  the sleeves were so tight on both sizes but the rest of the shirt was wide and loose  the tight sleeves were not proportional with the rest of the shirt  both sizes had to be returned \n"
     ]
    },
    {
     "name": "stderr",
     "output_type": "stream",
     "text": [
      "Response status code: 403\n"
     ]
    },
    {
     "name": "stdout",
     "output_type": "stream",
     "text": [
      "Response status code: 403: This might be one of my new go to tops  looks cute with jeans and a sweater or alone  the arms are snug but not uncomfortable and i think it adds to the shirt \n"
     ]
    },
    {
     "name": "stderr",
     "output_type": "stream",
     "text": [
      "Response status code: 403\n"
     ]
    },
    {
     "name": "stdout",
     "output_type": "stream",
     "text": [
      "Response status code: 403: I m keeping this top bc it was on sale but it does look a little maternity  i wore with super skinny white jeans and 3  casual heel  i m short so i needed a little more height to slim me but if your tall and and slender this might work better for you \n"
     ]
    },
    {
     "name": "stderr",
     "output_type": "stream",
     "text": [
      "Response status code: 403\n"
     ]
    },
    {
     "name": "stdout",
     "output_type": "stream",
     "text": [
      "Response status code: 403: I love this shirt  i m 5  4   110lbs  just had 3rd baby so not into tight fighting clothes at the moment  love the loose yet flattering fit of this shirt  the sleeves are not too tight on me and i love the length \n"
     ]
    },
    {
     "name": "stderr",
     "output_type": "stream",
     "text": [
      "Response status code: 403\n"
     ]
    },
    {
     "name": "stdout",
     "output_type": "stream",
     "text": [
      "Response status code: 403: I was pleasantly surprised when this arrived  it hangs in a flattering way and the red has a nice soft hue  i couldn t believe what a great deal i got while on sale \n"
     ]
    },
    {
     "name": "stderr",
     "output_type": "stream",
     "text": [
      "Response status code: 403\n"
     ]
    },
    {
     "name": "stdout",
     "output_type": "stream",
     "text": [
      "Response status code: 403: Very nice top  flattering and goes with everything  i bought the medium in the green but would have needed the large in the white as the white was a little see through and showed more of my flaws  i agree with the other reviewer in that this top has good button placement \n"
     ]
    },
    {
     "name": "stderr",
     "output_type": "stream",
     "text": [
      "Response status code: 403\n"
     ]
    },
    {
     "name": "stdout",
     "output_type": "stream",
     "text": [
      "Response status code: 403: I first bought the red   green at the store  when they went on sale bought the blue   ivory  love  love  love these shirts  they go great with a skirt or jeans  so happy i got them  the fabric is stretchy  but still fits very nicely  what a great buy  hope to see more of this style again \n"
     ]
    },
    {
     "name": "stderr",
     "output_type": "stream",
     "text": [
      "Response status code: 403\n"
     ]
    },
    {
     "name": "stdout",
     "output_type": "stream",
     "text": [
      "Response status code: 403: I love this shirt  it s easy to belt  i just wish it was tighter \n"
     ]
    },
    {
     "name": "stderr",
     "output_type": "stream",
     "text": [
      "Response status code: 403\n"
     ]
    },
    {
     "name": "stdout",
     "output_type": "stream",
     "text": [
      "Response status code: 403: I m keeping this blouse anyway  i purchased the olive and it s such a great color  i live in a warm climate and really don t need long sleeves  but since the color is so great and pairs well with a lot  i will keep it \n"
     ]
    },
    {
     "name": "stderr",
     "output_type": "stream",
     "text": [
      "Response status code: 403\n"
     ]
    },
    {
     "name": "stdout",
     "output_type": "stream",
     "text": [
      "Response status code: 403: nan\n"
     ]
    },
    {
     "name": "stderr",
     "output_type": "stream",
     "text": [
      "Response status code: 403\n"
     ]
    },
    {
     "name": "stdout",
     "output_type": "stream",
     "text": [
      "Response status code: 403: I own this shirt in dark green  navy  and white  it is perfect  it drapes in such a flattering way  nice weight  it shows curves in all the right ways but does not fit too snug  emphasizing every flaw  and finally    the buttons are placed perfectly so that you don t have to choose between extremely conservative or way too provocative  bra showing   well done \n"
     ]
    },
    {
     "name": "stderr",
     "output_type": "stream",
     "text": [
      "Response status code: 403\n"
     ]
    },
    {
     "name": "stdout",
     "output_type": "stream",
     "text": [
      "Response status code: 403: I like the feel and color of this blouse  however  i was very disappointed with the sizing  i usually wear medium so i ordered medium for this blouse  it fits way too big  it is a bummer because the  curve  is not even visible when i wear it \n"
     ]
    },
    {
     "name": "stderr",
     "output_type": "stream",
     "text": [
      "Response status code: 403\n"
     ]
    },
    {
     "name": "stdout",
     "output_type": "stream",
     "text": [
      "Response status code: 403: This is a great basic t that works with shorts  pants  or a skirt \n"
     ]
    },
    {
     "name": "stderr",
     "output_type": "stream",
     "text": [
      "Response status code: 403\n"
     ]
    },
    {
     "name": "stdout",
     "output_type": "stream",
     "text": [
      "Response status code: 403: It was very pretty but it ran very big   sadly i had to return it \n"
     ]
    },
    {
     "name": "stderr",
     "output_type": "stream",
     "text": [
      "Response status code: 403\n"
     ]
    },
    {
     "name": "stdout",
     "output_type": "stream",
     "text": [
      "Response status code: 403: I ve had my eye on this for awhile  glad it was still in stock   really great deep wine color  soft   more texture and detail than i had appreciated in the picture   love \n"
     ]
    },
    {
     "name": "stderr",
     "output_type": "stream",
     "text": [
      "Response status code: 403\n"
     ]
    },
    {
     "name": "stdout",
     "output_type": "stream",
     "text": [
      "Response status code: 403: You will love this cardigan  very well made with beautiful details  the sleeves have the same detail as the collar and the back  has darker flecks that will go well with dark pants or cords or jeans  you will love this cardi  wish it came in more springy colors  i only gave it a lower rating for quality because the first one i tried on had a sleeve that was much tighter than the other sleeve  the replacement was fine  \n"
     ]
    },
    {
     "name": "stderr",
     "output_type": "stream",
     "text": [
      "Response status code: 403\n"
     ]
    },
    {
     "name": "stdout",
     "output_type": "stream",
     "text": [
      "Response status code: 403: This is a beautiful sweater  it is not too heavy and the variation in knit from front to back makes not the same old boring sweater  the color is gorgeous \n"
     ]
    },
    {
     "name": "stderr",
     "output_type": "stream",
     "text": [
      "Response status code: 403\n"
     ]
    },
    {
     "name": "stdout",
     "output_type": "stream",
     "text": [
      "Response status code: 403: I would definitely only recommend this top to girls who are smaller chested  it fits in the shoulders arms  and then flares out too much at the bottom  almost looks like a maternity top  the material is very nice however   both soft  and feels like it will hold up through multiple washes \n"
     ]
    },
    {
     "name": "stderr",
     "output_type": "stream",
     "text": [
      "Response status code: 403\n"
     ]
    },
    {
     "name": "stdout",
     "output_type": "stream",
     "text": [
      "Response status code: 403: This shirt is perfect for me  i have very small shoulders  but i am pear shaped  so the flare on the bottom is welcomed for my body type  i bought 2 colors  i have a similar shirt from retailer a few years ago that was multicolor which i wear all the time  so i am thankful they have repeated this design  also i did get this on sale which is a more realistic price for the quality of this shirt \n"
     ]
    },
    {
     "name": "stderr",
     "output_type": "stream",
     "text": [
      "Response status code: 403\n"
     ]
    },
    {
     "name": "stdout",
     "output_type": "stream",
     "text": [
      "Response status code: 403: I m  34a  125 lbs  5 8   purchased  small    i was going back and forth between xs and s  i decided on small because it fit better in my arms  didn t feel as tight  the xs fit well in the torso area and didn t have as much fabric as the small  the small also had a longer shirt tail      if you don t have as much mass in the arms  get the xs  if you have some muscle or extra mass in the arms  it s better to go with the small \n"
     ]
    },
    {
     "name": "stderr",
     "output_type": "stream",
     "text": [
      "Response status code: 403\n"
     ]
    },
    {
     "name": "stdout",
     "output_type": "stream",
     "text": [
      "Response status code: 403: This is a very classy sweater jacket  it is a beautiful color  i had not even noticed it until it was on sale  and then read all the favorable reviews  it can be dressy or casual as seen in this photo  so glad i got it \n"
     ]
    },
    {
     "name": "stderr",
     "output_type": "stream",
     "text": [
      "Response status code: 403\n"
     ]
    },
    {
     "name": "stdout",
     "output_type": "stream",
     "text": [
      "Response status code: 403: This is a great basic tee  purchased in navy  but fits much larger than it appears on the model  the arms chest area fit fine but it really billows out below  the front is shorter and the back is longer than i would ve expected  i thought this would be great for summer  but it s really too long in the back to wear with shorts  it does  however  look great with skinny jeans \n"
     ]
    },
    {
     "name": "stderr",
     "output_type": "stream",
     "text": [
      "Response status code: 403\n"
     ]
    },
    {
     "name": "stdout",
     "output_type": "stream",
     "text": [
      "Response status code: 403: I absolutely love this gorgeous cardigan  i will wear it for years to come  \n"
     ]
    },
    {
     "name": "stderr",
     "output_type": "stream",
     "text": [
      "Response status code: 403\n"
     ]
    },
    {
     "name": "stdout",
     "output_type": "stream",
     "text": [
      "Response status code: 403: Love the deep purple color of this cardi sweater   long and drapey looks great with leggings skinnies and jeans  my only problem is the way the loose stitching around the cuffs is makes it worrisome  wore once and already starting to get a hole  still a great piece \n"
     ]
    },
    {
     "name": "stderr",
     "output_type": "stream",
     "text": [
      "Response status code: 403\n"
     ]
    },
    {
     "name": "stdout",
     "output_type": "stream",
     "text": [
      "Response status code: 403: Yes  this top runs large and it doesn t show your curves  but it s still really cute and fun to wear  i first purchased the beautiful sage color  and after getting compliments  i also ordered the navy version  these tops are easy to wear  have an interesting detail at the neck  and could be layered  cozy  comfortable  stylish  love mine \n"
     ]
    },
    {
     "name": "stderr",
     "output_type": "stream",
     "text": [
      "Response status code: 403\n"
     ]
    },
    {
     "name": "stdout",
     "output_type": "stream",
     "text": [
      "Response status code: 403: This top  it is so simple  but so great at the same time  it does run large  and i m not a skinny girl    but it has a style that is certainly meant to flow away from the body as it goes down  i find the top portion very flattering and the looser bottom section doesn t take away from that  i have been wearing the olive green with fitting dark jeans and a flannel or oversized soft  washed jean button down shirt over it for the cool spring weather  it s casual  but so comfy  it s great for loungin\n"
     ]
    },
    {
     "name": "stderr",
     "output_type": "stream",
     "text": [
      "Response status code: 403\n"
     ]
    },
    {
     "name": "stdout",
     "output_type": "stream",
     "text": [
      "Response status code: 403: It s a lovely and unexpected sweater  a few things to keep in mind        the knit details are beautiful  the pictures don t do it justice       it s pretty lightweight       the color is a little darker than the picture shown  it s a very dark plum      it runs bigger  this is the only retailer sweater where the sleeves of a m are a little to long        the style is decidedly casual and  slouchy   it looks great with jeans  but don t plan to dress up an outfit with this piece \n"
     ]
    },
    {
     "name": "stderr",
     "output_type": "stream",
     "text": [
      "Response status code: 403\n"
     ]
    },
    {
     "name": "stdout",
     "output_type": "stream",
     "text": [
      "Response status code: 403: Gorgeous linen blend tee  purchased in grey and white  classic timeless staples  fits baggy which i love  for reference i am 32a 5 1 105 lbs  love love love \n"
     ]
    },
    {
     "name": "stderr",
     "output_type": "stream",
     "text": [
      "Response status code: 403\n"
     ]
    },
    {
     "name": "stdout",
     "output_type": "stream",
     "text": [
      "Response status code: 403: Material is hard to wear a bra under it\n"
     ]
    },
    {
     "name": "stderr",
     "output_type": "stream",
     "text": [
      "Response status code: 403\n"
     ]
    },
    {
     "name": "stdout",
     "output_type": "stream",
     "text": [
      "Response status code: 403: I bought the pink  which is a vibrant but not neon shade of deep reddish pink  love it  i love how the flutter of the sleeves is balanced with a slimmer fitting body  which keeps it from looking frumpy  i did order a size down to achieve this look  i prefer a more tailored look so this suits me while satisfying my desire for a little whimsy now and then  my only issue is that it s too low cut  trying to decide if i just need to wear it with a lower cut bra or if this requires a cami  i hate laye\n"
     ]
    },
    {
     "name": "stderr",
     "output_type": "stream",
     "text": [
      "Response status code: 403\n"
     ]
    },
    {
     "name": "stdout",
     "output_type": "stream",
     "text": [
      "Response status code: 403: I got the pink color  which is really vibrant and beautiful in person  this top is low cut  so if you don t like to show much cleavage plan to wear it over a cami   i m 5 5 145lbs  37 29 39  got a size medium  it fits okay in the bust area  but is much looser than i would prefer below the bust  i will either return or exchange for a small to see if the fit is better \n"
     ]
    },
    {
     "name": "stderr",
     "output_type": "stream",
     "text": [
      "Response status code: 403\n"
     ]
    },
    {
     "name": "stdout",
     "output_type": "stream",
     "text": [
      "Response status code: 403: Finally a white top that is not see through  this tank is very form fitting and flattering  but does not hug too tight  i am neither large nor small breasted and love the way the v neck fits on me  for reference  i am 5 2  105   32c and i got the xxs \n"
     ]
    },
    {
     "name": "stderr",
     "output_type": "stream",
     "text": [
      "Response status code: 403\n"
     ]
    },
    {
     "name": "stdout",
     "output_type": "stream",
     "text": [
      "Response status code: 403: Very pleasantly surprised by this top  it s looser  but in a flowy not baggy way  i ordered the m  the  vee is just right on me  tasteful but just low enough  love the sleeve length  ordered thinking another black tee   but it s going to be well used and great for evenings \n"
     ]
    },
    {
     "name": "stderr",
     "output_type": "stream",
     "text": [
      "Response status code: 403\n"
     ]
    },
    {
     "name": "stdout",
     "output_type": "stream",
     "text": [
      "Response status code: 403: Even on sale  this was just too pricey for what it is  which is a glorified tank  i liked the straps  but it hangs very wide off your chest \n"
     ]
    },
    {
     "name": "stderr",
     "output_type": "stream",
     "text": [
      "Response status code: 403\n"
     ]
    },
    {
     "name": "stdout",
     "output_type": "stream",
     "text": [
      "Response status code: 403: I m either a medium or large in retailer tops  i was able to wear a medium in this top  the color is vibrant and the material is soft and light  it will be a great spring and summer top  can t wait to wear it \n"
     ]
    },
    {
     "name": "stderr",
     "output_type": "stream",
     "text": [
      "Response status code: 403\n"
     ]
    },
    {
     "name": "stdout",
     "output_type": "stream",
     "text": [
      "Response status code: 403: This t shirt does a great job of elevating the basic t shirt in to one with a touch of flair  i typically wear a medium but luckily read earlier reviews and went with the small \n"
     ]
    },
    {
     "name": "stderr",
     "output_type": "stream",
     "text": [
      "Response status code: 403\n"
     ]
    },
    {
     "name": "stdout",
     "output_type": "stream",
     "text": [
      "Response status code: 403: I loved the aesthetic but as a true hourglass shape  i was frustrated that it didn t have a little more give as i tried to pull it over my head  the fabric was stiff  and seemed to be lace over cotton  not entirely sure  i couldn t get past the feeling off the material \n"
     ]
    },
    {
     "name": "stderr",
     "output_type": "stream",
     "text": [
      "Response status code: 403\n"
     ]
    },
    {
     "name": "stdout",
     "output_type": "stream",
     "text": [
      "Response status code: 403: I saw this top on sale and tried it on right away  my normal medium was too big  so i purchased the small in the rose color  wore it with a shimmery kimono and cream colored pilcro boyfriend jeans  wow  what an outfit      then i washed it according to directions  and sadly it shrunk into a crop peplum tank  i was so disappointed  i wished i had read the reviews beforehand \n"
     ]
    },
    {
     "name": "stderr",
     "output_type": "stream",
     "text": [
      "Response status code: 403\n"
     ]
    },
    {
     "name": "stdout",
     "output_type": "stream",
     "text": [
      "Response status code: 403: I m 5 4  125 lbs    have a 36 c d bust  the xs fits great   i wash everything in cold   line dry    this was no exception  when i took it out of the washer i knew immediately    i ve pulled it back into shape   hung it up  but we ll see    dry clean if you want to keep it\n"
     ]
    },
    {
     "name": "stderr",
     "output_type": "stream",
     "text": [
      "Response status code: 403\n"
     ]
    },
    {
     "name": "stdout",
     "output_type": "stream",
     "text": [
      "Response status code: 403: I purchased this with some hesitation  having read that some people thought it was unflattering  but i couldn t resist the sale price  and i love a low maintenance work top and doesn t require ironing  this fits the bill perfectly  it s made of high quality fabric  there s a soft inner lining with a side zip closure  and it has a pretty narrow profile so initially i found it a little snug to wiggle into  i got a small   but once on it fit perfectly  and is so flattering i can t imagine why other\n"
     ]
    },
    {
     "name": "stderr",
     "output_type": "stream",
     "text": [
      "Response status code: 403\n"
     ]
    },
    {
     "name": "stdout",
     "output_type": "stream",
     "text": [
      "Response status code: 403: Dig this top but a little different from what i was expecting  the outside is indeed a bit stiff and scratchy but it is lined     but definitely would ve appreciated a softer fabric  however  the cut is cute and flattering and the pattern is adorable so it s staying in my closet  perhaps not the thing to wear to snuggle up with someone though \n"
     ]
    },
    {
     "name": "stderr",
     "output_type": "stream",
     "text": [
      "Response status code: 403\n"
     ]
    },
    {
     "name": "stdout",
     "output_type": "stream",
     "text": [
      "Response status code: 403: I wear a size 4 and i ordered the small for this top  it is huge and gave me a maternity look that i wasn t going for  i was hoping for a loose  body skimming fit as shown on the model in the picture but that wasn t happening with this top \n"
     ]
    },
    {
     "name": "stderr",
     "output_type": "stream",
     "text": [
      "Response status code: 403\n"
     ]
    },
    {
     "name": "stdout",
     "output_type": "stream",
     "text": [
      "Response status code: 403: Love this layering piece  a little low cut for my personal comfort  but a tank underneath works great \n"
     ]
    },
    {
     "name": "stderr",
     "output_type": "stream",
     "text": [
      "Response status code: 403\n"
     ]
    },
    {
     "name": "stdout",
     "output_type": "stream",
     "text": [
      "Response status code: 403: nan\n"
     ]
    },
    {
     "name": "stderr",
     "output_type": "stream",
     "text": [
      "Response status code: 403\n"
     ]
    },
    {
     "name": "stdout",
     "output_type": "stream",
     "text": [
      "Response status code: 403: I was very nervous to buy this top  but because it was on such an excellent sale i went for it  tops like this usually end in me showing a ridiculous amount of cleavage or not being able to zip  i am a 32ddd  it past my waist  i ordered a small based on the other reviews and it fits perfectly  the wrap top is perfect and shows off my curves without showing too much  the fabric is very unique and the whole top is lined with a nice nylon cotton blend so it is very soft and comfortable to wear  def\n"
     ]
    },
    {
     "name": "stderr",
     "output_type": "stream",
     "text": [
      "Response status code: 403\n"
     ]
    },
    {
     "name": "stdout",
     "output_type": "stream",
     "text": [
      "Response status code: 403: Super cute  flattering design but the material is itchy so it s going back  \n"
     ]
    },
    {
     "name": "stderr",
     "output_type": "stream",
     "text": [
      "Response status code: 403\n"
     ]
    },
    {
     "name": "stdout",
     "output_type": "stream",
     "text": [
      "Response status code: 403: I honestly bought this shirt on a whim the other day in my local retailer  i was drawn to the color and the swing  first of all  this shirt is incredibly soft and lightweight  i love the flow of the loose peplum  the straps are nicely placed  because they re wider and accentuate my arms  and cover my bra straps   i love the little v neck detail  it shows a little cleavage when bent or hunched over  but the top stays conservative when truly upright  i wore this shirt 3 days in a row last week  and\n"
     ]
    },
    {
     "name": "stderr",
     "output_type": "stream",
     "text": [
      "Response status code: 403\n"
     ]
    },
    {
     "name": "stdout",
     "output_type": "stream",
     "text": [
      "Response status code: 403: This top is comfortable and flattering  i really like the simplicity  a wearable basic summer top  with a cute twist  just enough to make it contemporary  but not overstated \n"
     ]
    },
    {
     "name": "stderr",
     "output_type": "stream",
     "text": [
      "Response status code: 403\n"
     ]
    },
    {
     "name": "stdout",
     "output_type": "stream",
     "text": [
      "Response status code: 403: Looks great in the picture but when i got this in the mail the fabric was so stiff  shaking it out did nothing almost like it was dipped in drying glue  i got this for  10 which is so cheap and i still returned it \n"
     ]
    },
    {
     "name": "stderr",
     "output_type": "stream",
     "text": [
      "Response status code: 403\n"
     ]
    },
    {
     "name": "stdout",
     "output_type": "stream",
     "text": [
      "Response status code: 403: I absolutely adore this shirt    the pinkish rosey color is beautiful and ended up being better than i had imagined  i will say that the shirt is a bit more casual than i thought it was going to be  the way it hangs or something  not really sure  nonetheless  it is perfect  can be dressed up or down  which is the best quality to have in any piece of clothing  i can tell i m going to get a lot of wear out of it \n"
     ]
    },
    {
     "name": "stderr",
     "output_type": "stream",
     "text": [
      "Response status code: 403\n"
     ]
    },
    {
     "name": "stdout",
     "output_type": "stream",
     "text": [
      "Response status code: 403: Very versatile top  i feel like i could dress it up or down  fits very nice and the material is soft \n"
     ]
    },
    {
     "name": "stderr",
     "output_type": "stream",
     "text": [
      "Response status code: 403\n"
     ]
    },
    {
     "name": "stdout",
     "output_type": "stream",
     "text": [
      "Response status code: 403: This will be a great summer staple   good fit and very comfortable   may go back and buy another color\n"
     ]
    },
    {
     "name": "stderr",
     "output_type": "stream",
     "text": [
      "Response status code: 403\n"
     ]
    },
    {
     "name": "stdout",
     "output_type": "stream",
     "text": [
      "Response status code: 403: I purchased this top in the rose and steel blue colors even though the majority of reviews says it shrinks even when you wash per the instructions  i called the local retailer store first to see if it could be returned if this happened and they said yes  no problem  well the reviews are correct  i washed just the rose colored top so i could compare it to the steel blue if it did shrink  i am returning them this evening  i will not take the time or spend the money to dry clean a tank  it is made ve\n"
     ]
    },
    {
     "name": "stderr",
     "output_type": "stream",
     "text": [
      "Response status code: 403\n"
     ]
    },
    {
     "name": "stdout",
     "output_type": "stream",
     "text": [
      "Response status code: 403: Super thick material and it s lined with cotton so as not to be scratchy on the skin  it looks cute on  hopefully it will soften over time  almost thick like upholstery fabric \n"
     ]
    },
    {
     "name": "stderr",
     "output_type": "stream",
     "text": [
      "Response status code: 403\n"
     ]
    },
    {
     "name": "stdout",
     "output_type": "stream",
     "text": [
      "Response status code: 403: Has anybody washed this shirt a second time  just curious if it continues to shrink \n"
     ]
    },
    {
     "name": "stderr",
     "output_type": "stream",
     "text": [
      "Response status code: 403\n"
     ]
    },
    {
     "name": "stdout",
     "output_type": "stream",
     "text": [
      "Response status code: 403: I fell in love with this cute top  however after reading reviews  i am going to return it  seems there is a problem with it shrinking after following washing instructions  who wants to dry clean a tank top  not me  sadly  too bad  style was cute and color was awesome \n"
     ]
    },
    {
     "name": "stderr",
     "output_type": "stream",
     "text": [
      "Response status code: 403\n"
     ]
    },
    {
     "name": "stdout",
     "output_type": "stream",
     "text": [
      "Response status code: 403: I wanted to love this top  the color is wonderful in the pink and the material is silky soft  it is huge though  i am a 34 dd and bought my usual small  i am going to exchange for an xs and am hoping it fits \n"
     ]
    },
    {
     "name": "stderr",
     "output_type": "stream",
     "text": [
      "Response status code: 403\n"
     ]
    },
    {
     "name": "stdout",
     "output_type": "stream",
     "text": [
      "Response status code: 403: Wanted to love this top  and could imagine lots of outfits with it  the wide shoulders made my arms shoulders look big  the ruching and extra flap landed at an odd place  accentuating my belly  it did arrive very wrinkled  although a previous reviewer said she found it to be a wrinkle free garment  maybe that made the look worse  overall i felt that it made me look 15 lbs heavier than i am  so back it goes  i am 5 7   160lbs  34dddd  and the size large was the correct size \n"
     ]
    },
    {
     "name": "stderr",
     "output_type": "stream",
     "text": [
      "Response status code: 403\n"
     ]
    },
    {
     "name": "stdout",
     "output_type": "stream",
     "text": [
      "Response status code: 403: I bought this top and it ran huge  i had to get an extra small  well then i wash it according to the instructions and it shrunk horribly  like its so small now my 3 yr old could probably wear it  i m so sad  i really liked this top    but for it to shrink after one wear is not acceptable \n"
     ]
    },
    {
     "name": "stderr",
     "output_type": "stream",
     "text": [
      "Response status code: 403\n"
     ]
    },
    {
     "name": "stdout",
     "output_type": "stream",
     "text": [
      "Response status code: 403: For me to buy a tank top it better be special and this is  flattering without being skintight  it camouflages that little back bacon you sometimes get from a bra  the v neck is low and is the same in the back  great length  super soft and the best part is you can wear a bra  i haven t washed this yet  but based on other reviews i ll probably hand wash and air dry  the only issue is the tag flops out every now and then \n"
     ]
    },
    {
     "name": "stderr",
     "output_type": "stream",
     "text": [
      "Response status code: 403\n"
     ]
    },
    {
     "name": "stdout",
     "output_type": "stream",
     "text": [
      "Response status code: 403: This top looks just as it does on the model and it fit just as they said it would  i needed a nice shirt to wear with jeans and camouflage my new mommy tummy and this was perfect  it s really comfortable and fun  too \n"
     ]
    },
    {
     "name": "stderr",
     "output_type": "stream",
     "text": [
      "Response status code: 403\n"
     ]
    },
    {
     "name": "stdout",
     "output_type": "stream",
     "text": [
      "Response status code: 403: I love everything about this top  the fabric  the color  the fit  great top for spring and summer \n"
     ]
    },
    {
     "name": "stderr",
     "output_type": "stream",
     "text": [
      "Response status code: 403\n"
     ]
    },
    {
     "name": "stdout",
     "output_type": "stream",
     "text": [
      "Response status code: 403: I had hopes for this shirt but was disappointed in the fabric   it s very stiff and heavy for a summer blouse  will be returning it \n"
     ]
    },
    {
     "name": "stderr",
     "output_type": "stream",
     "text": [
      "Response status code: 403\n"
     ]
    },
    {
     "name": "stdout",
     "output_type": "stream",
     "text": [
      "Response status code: 403: This top is super cute and is very flattering  however  i have trouble getting in and out of it  there is one zipper on the side but it almost seems like it needs to go higher up in order to help you put it on and take it off \n"
     ]
    },
    {
     "name": "stderr",
     "output_type": "stream",
     "text": [
      "Response status code: 403\n"
     ]
    },
    {
     "name": "stdout",
     "output_type": "stream",
     "text": [
      "Response status code: 403: I got the dark purple color of this top and it is perfect  i wear it all the time  it s comfortable and it s cute  plus if it gets cold i can throw a warm sweater on top of it \n"
     ]
    },
    {
     "name": "stderr",
     "output_type": "stream",
     "text": [
      "Response status code: 403\n"
     ]
    },
    {
     "name": "stdout",
     "output_type": "stream",
     "text": [
      "Response status code: 403: I absolutely love this tee  i normally don t buy two of the same thing  but i bought it in both black and mauve during a december sale  i ordered a size small  and it fits tts  it can be worn with leggings or skinny jeans cords  i love pairing it with skinny jeans and boots best  it s very slimming and so soft \n"
     ]
    },
    {
     "name": "stderr",
     "output_type": "stream",
     "text": [
      "Response status code: 403\n"
     ]
    },
    {
     "name": "stdout",
     "output_type": "stream",
     "text": [
      "Response status code: 403: This tee is amazing  it is so soft and comfortable  and is great for those of us who are tall  it has great length  i went with a medium because i didn t want it too tight  i really hope that retailer restocks soon because i want to buy one in every color \n"
     ]
    },
    {
     "name": "stderr",
     "output_type": "stream",
     "text": [
      "Response status code: 403\n"
     ]
    },
    {
     "name": "stdout",
     "output_type": "stream",
     "text": [
      "Response status code: 403: Super comfortable   i am 34 weeks pregnant and i works great for me now and i think it will be perfect post baby also \n"
     ]
    },
    {
     "name": "stderr",
     "output_type": "stream",
     "text": [
      "Response status code: 403\n"
     ]
    },
    {
     "name": "stdout",
     "output_type": "stream",
     "text": [
      "Response status code: 403: Like the other reviewers  this is my new favorite tee  it s so freaking soft  and the ribbon down the back just gives a little added flare  pure good has been one of my staple brands for basics for a while  and i will definitely be buying more colors in this  the length is perfect for leggings  and it would be cute with jeans too \n"
     ]
    },
    {
     "name": "stderr",
     "output_type": "stream",
     "text": [
      "Response status code: 403\n"
     ]
    },
    {
     "name": "stdout",
     "output_type": "stream",
     "text": [
      "Response status code: 403: Loved this shirt so much that i bought in 3 colors  love the luxurious feel of the silky  flowing fabric that flatters in all the best ways  however  after washing per instructions  the fabric lost its good qualities and turned into a blah  pilled mess that gathers at the seams  especially the bottom seam   tried dry cleaning another shirt and it came out the same way as washing  looks like a cheap  lackluster layering top now and definitely won t last another season  so disappointed   if you ca\n"
     ]
    },
    {
     "name": "stderr",
     "output_type": "stream",
     "text": [
      "Response status code: 403\n"
     ]
    },
    {
     "name": "stdout",
     "output_type": "stream",
     "text": [
      "Response status code: 403: Cute top and flattering to wear  fits nicely and i d say true to size  can t wait to wear it \n"
     ]
    },
    {
     "name": "stderr",
     "output_type": "stream",
     "text": [
      "Response status code: 403\n"
     ]
    },
    {
     "name": "stdout",
     "output_type": "stream",
     "text": [
      "Response status code: 403: Purchased in the light grey and was so excited  i wore it the very next day  the back detailing and pocket make it more unique than a regular tee and the fabric is slightly heavy  in a good way  so it hangs beautifully  easily can be dressed up or down  new favorite tee \n"
     ]
    },
    {
     "name": "stderr",
     "output_type": "stream",
     "text": [
      "Response status code: 403\n"
     ]
    },
    {
     "name": "stdout",
     "output_type": "stream",
     "text": [
      "Response status code: 403: Ordered this on a whim while taking advantage of a promotion  and now need one in every color  the weight and cut is perfect for fall winter summer   not too heavy  but not sheer tissue thin  fitted enough to look super cute with leggings or skinny jeans  fabric has a nice quality feel to it   i have similar shirts from the past that have held up well in the wash  i m anticipating the same with this \n"
     ]
    },
    {
     "name": "stderr",
     "output_type": "stream",
     "text": [
      "Response status code: 403\n"
     ]
    },
    {
     "name": "stdout",
     "output_type": "stream",
     "text": [
      "Response status code: 403: Oh my  i love this tee  it is super soft  i love how it doesn t look like a sack with no shape  i can t wait to get more colors  i am tall plus have a long torso and it still is long enough for me so this is definitely a win \n"
     ]
    },
    {
     "name": "stderr",
     "output_type": "stream",
     "text": [
      "Response status code: 403\n"
     ]
    },
    {
     "name": "stdout",
     "output_type": "stream",
     "text": [
      "Response status code: 403: nan\n"
     ]
    },
    {
     "name": "stderr",
     "output_type": "stream",
     "text": [
      "Response status code: 403\n"
     ]
    },
    {
     "name": "stdout",
     "output_type": "stream",
     "text": [
      "Response status code: 403: Love this shirt  i am 5 8 and have a slender torso and the small fits perfectly  i love that it s long so you can wear it as a single shirt or use it as an extra layer  i also have a grey druzy necklace to dress this puppy up  purchased it in black and this will be a new staple \n"
     ]
    },
    {
     "name": "stderr",
     "output_type": "stream",
     "text": [
      "Response status code: 403\n"
     ]
    },
    {
     "name": "stdout",
     "output_type": "stream",
     "text": [
      "Response status code: 403: This top is much nicer than expected     the fabric and style are great  i am a size small or medium  and got the small  from the front  it was great  not so much from the back for me  i m larger on top than bottom and the 5  spandex made it too clingy around the dreaded bra fat area  i don t wear spanx  i wish retailer would be more specific with the fabric content  if i d known it was 5  spandex  i would have ordered a size medium  i am thinking about doing this because the top is really\n"
     ]
    },
    {
     "name": "stderr",
     "output_type": "stream",
     "text": [
      "Response status code: 403\n"
     ]
    },
    {
     "name": "stdout",
     "output_type": "stream",
     "text": [
      "Response status code: 403: This top is so soft and comfortable  i bought it on sale  so would i have paid  60 for it         not sure  fits true to size  what can i say its a simple top  well made and so soft \n"
     ]
    },
    {
     "name": "stderr",
     "output_type": "stream",
     "text": [
      "Response status code: 403\n"
     ]
    },
    {
     "name": "stdout",
     "output_type": "stream",
     "text": [
      "Response status code: 403: I love simplicity in clothing and this tee fits the bill  i put it on and instantly feel basic elegance \n"
     ]
    },
    {
     "name": "stderr",
     "output_type": "stream",
     "text": [
      "Response status code: 403\n"
     ]
    },
    {
     "name": "stdout",
     "output_type": "stream",
     "text": [
      "Response status code: 403: I am 5 10   130 pounds  a medium is a perfect fit for me  i love it  not so sheer that i feel that i need to wear a cami underneath  sleeves are long  and it is so  so  so soft  the scoop neck shows just the right amount without being too revealing  i am buying one in every color \n"
     ]
    },
    {
     "name": "stderr",
     "output_type": "stream",
     "text": [
      "Response status code: 403\n"
     ]
    },
    {
     "name": "stdout",
     "output_type": "stream",
     "text": [
      "Response status code: 403: Fits great  love soft material  love with skinny jeans brown boots\n"
     ]
    },
    {
     "name": "stderr",
     "output_type": "stream",
     "text": [
      "Response status code: 403\n"
     ]
    },
    {
     "name": "stdout",
     "output_type": "stream",
     "text": [
      "Response status code: 403: I was pleasantly surprised when i tried this on  i tried it because of the detail but didn t hold out much hope because it looked frumpy on the hanger  i was very wrong  it fits beautifully  it drapes nicely  hugs the shoulders perfectly and doesn t droop open due to the embellishments  there is a tiny closure where the fabric crosses in the front so you are not exposed  i liked that feature very much  the sleeves are 3 4 on me  but i like it   nice change of pace  this is a very different style\n"
     ]
    },
    {
     "name": "stderr",
     "output_type": "stream",
     "text": [
      "Response status code: 403\n"
     ]
    },
    {
     "name": "stdout",
     "output_type": "stream",
     "text": [
      "Response status code: 403: This top feels great on  it just drapes well and isn t clingy  i refused to buy maternity tops  because i wanted to wear the tops after pregnancy  though i bought this top post pregnancy it would have worked great because of the length \n"
     ]
    },
    {
     "name": "stderr",
     "output_type": "stream",
     "text": [
      "Response status code: 403\n"
     ]
    },
    {
     "name": "stdout",
     "output_type": "stream",
     "text": [
      "Response status code: 403: Comfortable casual  hip  i have the black   white color which is a bit thicker than the other colors which i prefer as i recently had a baby and need a little extra fabric  i wish the fabric was a bit softer but the cut is so flattering there was no way i was sending it back  i wish the other colors were in the same thicker fabric and i would have ordered more  my new go to top  the black ribbon on the back is my favorite part \n"
     ]
    },
    {
     "name": "stderr",
     "output_type": "stream",
     "text": [
      "Response status code: 403\n"
     ]
    },
    {
     "name": "stdout",
     "output_type": "stream",
     "text": [
      "Response status code: 403: This is one of the cutest tops i ve ever gotten from retailer  the material is very soft and flowing  it fits true to size and hange beautifully  love it  i should have gotten he turquoise one too \n"
     ]
    },
    {
     "name": "stderr",
     "output_type": "stream",
     "text": [
      "Response status code: 403\n"
     ]
    },
    {
     "name": "stdout",
     "output_type": "stream",
     "text": [
      "Response status code: 403: Love this shirt  it fits great and can be easily layered \n"
     ]
    },
    {
     "name": "stderr",
     "output_type": "stream",
     "text": [
      "Response status code: 403\n"
     ]
    },
    {
     "name": "stdout",
     "output_type": "stream",
     "text": [
      "Response status code: 403: Agree with the other reviewers  this top is excellent  great length  weight   bounce to it  flattering without being clingy  i m 5 10  with a long torso  so i m always in the market for tops with longer hemlines and decent material without being too tight or clingy  this one i love  i bought it in black  then went back for the turquoise  then two more    if that doesn t tell you what a great shirt this is  i don t know what will \n"
     ]
    },
    {
     "name": "stderr",
     "output_type": "stream",
     "text": [
      "Response status code: 403\n"
     ]
    },
    {
     "name": "stdout",
     "output_type": "stream",
     "text": [
      "Response status code: 403: Great color  soft fabric  but waaaaay too long  more like a night shirt than a t shirt \n"
     ]
    },
    {
     "name": "stderr",
     "output_type": "stream",
     "text": [
      "Response status code: 403\n"
     ]
    },
    {
     "name": "stdout",
     "output_type": "stream",
     "text": [
      "Response status code: 403: I was hoping to find a slimming and cozy sweater  unfortunately this one was baggy and material was really bulky  one of those occasions where i would have never purchased this in person but online you can t quite tell the style and fit  i returned this item \n"
     ]
    },
    {
     "name": "stderr",
     "output_type": "stream",
     "text": [
      "Response status code: 403\n"
     ]
    },
    {
     "name": "stdout",
     "output_type": "stream",
     "text": [
      "Response status code: 403: I need one in every color  so super soft \n"
     ]
    },
    {
     "name": "stderr",
     "output_type": "stream",
     "text": [
      "Response status code: 403\n"
     ]
    },
    {
     "name": "stdout",
     "output_type": "stream",
     "text": [
      "Response status code: 403: Very pretty blouse with nice detail  needs to be worn with a camisole however \n"
     ]
    },
    {
     "name": "stderr",
     "output_type": "stream",
     "text": [
      "Response status code: 403\n"
     ]
    },
    {
     "name": "stdout",
     "output_type": "stream",
     "text": [
      "Response status code: 403: Got this shirt on sale and i hope they restock so i can buy more  super comfy and flattering at the same time  i have some extra baby weight and it camouflages that well  i m normally a 6 8 but i m an 8 10 right now and the medium was perfect  i m 5 6  and its plenty long enough to wear with leggings  a great shirt and i ll be sure to watch out for this one to come back  please restock \n"
     ]
    },
    {
     "name": "stderr",
     "output_type": "stream",
     "text": [
      "Response status code: 403\n"
     ]
    },
    {
     "name": "stdout",
     "output_type": "stream",
     "text": [
      "Response status code: 403: I almost never take the time to write reviews but this shirt is amazing    it s a super soft  stretchy  substantial fabric that is incredibly flattering  it falls perfectly and is insanely comfortable  i am 5 5  120 lbs and usually wear an xs or s in retailer tops    i went with the xs and it is a perfect fit  love it so much i bought it in 4 colors    i am now completely broke but these shirts will be in constant rotation \n"
     ]
    },
    {
     "name": "stderr",
     "output_type": "stream",
     "text": [
      "Response status code: 403\n"
     ]
    },
    {
     "name": "stdout",
     "output_type": "stream",
     "text": [
      "Response status code: 403: This is a beautiful top  however  my top did not match the one in the picture  it s so odd  the stripes are completely different  it s ok  because it s very pretty  but i do like the one pictured better  it s too short on me for leggings and boots  but it s great with skinny jeans  very pretty and soft material \n"
     ]
    },
    {
     "name": "stderr",
     "output_type": "stream",
     "text": [
      "Response status code: 403\n"
     ]
    },
    {
     "name": "stdout",
     "output_type": "stream",
     "text": [
      "Response status code: 403: This shirt is amazingly soft and has such a great cut  especially for me being curvy  i love to pair this with cute leggings or tight ankle jeans with my boots  recently wore on a casual date with the hubby and he loved it paired with my dark brown leather jacket and dark jeans      only reason i gave it 4 stars was that the shirt tends to stretch out a little at the bottom is seems as you wear it throughout the day   it is still a great shirt and if possible i would buy more      need to bring\n"
     ]
    },
    {
     "name": "stderr",
     "output_type": "stream",
     "text": [
      "Response status code: 403\n"
     ]
    },
    {
     "name": "stdout",
     "output_type": "stream",
     "text": [
      "Response status code: 403: This shirt is pretty but wasn t worth the price in my opinion  the shirt does a pretty decent job of staying closed at least  and the embroidering is pretty  but i could tell the material wouldn t last very long   also i like my shirts loose fitting  but this one looks more boxy than flowy  i d probably still buy it if it were cheaper \n"
     ]
    },
    {
     "name": "stderr",
     "output_type": "stream",
     "text": [
      "Response status code: 403\n"
     ]
    },
    {
     "name": "stdout",
     "output_type": "stream",
     "text": [
      "Response status code: 403: This shirt looks and feels fabulous  i got black and white and received a ton of compliments  wore with boots and leggings and fun jewelry \n"
     ]
    },
    {
     "name": "stderr",
     "output_type": "stream",
     "text": [
      "Response status code: 403\n"
     ]
    },
    {
     "name": "stdout",
     "output_type": "stream",
     "text": [
      "Response status code: 403: This is the perfect casual top to wear alone or layered with a cardigan  love it \n"
     ]
    },
    {
     "name": "stderr",
     "output_type": "stream",
     "text": [
      "Response status code: 403\n"
     ]
    },
    {
     "name": "stdout",
     "output_type": "stream",
     "text": [
      "Response status code: 403: I purchased this item in the gray heather color and loved it so much i wanted to buy every other color  the fabric was cottony and felt very soft and cushy against my skin  and the gray color was from the combination of black and white fibers  i ordered the light gray and the red online and could not wait for them to arrive  but the other colors were not even in the same material  but a very shiny and synthetic feeling fabric  with just a single color weave that did not have the same feel or tex\n"
     ]
    },
    {
     "name": "stderr",
     "output_type": "stream",
     "text": [
      "Response status code: 403\n"
     ]
    },
    {
     "name": "stdout",
     "output_type": "stream",
     "text": [
      "Response status code: 403: I ve been looking for a staple long sleeve tee for a while now  and i think i ve found it  i bought this tee in my usual retailer size of medium and the fit is perfect  the material is soft  the cut highlights an hourglass figure without clinging in the wrong places  the sleeves are long enough  which can sometimes be a problem for me  the length is perfect to wear with leggings without being too long  i ll be back for more colors \n"
     ]
    },
    {
     "ename": "KeyboardInterrupt",
     "evalue": "",
     "output_type": "error",
     "traceback": [
      "\u001b[1;31m---------------------------------------------------------------------------\u001b[0m",
      "\u001b[1;31mKeyboardInterrupt\u001b[0m                         Traceback (most recent call last)",
      "\u001b[1;32m<ipython-input-25-d952e73742fc>\u001b[0m in \u001b[0;36m<module>\u001b[1;34m\u001b[0m\n\u001b[1;32m----> 1\u001b[1;33m \u001b[0mcreate_sentiment_traits\u001b[0m\u001b[1;33m(\u001b[0m\u001b[1;34m\"Knits\"\u001b[0m\u001b[1;33m,\u001b[0m\u001b[1;36m500\u001b[0m\u001b[1;33m,\u001b[0m\u001b[1;34m\"knits_sentiment_traits.csv\"\u001b[0m\u001b[1;33m)\u001b[0m\u001b[1;33m\u001b[0m\u001b[1;33m\u001b[0m\u001b[0m\n\u001b[0m",
      "\u001b[1;32m<ipython-input-11-59755dd9fad1>\u001b[0m in \u001b[0;36mcreate_sentiment_traits\u001b[1;34m(category, number_of_rows, filename)\u001b[0m\n\u001b[0;32m      6\u001b[0m     \u001b[0mr\u001b[0m \u001b[1;33m=\u001b[0m \u001b[0mreviews_cat\u001b[0m\u001b[1;33m[\u001b[0m\u001b[1;33m:\u001b[0m\u001b[0mnumber_of_rows\u001b[0m\u001b[1;33m]\u001b[0m\u001b[1;33m\u001b[0m\u001b[1;33m\u001b[0m\u001b[0m\n\u001b[0;32m      7\u001b[0m \u001b[1;33m\u001b[0m\u001b[0m\n\u001b[1;32m----> 8\u001b[1;33m     \u001b[0mr\u001b[0m\u001b[1;33m[\u001b[0m\u001b[1;34m\"sentiment_overall\"\u001b[0m\u001b[1;33m]\u001b[0m \u001b[1;33m=\u001b[0m \u001b[0mr\u001b[0m\u001b[1;33m[\u001b[0m\u001b[1;34m\"Review Text\"\u001b[0m\u001b[1;33m]\u001b[0m\u001b[1;33m.\u001b[0m\u001b[0mapply\u001b[0m\u001b[1;33m(\u001b[0m\u001b[1;32mlambda\u001b[0m \u001b[0mx\u001b[0m\u001b[1;33m:\u001b[0m \u001b[0msentiment_overall\u001b[0m\u001b[1;33m(\u001b[0m\u001b[0mclient\u001b[0m\u001b[1;33m,\u001b[0m \u001b[0mx\u001b[0m\u001b[1;33m,\u001b[0m \u001b[0mlanguage\u001b[0m\u001b[1;33m)\u001b[0m\u001b[1;33m)\u001b[0m\u001b[1;33m\u001b[0m\u001b[1;33m\u001b[0m\u001b[0m\n\u001b[0m\u001b[0;32m      9\u001b[0m \u001b[1;33m\u001b[0m\u001b[0m\n\u001b[0;32m     10\u001b[0m     \u001b[0mr\u001b[0m\u001b[1;33m[\u001b[0m\u001b[1;34m\"emotional_traits\"\u001b[0m\u001b[1;33m]\u001b[0m \u001b[1;33m=\u001b[0m \u001b[0mr\u001b[0m\u001b[1;33m[\u001b[0m\u001b[1;34m\"Review Text\"\u001b[0m\u001b[1;33m]\u001b[0m\u001b[1;33m.\u001b[0m\u001b[0mapply\u001b[0m\u001b[1;33m(\u001b[0m\u001b[1;32mlambda\u001b[0m \u001b[0mx\u001b[0m\u001b[1;33m:\u001b[0m \u001b[0memotional_traits\u001b[0m\u001b[1;33m(\u001b[0m\u001b[0mclient\u001b[0m\u001b[1;33m,\u001b[0m \u001b[0mx\u001b[0m\u001b[1;33m,\u001b[0m \u001b[0mlanguage\u001b[0m\u001b[1;33m)\u001b[0m\u001b[1;33m)\u001b[0m\u001b[1;33m\u001b[0m\u001b[1;33m\u001b[0m\u001b[0m\n",
      "\u001b[1;32mC:\\Applications\\Anaconda\\lib\\site-packages\\pandas\\core\\series.py\u001b[0m in \u001b[0;36mapply\u001b[1;34m(self, func, convert_dtype, args, **kwds)\u001b[0m\n\u001b[0;32m   4136\u001b[0m             \u001b[1;32melse\u001b[0m\u001b[1;33m:\u001b[0m\u001b[1;33m\u001b[0m\u001b[1;33m\u001b[0m\u001b[0m\n\u001b[0;32m   4137\u001b[0m                 \u001b[0mvalues\u001b[0m \u001b[1;33m=\u001b[0m \u001b[0mself\u001b[0m\u001b[1;33m.\u001b[0m\u001b[0mastype\u001b[0m\u001b[1;33m(\u001b[0m\u001b[0mobject\u001b[0m\u001b[1;33m)\u001b[0m\u001b[1;33m.\u001b[0m\u001b[0m_values\u001b[0m\u001b[1;33m\u001b[0m\u001b[1;33m\u001b[0m\u001b[0m\n\u001b[1;32m-> 4138\u001b[1;33m                 \u001b[0mmapped\u001b[0m \u001b[1;33m=\u001b[0m \u001b[0mlib\u001b[0m\u001b[1;33m.\u001b[0m\u001b[0mmap_infer\u001b[0m\u001b[1;33m(\u001b[0m\u001b[0mvalues\u001b[0m\u001b[1;33m,\u001b[0m \u001b[0mf\u001b[0m\u001b[1;33m,\u001b[0m \u001b[0mconvert\u001b[0m\u001b[1;33m=\u001b[0m\u001b[0mconvert_dtype\u001b[0m\u001b[1;33m)\u001b[0m\u001b[1;33m\u001b[0m\u001b[1;33m\u001b[0m\u001b[0m\n\u001b[0m\u001b[0;32m   4139\u001b[0m \u001b[1;33m\u001b[0m\u001b[0m\n\u001b[0;32m   4140\u001b[0m         \u001b[1;32mif\u001b[0m \u001b[0mlen\u001b[0m\u001b[1;33m(\u001b[0m\u001b[0mmapped\u001b[0m\u001b[1;33m)\u001b[0m \u001b[1;32mand\u001b[0m \u001b[0misinstance\u001b[0m\u001b[1;33m(\u001b[0m\u001b[0mmapped\u001b[0m\u001b[1;33m[\u001b[0m\u001b[1;36m0\u001b[0m\u001b[1;33m]\u001b[0m\u001b[1;33m,\u001b[0m \u001b[0mSeries\u001b[0m\u001b[1;33m)\u001b[0m\u001b[1;33m:\u001b[0m\u001b[1;33m\u001b[0m\u001b[1;33m\u001b[0m\u001b[0m\n",
      "\u001b[1;32mpandas\\_libs\\lib.pyx\u001b[0m in \u001b[0;36mpandas._libs.lib.map_infer\u001b[1;34m()\u001b[0m\n",
      "\u001b[1;32m<ipython-input-11-59755dd9fad1>\u001b[0m in \u001b[0;36m<lambda>\u001b[1;34m(x)\u001b[0m\n\u001b[0;32m      6\u001b[0m     \u001b[0mr\u001b[0m \u001b[1;33m=\u001b[0m \u001b[0mreviews_cat\u001b[0m\u001b[1;33m[\u001b[0m\u001b[1;33m:\u001b[0m\u001b[0mnumber_of_rows\u001b[0m\u001b[1;33m]\u001b[0m\u001b[1;33m\u001b[0m\u001b[1;33m\u001b[0m\u001b[0m\n\u001b[0;32m      7\u001b[0m \u001b[1;33m\u001b[0m\u001b[0m\n\u001b[1;32m----> 8\u001b[1;33m     \u001b[0mr\u001b[0m\u001b[1;33m[\u001b[0m\u001b[1;34m\"sentiment_overall\"\u001b[0m\u001b[1;33m]\u001b[0m \u001b[1;33m=\u001b[0m \u001b[0mr\u001b[0m\u001b[1;33m[\u001b[0m\u001b[1;34m\"Review Text\"\u001b[0m\u001b[1;33m]\u001b[0m\u001b[1;33m.\u001b[0m\u001b[0mapply\u001b[0m\u001b[1;33m(\u001b[0m\u001b[1;32mlambda\u001b[0m \u001b[0mx\u001b[0m\u001b[1;33m:\u001b[0m \u001b[0msentiment_overall\u001b[0m\u001b[1;33m(\u001b[0m\u001b[0mclient\u001b[0m\u001b[1;33m,\u001b[0m \u001b[0mx\u001b[0m\u001b[1;33m,\u001b[0m \u001b[0mlanguage\u001b[0m\u001b[1;33m)\u001b[0m\u001b[1;33m)\u001b[0m\u001b[1;33m\u001b[0m\u001b[1;33m\u001b[0m\u001b[0m\n\u001b[0m\u001b[0;32m      9\u001b[0m \u001b[1;33m\u001b[0m\u001b[0m\n\u001b[0;32m     10\u001b[0m     \u001b[0mr\u001b[0m\u001b[1;33m[\u001b[0m\u001b[1;34m\"emotional_traits\"\u001b[0m\u001b[1;33m]\u001b[0m \u001b[1;33m=\u001b[0m \u001b[0mr\u001b[0m\u001b[1;33m[\u001b[0m\u001b[1;34m\"Review Text\"\u001b[0m\u001b[1;33m]\u001b[0m\u001b[1;33m.\u001b[0m\u001b[0mapply\u001b[0m\u001b[1;33m(\u001b[0m\u001b[1;32mlambda\u001b[0m \u001b[0mx\u001b[0m\u001b[1;33m:\u001b[0m \u001b[0memotional_traits\u001b[0m\u001b[1;33m(\u001b[0m\u001b[0mclient\u001b[0m\u001b[1;33m,\u001b[0m \u001b[0mx\u001b[0m\u001b[1;33m,\u001b[0m \u001b[0mlanguage\u001b[0m\u001b[1;33m)\u001b[0m\u001b[1;33m)\u001b[0m\u001b[1;33m\u001b[0m\u001b[1;33m\u001b[0m\u001b[0m\n",
      "\u001b[1;32m<ipython-input-8-d0b0aae79b72>\u001b[0m in \u001b[0;36msentiment_overall\u001b[1;34m(client, text, language)\u001b[0m\n\u001b[0;32m      2\u001b[0m     \u001b[1;32mtry\u001b[0m\u001b[1;33m:\u001b[0m\u001b[1;33m\u001b[0m\u001b[1;33m\u001b[0m\u001b[0m\n\u001b[0;32m      3\u001b[0m         \u001b[0minput_text\u001b[0m \u001b[1;33m=\u001b[0m \u001b[0mstr\u001b[0m\u001b[1;33m(\u001b[0m\u001b[0mtext\u001b[0m\u001b[1;33m)\u001b[0m\u001b[1;33m\u001b[0m\u001b[1;33m\u001b[0m\u001b[0m\n\u001b[1;32m----> 4\u001b[1;33m         document = client.specific_resource_analysis(\n\u001b[0m\u001b[0;32m      5\u001b[0m         \u001b[0mbody\u001b[0m\u001b[1;33m=\u001b[0m\u001b[1;33m{\u001b[0m\u001b[1;34m\"document\"\u001b[0m\u001b[1;33m:\u001b[0m \u001b[1;33m{\u001b[0m\u001b[1;34m\"text\"\u001b[0m\u001b[1;33m:\u001b[0m \u001b[0minput_text\u001b[0m\u001b[1;33m}\u001b[0m\u001b[1;33m}\u001b[0m\u001b[1;33m,\u001b[0m\u001b[1;33m\u001b[0m\u001b[1;33m\u001b[0m\u001b[0m\n\u001b[0;32m      6\u001b[0m         params={'language':  language, 'resource': 'sentiment'\n",
      "\u001b[1;32mC:\\Applications\\Anaconda\\lib\\site-packages\\expertai\\nlapi\\cloud\\client.py\u001b[0m in \u001b[0;36mspecific_resource_analysis\u001b[1;34m(self, params, body)\u001b[0m\n\u001b[0;32m    115\u001b[0m             \u001b[0mbody\u001b[0m\u001b[1;33m=\u001b[0m\u001b[0mbody\u001b[0m\u001b[1;33m,\u001b[0m\u001b[1;33m\u001b[0m\u001b[1;33m\u001b[0m\u001b[0m\n\u001b[0;32m    116\u001b[0m         )\n\u001b[1;32m--> 117\u001b[1;33m         \u001b[0mresponse\u001b[0m \u001b[1;33m=\u001b[0m \u001b[0mself\u001b[0m\u001b[1;33m.\u001b[0m\u001b[0mresponse_class\u001b[0m\u001b[1;33m(\u001b[0m\u001b[0mresponse\u001b[0m\u001b[1;33m=\u001b[0m\u001b[0mrequest\u001b[0m\u001b[1;33m.\u001b[0m\u001b[0msend\u001b[0m\u001b[1;33m(\u001b[0m\u001b[1;33m)\u001b[0m\u001b[1;33m)\u001b[0m\u001b[1;33m\u001b[0m\u001b[1;33m\u001b[0m\u001b[0m\n\u001b[0m\u001b[0;32m    118\u001b[0m         \u001b[1;32mreturn\u001b[0m \u001b[0mself\u001b[0m\u001b[1;33m.\u001b[0m\u001b[0mprocess_response\u001b[0m\u001b[1;33m(\u001b[0m\u001b[0mresponse\u001b[0m\u001b[1;33m)\u001b[0m\u001b[1;33m\u001b[0m\u001b[1;33m\u001b[0m\u001b[0m\n\u001b[0;32m    119\u001b[0m \u001b[1;33m\u001b[0m\u001b[0m\n",
      "\u001b[1;32mC:\\Applications\\Anaconda\\lib\\site-packages\\expertai\\nlapi\\cloud\\request.py\u001b[0m in \u001b[0;36msend\u001b[1;34m(self)\u001b[0m\n\u001b[0;32m     51\u001b[0m         \u001b[1;32mtry\u001b[0m\u001b[1;33m:\u001b[0m\u001b[1;33m\u001b[0m\u001b[1;33m\u001b[0m\u001b[0m\n\u001b[0;32m     52\u001b[0m             \u001b[0mhttp_method\u001b[0m\u001b[1;33m,\u001b[0m \u001b[0mreq_parameters\u001b[0m \u001b[1;33m=\u001b[0m \u001b[0mself\u001b[0m\u001b[1;33m.\u001b[0m\u001b[0msetup_raw_request\u001b[0m\u001b[1;33m(\u001b[0m\u001b[1;33m)\u001b[0m\u001b[1;33m\u001b[0m\u001b[1;33m\u001b[0m\u001b[0m\n\u001b[1;32m---> 53\u001b[1;33m             \u001b[1;32mreturn\u001b[0m \u001b[0mhttp_method\u001b[0m\u001b[1;33m(\u001b[0m\u001b[1;33m**\u001b[0m\u001b[0mreq_parameters\u001b[0m\u001b[1;33m)\u001b[0m\u001b[1;33m\u001b[0m\u001b[1;33m\u001b[0m\u001b[0m\n\u001b[0m\u001b[0;32m     54\u001b[0m         \u001b[1;32mexcept\u001b[0m \u001b[0mIOError\u001b[0m \u001b[1;32mas\u001b[0m \u001b[0me\u001b[0m\u001b[1;33m:\u001b[0m\u001b[1;33m\u001b[0m\u001b[1;33m\u001b[0m\u001b[0m\n\u001b[0;32m     55\u001b[0m             raise ExpertAiRequestError(\n",
      "\u001b[1;32mC:\\Applications\\Anaconda\\lib\\site-packages\\requests\\api.py\u001b[0m in \u001b[0;36mpost\u001b[1;34m(url, data, json, **kwargs)\u001b[0m\n\u001b[0;32m    117\u001b[0m     \"\"\"\n\u001b[0;32m    118\u001b[0m \u001b[1;33m\u001b[0m\u001b[0m\n\u001b[1;32m--> 119\u001b[1;33m     \u001b[1;32mreturn\u001b[0m \u001b[0mrequest\u001b[0m\u001b[1;33m(\u001b[0m\u001b[1;34m'post'\u001b[0m\u001b[1;33m,\u001b[0m \u001b[0murl\u001b[0m\u001b[1;33m,\u001b[0m \u001b[0mdata\u001b[0m\u001b[1;33m=\u001b[0m\u001b[0mdata\u001b[0m\u001b[1;33m,\u001b[0m \u001b[0mjson\u001b[0m\u001b[1;33m=\u001b[0m\u001b[0mjson\u001b[0m\u001b[1;33m,\u001b[0m \u001b[1;33m**\u001b[0m\u001b[0mkwargs\u001b[0m\u001b[1;33m)\u001b[0m\u001b[1;33m\u001b[0m\u001b[1;33m\u001b[0m\u001b[0m\n\u001b[0m\u001b[0;32m    120\u001b[0m \u001b[1;33m\u001b[0m\u001b[0m\n\u001b[0;32m    121\u001b[0m \u001b[1;33m\u001b[0m\u001b[0m\n",
      "\u001b[1;32mC:\\Applications\\Anaconda\\lib\\site-packages\\requests\\api.py\u001b[0m in \u001b[0;36mrequest\u001b[1;34m(method, url, **kwargs)\u001b[0m\n\u001b[0;32m     59\u001b[0m     \u001b[1;31m# cases, and look like a memory leak in others.\u001b[0m\u001b[1;33m\u001b[0m\u001b[1;33m\u001b[0m\u001b[1;33m\u001b[0m\u001b[0m\n\u001b[0;32m     60\u001b[0m     \u001b[1;32mwith\u001b[0m \u001b[0msessions\u001b[0m\u001b[1;33m.\u001b[0m\u001b[0mSession\u001b[0m\u001b[1;33m(\u001b[0m\u001b[1;33m)\u001b[0m \u001b[1;32mas\u001b[0m \u001b[0msession\u001b[0m\u001b[1;33m:\u001b[0m\u001b[1;33m\u001b[0m\u001b[1;33m\u001b[0m\u001b[0m\n\u001b[1;32m---> 61\u001b[1;33m         \u001b[1;32mreturn\u001b[0m \u001b[0msession\u001b[0m\u001b[1;33m.\u001b[0m\u001b[0mrequest\u001b[0m\u001b[1;33m(\u001b[0m\u001b[0mmethod\u001b[0m\u001b[1;33m=\u001b[0m\u001b[0mmethod\u001b[0m\u001b[1;33m,\u001b[0m \u001b[0murl\u001b[0m\u001b[1;33m=\u001b[0m\u001b[0murl\u001b[0m\u001b[1;33m,\u001b[0m \u001b[1;33m**\u001b[0m\u001b[0mkwargs\u001b[0m\u001b[1;33m)\u001b[0m\u001b[1;33m\u001b[0m\u001b[1;33m\u001b[0m\u001b[0m\n\u001b[0m\u001b[0;32m     62\u001b[0m \u001b[1;33m\u001b[0m\u001b[0m\n\u001b[0;32m     63\u001b[0m \u001b[1;33m\u001b[0m\u001b[0m\n",
      "\u001b[1;32mC:\\Applications\\Anaconda\\lib\\site-packages\\requests\\sessions.py\u001b[0m in \u001b[0;36mrequest\u001b[1;34m(self, method, url, params, data, headers, cookies, files, auth, timeout, allow_redirects, proxies, hooks, stream, verify, cert, json)\u001b[0m\n\u001b[0;32m    540\u001b[0m         }\n\u001b[0;32m    541\u001b[0m         \u001b[0msend_kwargs\u001b[0m\u001b[1;33m.\u001b[0m\u001b[0mupdate\u001b[0m\u001b[1;33m(\u001b[0m\u001b[0msettings\u001b[0m\u001b[1;33m)\u001b[0m\u001b[1;33m\u001b[0m\u001b[1;33m\u001b[0m\u001b[0m\n\u001b[1;32m--> 542\u001b[1;33m         \u001b[0mresp\u001b[0m \u001b[1;33m=\u001b[0m \u001b[0mself\u001b[0m\u001b[1;33m.\u001b[0m\u001b[0msend\u001b[0m\u001b[1;33m(\u001b[0m\u001b[0mprep\u001b[0m\u001b[1;33m,\u001b[0m \u001b[1;33m**\u001b[0m\u001b[0msend_kwargs\u001b[0m\u001b[1;33m)\u001b[0m\u001b[1;33m\u001b[0m\u001b[1;33m\u001b[0m\u001b[0m\n\u001b[0m\u001b[0;32m    543\u001b[0m \u001b[1;33m\u001b[0m\u001b[0m\n\u001b[0;32m    544\u001b[0m         \u001b[1;32mreturn\u001b[0m \u001b[0mresp\u001b[0m\u001b[1;33m\u001b[0m\u001b[1;33m\u001b[0m\u001b[0m\n",
      "\u001b[1;32mC:\\Applications\\Anaconda\\lib\\site-packages\\requests\\sessions.py\u001b[0m in \u001b[0;36msend\u001b[1;34m(self, request, **kwargs)\u001b[0m\n\u001b[0;32m    653\u001b[0m \u001b[1;33m\u001b[0m\u001b[0m\n\u001b[0;32m    654\u001b[0m         \u001b[1;31m# Send the request\u001b[0m\u001b[1;33m\u001b[0m\u001b[1;33m\u001b[0m\u001b[1;33m\u001b[0m\u001b[0m\n\u001b[1;32m--> 655\u001b[1;33m         \u001b[0mr\u001b[0m \u001b[1;33m=\u001b[0m \u001b[0madapter\u001b[0m\u001b[1;33m.\u001b[0m\u001b[0msend\u001b[0m\u001b[1;33m(\u001b[0m\u001b[0mrequest\u001b[0m\u001b[1;33m,\u001b[0m \u001b[1;33m**\u001b[0m\u001b[0mkwargs\u001b[0m\u001b[1;33m)\u001b[0m\u001b[1;33m\u001b[0m\u001b[1;33m\u001b[0m\u001b[0m\n\u001b[0m\u001b[0;32m    656\u001b[0m \u001b[1;33m\u001b[0m\u001b[0m\n\u001b[0;32m    657\u001b[0m         \u001b[1;31m# Total elapsed time of the request (approximately)\u001b[0m\u001b[1;33m\u001b[0m\u001b[1;33m\u001b[0m\u001b[1;33m\u001b[0m\u001b[0m\n",
      "\u001b[1;32mC:\\Applications\\Anaconda\\lib\\site-packages\\requests\\adapters.py\u001b[0m in \u001b[0;36msend\u001b[1;34m(self, request, stream, timeout, verify, cert, proxies)\u001b[0m\n\u001b[0;32m    437\u001b[0m         \u001b[1;32mtry\u001b[0m\u001b[1;33m:\u001b[0m\u001b[1;33m\u001b[0m\u001b[1;33m\u001b[0m\u001b[0m\n\u001b[0;32m    438\u001b[0m             \u001b[1;32mif\u001b[0m \u001b[1;32mnot\u001b[0m \u001b[0mchunked\u001b[0m\u001b[1;33m:\u001b[0m\u001b[1;33m\u001b[0m\u001b[1;33m\u001b[0m\u001b[0m\n\u001b[1;32m--> 439\u001b[1;33m                 resp = conn.urlopen(\n\u001b[0m\u001b[0;32m    440\u001b[0m                     \u001b[0mmethod\u001b[0m\u001b[1;33m=\u001b[0m\u001b[0mrequest\u001b[0m\u001b[1;33m.\u001b[0m\u001b[0mmethod\u001b[0m\u001b[1;33m,\u001b[0m\u001b[1;33m\u001b[0m\u001b[1;33m\u001b[0m\u001b[0m\n\u001b[0;32m    441\u001b[0m                     \u001b[0murl\u001b[0m\u001b[1;33m=\u001b[0m\u001b[0murl\u001b[0m\u001b[1;33m,\u001b[0m\u001b[1;33m\u001b[0m\u001b[1;33m\u001b[0m\u001b[0m\n",
      "\u001b[1;32mC:\\Applications\\Anaconda\\lib\\site-packages\\urllib3\\connectionpool.py\u001b[0m in \u001b[0;36murlopen\u001b[1;34m(self, method, url, body, headers, retries, redirect, assert_same_host, timeout, pool_timeout, release_conn, chunked, body_pos, **response_kw)\u001b[0m\n\u001b[0;32m    697\u001b[0m \u001b[1;33m\u001b[0m\u001b[0m\n\u001b[0;32m    698\u001b[0m             \u001b[1;31m# Make the request on the httplib connection object.\u001b[0m\u001b[1;33m\u001b[0m\u001b[1;33m\u001b[0m\u001b[1;33m\u001b[0m\u001b[0m\n\u001b[1;32m--> 699\u001b[1;33m             httplib_response = self._make_request(\n\u001b[0m\u001b[0;32m    700\u001b[0m                 \u001b[0mconn\u001b[0m\u001b[1;33m,\u001b[0m\u001b[1;33m\u001b[0m\u001b[1;33m\u001b[0m\u001b[0m\n\u001b[0;32m    701\u001b[0m                 \u001b[0mmethod\u001b[0m\u001b[1;33m,\u001b[0m\u001b[1;33m\u001b[0m\u001b[1;33m\u001b[0m\u001b[0m\n",
      "\u001b[1;32mC:\\Applications\\Anaconda\\lib\\site-packages\\urllib3\\connectionpool.py\u001b[0m in \u001b[0;36m_make_request\u001b[1;34m(self, conn, method, url, timeout, chunked, **httplib_request_kw)\u001b[0m\n\u001b[0;32m    443\u001b[0m                     \u001b[1;31m# Python 3 (including for exceptions like SystemExit).\u001b[0m\u001b[1;33m\u001b[0m\u001b[1;33m\u001b[0m\u001b[1;33m\u001b[0m\u001b[0m\n\u001b[0;32m    444\u001b[0m                     \u001b[1;31m# Otherwise it looks like a bug in the code.\u001b[0m\u001b[1;33m\u001b[0m\u001b[1;33m\u001b[0m\u001b[1;33m\u001b[0m\u001b[0m\n\u001b[1;32m--> 445\u001b[1;33m                     \u001b[0msix\u001b[0m\u001b[1;33m.\u001b[0m\u001b[0mraise_from\u001b[0m\u001b[1;33m(\u001b[0m\u001b[0me\u001b[0m\u001b[1;33m,\u001b[0m \u001b[1;32mNone\u001b[0m\u001b[1;33m)\u001b[0m\u001b[1;33m\u001b[0m\u001b[1;33m\u001b[0m\u001b[0m\n\u001b[0m\u001b[0;32m    446\u001b[0m         \u001b[1;32mexcept\u001b[0m \u001b[1;33m(\u001b[0m\u001b[0mSocketTimeout\u001b[0m\u001b[1;33m,\u001b[0m \u001b[0mBaseSSLError\u001b[0m\u001b[1;33m,\u001b[0m \u001b[0mSocketError\u001b[0m\u001b[1;33m)\u001b[0m \u001b[1;32mas\u001b[0m \u001b[0me\u001b[0m\u001b[1;33m:\u001b[0m\u001b[1;33m\u001b[0m\u001b[1;33m\u001b[0m\u001b[0m\n\u001b[0;32m    447\u001b[0m             \u001b[0mself\u001b[0m\u001b[1;33m.\u001b[0m\u001b[0m_raise_timeout\u001b[0m\u001b[1;33m(\u001b[0m\u001b[0merr\u001b[0m\u001b[1;33m=\u001b[0m\u001b[0me\u001b[0m\u001b[1;33m,\u001b[0m \u001b[0murl\u001b[0m\u001b[1;33m=\u001b[0m\u001b[0murl\u001b[0m\u001b[1;33m,\u001b[0m \u001b[0mtimeout_value\u001b[0m\u001b[1;33m=\u001b[0m\u001b[0mread_timeout\u001b[0m\u001b[1;33m)\u001b[0m\u001b[1;33m\u001b[0m\u001b[1;33m\u001b[0m\u001b[0m\n",
      "\u001b[1;32mC:\\Applications\\Anaconda\\lib\\site-packages\\urllib3\\packages\\six.py\u001b[0m in \u001b[0;36mraise_from\u001b[1;34m(value, from_value)\u001b[0m\n",
      "\u001b[1;32mC:\\Applications\\Anaconda\\lib\\site-packages\\urllib3\\connectionpool.py\u001b[0m in \u001b[0;36m_make_request\u001b[1;34m(self, conn, method, url, timeout, chunked, **httplib_request_kw)\u001b[0m\n\u001b[0;32m    438\u001b[0m                 \u001b[1;31m# Python 3\u001b[0m\u001b[1;33m\u001b[0m\u001b[1;33m\u001b[0m\u001b[1;33m\u001b[0m\u001b[0m\n\u001b[0;32m    439\u001b[0m                 \u001b[1;32mtry\u001b[0m\u001b[1;33m:\u001b[0m\u001b[1;33m\u001b[0m\u001b[1;33m\u001b[0m\u001b[0m\n\u001b[1;32m--> 440\u001b[1;33m                     \u001b[0mhttplib_response\u001b[0m \u001b[1;33m=\u001b[0m \u001b[0mconn\u001b[0m\u001b[1;33m.\u001b[0m\u001b[0mgetresponse\u001b[0m\u001b[1;33m(\u001b[0m\u001b[1;33m)\u001b[0m\u001b[1;33m\u001b[0m\u001b[1;33m\u001b[0m\u001b[0m\n\u001b[0m\u001b[0;32m    441\u001b[0m                 \u001b[1;32mexcept\u001b[0m \u001b[0mBaseException\u001b[0m \u001b[1;32mas\u001b[0m \u001b[0me\u001b[0m\u001b[1;33m:\u001b[0m\u001b[1;33m\u001b[0m\u001b[1;33m\u001b[0m\u001b[0m\n\u001b[0;32m    442\u001b[0m                     \u001b[1;31m# Remove the TypeError from the exception chain in\u001b[0m\u001b[1;33m\u001b[0m\u001b[1;33m\u001b[0m\u001b[1;33m\u001b[0m\u001b[0m\n",
      "\u001b[1;32mC:\\Applications\\Anaconda\\lib\\http\\client.py\u001b[0m in \u001b[0;36mgetresponse\u001b[1;34m(self)\u001b[0m\n\u001b[0;32m   1345\u001b[0m         \u001b[1;32mtry\u001b[0m\u001b[1;33m:\u001b[0m\u001b[1;33m\u001b[0m\u001b[1;33m\u001b[0m\u001b[0m\n\u001b[0;32m   1346\u001b[0m             \u001b[1;32mtry\u001b[0m\u001b[1;33m:\u001b[0m\u001b[1;33m\u001b[0m\u001b[1;33m\u001b[0m\u001b[0m\n\u001b[1;32m-> 1347\u001b[1;33m                 \u001b[0mresponse\u001b[0m\u001b[1;33m.\u001b[0m\u001b[0mbegin\u001b[0m\u001b[1;33m(\u001b[0m\u001b[1;33m)\u001b[0m\u001b[1;33m\u001b[0m\u001b[1;33m\u001b[0m\u001b[0m\n\u001b[0m\u001b[0;32m   1348\u001b[0m             \u001b[1;32mexcept\u001b[0m \u001b[0mConnectionError\u001b[0m\u001b[1;33m:\u001b[0m\u001b[1;33m\u001b[0m\u001b[1;33m\u001b[0m\u001b[0m\n\u001b[0;32m   1349\u001b[0m                 \u001b[0mself\u001b[0m\u001b[1;33m.\u001b[0m\u001b[0mclose\u001b[0m\u001b[1;33m(\u001b[0m\u001b[1;33m)\u001b[0m\u001b[1;33m\u001b[0m\u001b[1;33m\u001b[0m\u001b[0m\n",
      "\u001b[1;32mC:\\Applications\\Anaconda\\lib\\http\\client.py\u001b[0m in \u001b[0;36mbegin\u001b[1;34m(self)\u001b[0m\n\u001b[0;32m    305\u001b[0m         \u001b[1;31m# read until we get a non-100 response\u001b[0m\u001b[1;33m\u001b[0m\u001b[1;33m\u001b[0m\u001b[1;33m\u001b[0m\u001b[0m\n\u001b[0;32m    306\u001b[0m         \u001b[1;32mwhile\u001b[0m \u001b[1;32mTrue\u001b[0m\u001b[1;33m:\u001b[0m\u001b[1;33m\u001b[0m\u001b[1;33m\u001b[0m\u001b[0m\n\u001b[1;32m--> 307\u001b[1;33m             \u001b[0mversion\u001b[0m\u001b[1;33m,\u001b[0m \u001b[0mstatus\u001b[0m\u001b[1;33m,\u001b[0m \u001b[0mreason\u001b[0m \u001b[1;33m=\u001b[0m \u001b[0mself\u001b[0m\u001b[1;33m.\u001b[0m\u001b[0m_read_status\u001b[0m\u001b[1;33m(\u001b[0m\u001b[1;33m)\u001b[0m\u001b[1;33m\u001b[0m\u001b[1;33m\u001b[0m\u001b[0m\n\u001b[0m\u001b[0;32m    308\u001b[0m             \u001b[1;32mif\u001b[0m \u001b[0mstatus\u001b[0m \u001b[1;33m!=\u001b[0m \u001b[0mCONTINUE\u001b[0m\u001b[1;33m:\u001b[0m\u001b[1;33m\u001b[0m\u001b[1;33m\u001b[0m\u001b[0m\n\u001b[0;32m    309\u001b[0m                 \u001b[1;32mbreak\u001b[0m\u001b[1;33m\u001b[0m\u001b[1;33m\u001b[0m\u001b[0m\n",
      "\u001b[1;32mC:\\Applications\\Anaconda\\lib\\http\\client.py\u001b[0m in \u001b[0;36m_read_status\u001b[1;34m(self)\u001b[0m\n\u001b[0;32m    266\u001b[0m \u001b[1;33m\u001b[0m\u001b[0m\n\u001b[0;32m    267\u001b[0m     \u001b[1;32mdef\u001b[0m \u001b[0m_read_status\u001b[0m\u001b[1;33m(\u001b[0m\u001b[0mself\u001b[0m\u001b[1;33m)\u001b[0m\u001b[1;33m:\u001b[0m\u001b[1;33m\u001b[0m\u001b[1;33m\u001b[0m\u001b[0m\n\u001b[1;32m--> 268\u001b[1;33m         \u001b[0mline\u001b[0m \u001b[1;33m=\u001b[0m \u001b[0mstr\u001b[0m\u001b[1;33m(\u001b[0m\u001b[0mself\u001b[0m\u001b[1;33m.\u001b[0m\u001b[0mfp\u001b[0m\u001b[1;33m.\u001b[0m\u001b[0mreadline\u001b[0m\u001b[1;33m(\u001b[0m\u001b[0m_MAXLINE\u001b[0m \u001b[1;33m+\u001b[0m \u001b[1;36m1\u001b[0m\u001b[1;33m)\u001b[0m\u001b[1;33m,\u001b[0m \u001b[1;34m\"iso-8859-1\"\u001b[0m\u001b[1;33m)\u001b[0m\u001b[1;33m\u001b[0m\u001b[1;33m\u001b[0m\u001b[0m\n\u001b[0m\u001b[0;32m    269\u001b[0m         \u001b[1;32mif\u001b[0m \u001b[0mlen\u001b[0m\u001b[1;33m(\u001b[0m\u001b[0mline\u001b[0m\u001b[1;33m)\u001b[0m \u001b[1;33m>\u001b[0m \u001b[0m_MAXLINE\u001b[0m\u001b[1;33m:\u001b[0m\u001b[1;33m\u001b[0m\u001b[1;33m\u001b[0m\u001b[0m\n\u001b[0;32m    270\u001b[0m             \u001b[1;32mraise\u001b[0m \u001b[0mLineTooLong\u001b[0m\u001b[1;33m(\u001b[0m\u001b[1;34m\"status line\"\u001b[0m\u001b[1;33m)\u001b[0m\u001b[1;33m\u001b[0m\u001b[1;33m\u001b[0m\u001b[0m\n",
      "\u001b[1;32mC:\\Applications\\Anaconda\\lib\\socket.py\u001b[0m in \u001b[0;36mreadinto\u001b[1;34m(self, b)\u001b[0m\n\u001b[0;32m    667\u001b[0m         \u001b[1;32mwhile\u001b[0m \u001b[1;32mTrue\u001b[0m\u001b[1;33m:\u001b[0m\u001b[1;33m\u001b[0m\u001b[1;33m\u001b[0m\u001b[0m\n\u001b[0;32m    668\u001b[0m             \u001b[1;32mtry\u001b[0m\u001b[1;33m:\u001b[0m\u001b[1;33m\u001b[0m\u001b[1;33m\u001b[0m\u001b[0m\n\u001b[1;32m--> 669\u001b[1;33m                 \u001b[1;32mreturn\u001b[0m \u001b[0mself\u001b[0m\u001b[1;33m.\u001b[0m\u001b[0m_sock\u001b[0m\u001b[1;33m.\u001b[0m\u001b[0mrecv_into\u001b[0m\u001b[1;33m(\u001b[0m\u001b[0mb\u001b[0m\u001b[1;33m)\u001b[0m\u001b[1;33m\u001b[0m\u001b[1;33m\u001b[0m\u001b[0m\n\u001b[0m\u001b[0;32m    670\u001b[0m             \u001b[1;32mexcept\u001b[0m \u001b[0mtimeout\u001b[0m\u001b[1;33m:\u001b[0m\u001b[1;33m\u001b[0m\u001b[1;33m\u001b[0m\u001b[0m\n\u001b[0;32m    671\u001b[0m                 \u001b[0mself\u001b[0m\u001b[1;33m.\u001b[0m\u001b[0m_timeout_occurred\u001b[0m \u001b[1;33m=\u001b[0m \u001b[1;32mTrue\u001b[0m\u001b[1;33m\u001b[0m\u001b[1;33m\u001b[0m\u001b[0m\n",
      "\u001b[1;32mC:\\Applications\\Anaconda\\lib\\ssl.py\u001b[0m in \u001b[0;36mrecv_into\u001b[1;34m(self, buffer, nbytes, flags)\u001b[0m\n\u001b[0;32m   1239\u001b[0m                   \u001b[1;34m\"non-zero flags not allowed in calls to recv_into() on %s\"\u001b[0m \u001b[1;33m%\u001b[0m\u001b[1;33m\u001b[0m\u001b[1;33m\u001b[0m\u001b[0m\n\u001b[0;32m   1240\u001b[0m                   self.__class__)\n\u001b[1;32m-> 1241\u001b[1;33m             \u001b[1;32mreturn\u001b[0m \u001b[0mself\u001b[0m\u001b[1;33m.\u001b[0m\u001b[0mread\u001b[0m\u001b[1;33m(\u001b[0m\u001b[0mnbytes\u001b[0m\u001b[1;33m,\u001b[0m \u001b[0mbuffer\u001b[0m\u001b[1;33m)\u001b[0m\u001b[1;33m\u001b[0m\u001b[1;33m\u001b[0m\u001b[0m\n\u001b[0m\u001b[0;32m   1242\u001b[0m         \u001b[1;32melse\u001b[0m\u001b[1;33m:\u001b[0m\u001b[1;33m\u001b[0m\u001b[1;33m\u001b[0m\u001b[0m\n\u001b[0;32m   1243\u001b[0m             \u001b[1;32mreturn\u001b[0m \u001b[0msuper\u001b[0m\u001b[1;33m(\u001b[0m\u001b[1;33m)\u001b[0m\u001b[1;33m.\u001b[0m\u001b[0mrecv_into\u001b[0m\u001b[1;33m(\u001b[0m\u001b[0mbuffer\u001b[0m\u001b[1;33m,\u001b[0m \u001b[0mnbytes\u001b[0m\u001b[1;33m,\u001b[0m \u001b[0mflags\u001b[0m\u001b[1;33m)\u001b[0m\u001b[1;33m\u001b[0m\u001b[1;33m\u001b[0m\u001b[0m\n",
      "\u001b[1;32mC:\\Applications\\Anaconda\\lib\\ssl.py\u001b[0m in \u001b[0;36mread\u001b[1;34m(self, len, buffer)\u001b[0m\n\u001b[0;32m   1097\u001b[0m         \u001b[1;32mtry\u001b[0m\u001b[1;33m:\u001b[0m\u001b[1;33m\u001b[0m\u001b[1;33m\u001b[0m\u001b[0m\n\u001b[0;32m   1098\u001b[0m             \u001b[1;32mif\u001b[0m \u001b[0mbuffer\u001b[0m \u001b[1;32mis\u001b[0m \u001b[1;32mnot\u001b[0m \u001b[1;32mNone\u001b[0m\u001b[1;33m:\u001b[0m\u001b[1;33m\u001b[0m\u001b[1;33m\u001b[0m\u001b[0m\n\u001b[1;32m-> 1099\u001b[1;33m                 \u001b[1;32mreturn\u001b[0m \u001b[0mself\u001b[0m\u001b[1;33m.\u001b[0m\u001b[0m_sslobj\u001b[0m\u001b[1;33m.\u001b[0m\u001b[0mread\u001b[0m\u001b[1;33m(\u001b[0m\u001b[0mlen\u001b[0m\u001b[1;33m,\u001b[0m \u001b[0mbuffer\u001b[0m\u001b[1;33m)\u001b[0m\u001b[1;33m\u001b[0m\u001b[1;33m\u001b[0m\u001b[0m\n\u001b[0m\u001b[0;32m   1100\u001b[0m             \u001b[1;32melse\u001b[0m\u001b[1;33m:\u001b[0m\u001b[1;33m\u001b[0m\u001b[1;33m\u001b[0m\u001b[0m\n\u001b[0;32m   1101\u001b[0m                 \u001b[1;32mreturn\u001b[0m \u001b[0mself\u001b[0m\u001b[1;33m.\u001b[0m\u001b[0m_sslobj\u001b[0m\u001b[1;33m.\u001b[0m\u001b[0mread\u001b[0m\u001b[1;33m(\u001b[0m\u001b[0mlen\u001b[0m\u001b[1;33m)\u001b[0m\u001b[1;33m\u001b[0m\u001b[1;33m\u001b[0m\u001b[0m\n",
      "\u001b[1;31mKeyboardInterrupt\u001b[0m: "
     ]
    }
   ],
   "source": [
    "create_sentiment_traits(\"Knits\",500,\"knits_sentiment_traits.csv\")"
   ]
  },
  {
   "cell_type": "code",
   "execution_count": null,
   "id": "b3fda5da",
   "metadata": {},
   "outputs": [],
   "source": [
    "create_sentiment_traits(\"Outerwear\",500,\"outerwear_sentiment_traits.csv\")"
   ]
  },
  {
   "cell_type": "code",
   "execution_count": null,
   "id": "31e772f9",
   "metadata": {},
   "outputs": [],
   "source": [
    "create_sentiment_traits(\"Lounge\",500,\"lounge_sentiment_traits.csv\")"
   ]
  },
  {
   "cell_type": "code",
   "execution_count": null,
   "id": "8db072cb",
   "metadata": {},
   "outputs": [],
   "source": [
    "create_sentiment_traits(\"Sweaters\",500,\"sweaters_sentiment_traits.csv\")"
   ]
  },
  {
   "cell_type": "code",
   "execution_count": null,
   "id": "c82bb29c",
   "metadata": {},
   "outputs": [],
   "source": [
    "create_sentiment_traits(\"Sweaters\",500,\"sweaters_sentiment_traits.csv\")"
   ]
  }
 ],
 "metadata": {
  "kernelspec": {
   "display_name": "Python 3",
   "language": "python",
   "name": "python3"
  },
  "language_info": {
   "codemirror_mode": {
    "name": "ipython",
    "version": 3
   },
   "file_extension": ".py",
   "mimetype": "text/x-python",
   "name": "python",
   "nbconvert_exporter": "python",
   "pygments_lexer": "ipython3",
   "version": "3.8.8"
  }
 },
 "nbformat": 4,
 "nbformat_minor": 5
}
