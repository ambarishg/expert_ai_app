{
 "cells": [
  {
   "cell_type": "code",
   "execution_count": 1,
   "id": "c6e45372",
   "metadata": {},
   "outputs": [],
   "source": [
    "import pandas as pd\n",
    "import numpy as np\n",
    "import re\n",
    "import string\n",
    "\n",
    "from expertai.nlapi.cloud.client import ExpertAiClient\n",
    "import os"
   ]
  },
  {
   "cell_type": "code",
   "execution_count": 2,
   "id": "3a1e1e79",
   "metadata": {},
   "outputs": [],
   "source": [
    "filename = \"Womens Clothing E-Commerce Reviews.csv\""
   ]
  },
  {
   "cell_type": "code",
   "execution_count": 3,
   "id": "d75e5274",
   "metadata": {},
   "outputs": [],
   "source": [
    "reviews = pd.read_csv(\"../input/\" + filename)"
   ]
  },
  {
   "cell_type": "code",
   "execution_count": 4,
   "id": "4e181dd7",
   "metadata": {},
   "outputs": [
    {
     "data": {
      "text/plain": [
       "(array(['Intimates', 'Dresses', 'Pants', 'Blouses', 'Knits', 'Outerwear',\n",
       "        'Lounge', 'Sweaters', 'Skirts', 'Fine gauge', 'Sleep', 'Jackets',\n",
       "        'Swim', 'Trend', 'Jeans', 'Legwear', 'Shorts', 'Layering',\n",
       "        'Casual bottoms', nan, 'Chemises'], dtype=object),\n",
       " 21)"
      ]
     },
     "execution_count": 4,
     "metadata": {},
     "output_type": "execute_result"
    }
   ],
   "source": [
    "reviews[\"Class Name\"].unique(),len(reviews[\"Class Name\"].unique())"
   ]
  },
  {
   "cell_type": "code",
   "execution_count": 5,
   "id": "2f2339aa",
   "metadata": {},
   "outputs": [],
   "source": [
    "os.environ[\"EAI_USERNAME\"] = 'ambarish.ganguly@gmail.com'\n",
    "os.environ[\"EAI_PASSWORD\"] = 'Ambarish@1234'"
   ]
  },
  {
   "cell_type": "code",
   "execution_count": 6,
   "id": "1c54d668",
   "metadata": {},
   "outputs": [],
   "source": [
    "def clean_text(text):\n",
    "    '''Make text lowercase,remove punctuation\n",
    "    .'''\n",
    "    text = str(text)\n",
    "    text = re.sub('[%s]' % re.escape(string.punctuation), ' ', text)\n",
    "    text = re.sub('\\n', ' ', text)\n",
    "    text = re.sub('\\r', ' ', text)\n",
    "    return text"
   ]
  },
  {
   "cell_type": "code",
   "execution_count": 7,
   "id": "749d9f50",
   "metadata": {},
   "outputs": [],
   "source": [
    "client = ExpertAiClient()\n",
    "language =\"en\""
   ]
  },
  {
   "cell_type": "code",
   "execution_count": 8,
   "id": "f28c18a7",
   "metadata": {},
   "outputs": [],
   "source": [
    "def sentiment_overall(client, text, language):\n",
    "    try:\n",
    "        input_text = str(text)\n",
    "        document = client.specific_resource_analysis(\n",
    "        body={\"document\": {\"text\": input_text}}, \n",
    "        params={'language':  language, 'resource': 'sentiment'\n",
    "       })\n",
    "        return document.sentiment.overall\n",
    "    except Exception as e: \n",
    "        print(str(e) +\": \" + str(text))"
   ]
  },
  {
   "cell_type": "code",
   "execution_count": 9,
   "id": "09b326ad",
   "metadata": {},
   "outputs": [],
   "source": [
    "def emotional_traits(client, text, language,taxonomy = \"emotional-traits\"):\n",
    "    input_text = str(text)\n",
    "    emotional_categories = \"\"\n",
    "    output = client.classification(body={\"document\": {\"text\": input_text}}, \n",
    "                                   params={'taxonomy': taxonomy, 'language': language})\n",
    "\n",
    "    for category in output.categories:\n",
    "        if(emotional_categories == \"\"):\n",
    "            emotional_categories = emotional_categories + str(category.hierarchy[-1])\n",
    "        else:\n",
    "            emotional_categories = emotional_categories + \" \" + str(category.hierarchy[-1])\n",
    "    \n",
    "    return(emotional_categories)"
   ]
  },
  {
   "cell_type": "code",
   "execution_count": 10,
   "id": "37ca5935",
   "metadata": {},
   "outputs": [],
   "source": [
    "def relevants(client, text, language):\n",
    "    input_text = str(text)\n",
    "    concepts = []\n",
    "    document  = client.specific_resource_analysis(body={\"document\": {\"text\": input_text}}, \n",
    "                                   params={'language': language, 'resource': 'relevants'})\n",
    "\n",
    "    for category in document.main_syncons:        \n",
    "        concepts.append(category.lemma)\n",
    "    \n",
    "    return(concepts)"
   ]
  },
  {
   "cell_type": "code",
   "execution_count": 11,
   "id": "0fa9a91c",
   "metadata": {},
   "outputs": [],
   "source": [
    "# Reference : https://gist.github.com/slowkow/7a7f61f495e3dbb7e3d767f97bd7304b\n",
    "def remove_emoji(string):\n",
    "    emoji_pattern = re.compile(\"[\"\n",
    "                           u\"\\U0001F600-\\U0001F64F\"  # emoticons\n",
    "                           u\"\\U0001F300-\\U0001F5FF\"  # symbols & pictographs\n",
    "                           u\"\\U0001F680-\\U0001F6FF\"  # transport & map symbols\n",
    "                           u\"\\U0001F1E0-\\U0001F1FF\"  # flags (iOS)\n",
    "                           u\"\\U00002702-\\U000027B0\"\n",
    "                           u\"\\U000024C2-\\U0001F251\"\n",
    "                           \"]+\", flags=re.UNICODE)\n",
    "    return emoji_pattern.sub(r'', string)"
   ]
  },
  {
   "cell_type": "code",
   "execution_count": 12,
   "id": "974b4fd4",
   "metadata": {},
   "outputs": [],
   "source": [
    "def create_sentiment_traits(category,number_of_rows,filename):\n",
    "    reviews_cat = reviews[reviews[\"Class Name\"] == category]\n",
    "    \n",
    "    reviews_cat[\"Review Text\"] = reviews_cat[\"Review Text\"].apply(lambda x: clean_text(x))\n",
    "    \n",
    "    r = reviews_cat[:number_of_rows]\n",
    "    \n",
    "    r[\"sentiment_overall\"] = r[\"Review Text\"].apply(lambda x: sentiment_overall(client, x, language))\n",
    "    \n",
    "    r[\"emotional_traits\"] = r[\"Review Text\"].apply(lambda x: emotional_traits(client, x, language))\n",
    "    \n",
    "    \n",
    "    taxonomy = \"behavioral-traits\"\n",
    "    r[\"behavioral_traits\"] = r[\"Review Text\"].apply(lambda x: emotional_traits(client, x, language,taxonomy))\n",
    "    \n",
    "    r[\"concepts\"] = r[\"Review Text\"].apply(lambda x: relevants(client, x, language))\n",
    "    \n",
    "    r = r.drop(columns =['Unnamed: 0'])\n",
    "    \n",
    "    r.to_csv(\"../output/\" + filename,index = False)"
   ]
  },
  {
   "cell_type": "code",
   "execution_count": 13,
   "id": "3393c571",
   "metadata": {},
   "outputs": [
    {
     "name": "stderr",
     "output_type": "stream",
     "text": [
      "<ipython-input-12-d02defc4befe>:4: SettingWithCopyWarning: \n",
      "A value is trying to be set on a copy of a slice from a DataFrame.\n",
      "Try using .loc[row_indexer,col_indexer] = value instead\n",
      "\n",
      "See the caveats in the documentation: https://pandas.pydata.org/pandas-docs/stable/user_guide/indexing.html#returning-a-view-versus-a-copy\n",
      "  reviews_cat[\"Review Text\"] = reviews_cat[\"Review Text\"].apply(lambda x: clean_text(x))\n",
      "<ipython-input-12-d02defc4befe>:8: SettingWithCopyWarning: \n",
      "A value is trying to be set on a copy of a slice from a DataFrame.\n",
      "Try using .loc[row_indexer,col_indexer] = value instead\n",
      "\n",
      "See the caveats in the documentation: https://pandas.pydata.org/pandas-docs/stable/user_guide/indexing.html#returning-a-view-versus-a-copy\n",
      "  r[\"sentiment_overall\"] = r[\"Review Text\"].apply(lambda x: sentiment_overall(client, x, language))\n",
      "<ipython-input-12-d02defc4befe>:10: SettingWithCopyWarning: \n",
      "A value is trying to be set on a copy of a slice from a DataFrame.\n",
      "Try using .loc[row_indexer,col_indexer] = value instead\n",
      "\n",
      "See the caveats in the documentation: https://pandas.pydata.org/pandas-docs/stable/user_guide/indexing.html#returning-a-view-versus-a-copy\n",
      "  r[\"emotional_traits\"] = r[\"Review Text\"].apply(lambda x: emotional_traits(client, x, language))\n",
      "<ipython-input-12-d02defc4befe>:14: SettingWithCopyWarning: \n",
      "A value is trying to be set on a copy of a slice from a DataFrame.\n",
      "Try using .loc[row_indexer,col_indexer] = value instead\n",
      "\n",
      "See the caveats in the documentation: https://pandas.pydata.org/pandas-docs/stable/user_guide/indexing.html#returning-a-view-versus-a-copy\n",
      "  r[\"behavioral_traits\"] = r[\"Review Text\"].apply(lambda x: emotional_traits(client, x, language,taxonomy))\n",
      "<ipython-input-12-d02defc4befe>:16: SettingWithCopyWarning: \n",
      "A value is trying to be set on a copy of a slice from a DataFrame.\n",
      "Try using .loc[row_indexer,col_indexer] = value instead\n",
      "\n",
      "See the caveats in the documentation: https://pandas.pydata.org/pandas-docs/stable/user_guide/indexing.html#returning-a-view-versus-a-copy\n",
      "  r[\"concepts\"] = r[\"Review Text\"].apply(lambda x: relevants(client, x, language))\n"
     ]
    }
   ],
   "source": [
    "create_sentiment_traits(\"Dresses\",500,\"dress_sentiment_traits.csv\")"
   ]
  },
  {
   "cell_type": "code",
   "execution_count": null,
   "id": "0a29e7d4",
   "metadata": {},
   "outputs": [],
   "source": [
    "create_sentiment_traits(\"Intimates\",500,\"intimates_sentiment_traits.csv\")"
   ]
  },
  {
   "cell_type": "code",
   "execution_count": null,
   "id": "5b12e244",
   "metadata": {},
   "outputs": [],
   "source": [
    "create_sentiment_traits(\"Pants\",500,\"pants_sentiment_traits.csv\")"
   ]
  },
  {
   "cell_type": "code",
   "execution_count": null,
   "id": "32a9a9fa",
   "metadata": {},
   "outputs": [],
   "source": [
    "create_sentiment_traits(\"Jeans\",500,\"jeans_sentiment_traits.csv\")"
   ]
  },
  {
   "cell_type": "code",
   "execution_count": null,
   "id": "0a22a177",
   "metadata": {},
   "outputs": [],
   "source": [
    "create_sentiment_traits(\"Swim\",500,\"swim_sentiment_traits.csv\")"
   ]
  },
  {
   "cell_type": "code",
   "execution_count": null,
   "id": "c88a04d1",
   "metadata": {},
   "outputs": [],
   "source": [
    "create_sentiment_traits(\"Blouses\",500,\"blouses_sentiment_traits.csv\")"
   ]
  },
  {
   "cell_type": "code",
   "execution_count": null,
   "id": "aad896c6",
   "metadata": {},
   "outputs": [],
   "source": [
    "create_sentiment_traits(\"Knits\",500,\"knits_sentiment_traits.csv\")"
   ]
  },
  {
   "cell_type": "code",
   "execution_count": null,
   "id": "9491514c",
   "metadata": {},
   "outputs": [],
   "source": [
    "create_sentiment_traits(\"Knits\",500,\"knits_sentiment_traits.csv\")"
   ]
  },
  {
   "cell_type": "code",
   "execution_count": null,
   "id": "b3fda5da",
   "metadata": {},
   "outputs": [],
   "source": [
    "create_sentiment_traits(\"Outerwear\",500,\"outerwear_sentiment_traits.csv\")"
   ]
  },
  {
   "cell_type": "code",
   "execution_count": null,
   "id": "31e772f9",
   "metadata": {},
   "outputs": [],
   "source": [
    "create_sentiment_traits(\"Lounge\",500,\"lounge_sentiment_traits.csv\")"
   ]
  },
  {
   "cell_type": "code",
   "execution_count": null,
   "id": "8db072cb",
   "metadata": {},
   "outputs": [],
   "source": [
    "create_sentiment_traits(\"Sweaters\",500,\"sweaters_sentiment_traits.csv\")"
   ]
  },
  {
   "cell_type": "code",
   "execution_count": null,
   "id": "c82bb29c",
   "metadata": {},
   "outputs": [],
   "source": [
    "create_sentiment_traits(\"Sweaters\",500,\"sweaters_sentiment_traits.csv\")"
   ]
  }
 ],
 "metadata": {
  "kernelspec": {
   "display_name": "Python 3",
   "language": "python",
   "name": "python3"
  },
  "language_info": {
   "codemirror_mode": {
    "name": "ipython",
    "version": 3
   },
   "file_extension": ".py",
   "mimetype": "text/x-python",
   "name": "python",
   "nbconvert_exporter": "python",
   "pygments_lexer": "ipython3",
   "version": "3.8.8"
  }
 },
 "nbformat": 4,
 "nbformat_minor": 5
}
